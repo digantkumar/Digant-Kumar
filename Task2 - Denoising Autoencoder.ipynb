{
  "nbformat": 4,
  "nbformat_minor": 0,
  "metadata": {
    "colab": {
      "name": "Task2.ipynb",
      "provenance": [],
      "collapsed_sections": [],
      "authorship_tag": "ABX9TyMQmbEd4ocE5cdxiTodHJj2",
      "include_colab_link": true
    },
    "kernelspec": {
      "name": "python3",
      "display_name": "Python 3"
    },
    "accelerator": "GPU"
  },
  "cells": [
    {
      "cell_type": "markdown",
      "metadata": {
        "id": "view-in-github",
        "colab_type": "text"
      },
      "source": [
        "<a href=\"https://colab.research.google.com/github/digantkumar/Digant-Kumar/blob/master/Task2%20-%20Denoising%20Autoencoder.ipynb\" target=\"_parent\"><img src=\"https://colab.research.google.com/assets/colab-badge.svg\" alt=\"Open In Colab\"/></a>"
      ]
    },
    {
      "cell_type": "markdown",
      "metadata": {
        "id": "W1JIKSwrds7B",
        "colab_type": "text"
      },
      "source": [
        "# **TASK 2 - AUTOENCODER DENOISING**"
      ]
    },
    {
      "cell_type": "markdown",
      "metadata": {
        "id": "UoVgcQvGZYgs",
        "colab_type": "text"
      },
      "source": [
        "### **AUTOENCODER BASE MODEL (GIVEN)**"
      ]
    },
    {
      "cell_type": "code",
      "metadata": {
        "id": "gCMwqHroehUe",
        "colab_type": "code",
        "colab": {}
      },
      "source": [
        "#################################################################################################\n",
        "#########                        Autoencoder Base Model                                  ########\n",
        "#################################################################################################\n",
        "\n",
        "import numpy as np\n",
        "import matplotlib.pyplot as plt\n",
        "import tensorflow as tf\n",
        "from tensorflow.keras.datasets import mnist\n",
        "\n",
        "class Encoder(tf.keras.layers.Layer):\n",
        "    def __init__(self, intermediate_dim):\n",
        "        super(Encoder, self).__init__()\n",
        "        self.hidden_layer = tf.keras.layers.Dense(units=intermediate_dim, activation=tf.nn.relu)\n",
        "        self.output_layer = tf.keras.layers.Dense(units=intermediate_dim, activation=tf.nn.relu)\n",
        "    \n",
        "    def call(self, input_features):\n",
        "        activation = self.hidden_layer(input_features)\n",
        "        return self.output_layer(activation)"
      ],
      "execution_count": 0,
      "outputs": []
    },
    {
      "cell_type": "code",
      "metadata": {
        "id": "hkww1ee-ehQx",
        "colab_type": "code",
        "colab": {}
      },
      "source": [
        "\n",
        "class Decoder(tf.keras.layers.Layer):\n",
        "    def __init__(self, intermediate_dim, original_dim):\n",
        "        super(Decoder, self).__init__()\n",
        "        self.hidden_layer = tf.keras.layers.Dense(units=intermediate_dim, activation=tf.nn.relu)\n",
        "        self.output_layer = tf.keras.layers.Dense(units=original_dim, activation=tf.nn.relu)\n",
        "  \n",
        "    def call(self, code):\n",
        "        activation = self.hidden_layer(code)\n",
        "        return self.output_layer(activation)"
      ],
      "execution_count": 0,
      "outputs": []
    },
    {
      "cell_type": "code",
      "metadata": {
        "id": "0mtBTiosehNx",
        "colab_type": "code",
        "colab": {}
      },
      "source": [
        "class Autoencoder(tf.keras.Model):\n",
        "  def __init__(self, intermediate_dim, original_dim):\n",
        "    super(Autoencoder, self).__init__()\n",
        "    self.loss = []\n",
        "    self.encoder = Encoder(intermediate_dim=intermediate_dim)\n",
        "    self.decoder = Decoder(intermediate_dim=intermediate_dim, original_dim=original_dim)\n",
        "\n",
        "  def call(self, input_features):\n",
        "    code = self.encoder(input_features)\n",
        "    reconstructed = self.decoder(code)\n",
        "    return reconstructed"
      ],
      "execution_count": 0,
      "outputs": []
    },
    {
      "cell_type": "code",
      "metadata": {
        "id": "MU1iM3GxehLc",
        "colab_type": "code",
        "colab": {}
      },
      "source": [
        "def loss(preds, real):\n",
        "  return tf.reduce_mean(tf.square(tf.subtract(preds, real)))"
      ],
      "execution_count": 0,
      "outputs": []
    },
    {
      "cell_type": "code",
      "metadata": {
        "id": "GmWpblCGehHV",
        "colab_type": "code",
        "colab": {}
      },
      "source": [
        "def train(loss, model, opt, original):\n",
        "  with tf.GradientTape() as tape:\n",
        "    preds = model(original)\n",
        "    reconstruction_error = loss(preds, original)\n",
        "  gradients = tape.gradient(reconstruction_error, model.trainable_variables)\n",
        "  gradient_variables = zip(gradients, model.trainable_variables)\n",
        "  opt.apply_gradients(gradient_variables)\n",
        "  \n",
        "  return reconstruction_error"
      ],
      "execution_count": 0,
      "outputs": []
    },
    {
      "cell_type": "code",
      "metadata": {
        "id": "NbcAqu81ehEy",
        "colab_type": "code",
        "colab": {}
      },
      "source": [
        "\n",
        "def train_loop(model, opt, loss, dataset, epochs):\n",
        "  for epoch in range(epochs):\n",
        "    epoch_loss = 0\n",
        "    for step, batch_features in enumerate(dataset):\n",
        "      loss_values = train(loss, model, opt, batch_features)\n",
        "      epoch_loss += loss_values\n",
        "    model.loss.append(epoch_loss)\n",
        "    print('Epoch {}/{}. Loss: {}'.format(epoch + 1, epochs, epoch_loss.numpy()))"
      ],
      "execution_count": 0,
      "outputs": []
    },
    {
      "cell_type": "code",
      "metadata": {
        "id": "TJECUNWHehBE",
        "colab_type": "code",
        "colab": {}
      },
      "source": [
        "from keras.datasets import mnist\n",
        "import numpy as np\n",
        "\n",
        "(x_train, _), (x_test, _) = mnist.load_data()\n",
        "\n",
        "x_train = x_train.astype('float32') / 255.\n",
        "x_test = x_test.astype('float32') / 255.\n",
        "x_train = np.reshape(x_train, (x_train.shape[0], 784))\n",
        "x_test = np.reshape(x_test, (x_test.shape[0], 784))\n",
        "\n",
        "# Introduce noise with a probability factor of 0.5\n",
        "noise_factor = 0.5\n",
        "x_train_noisy = x_train + noise_factor + np.random.normal(loc=0.0, scale=1.0, size=x_train.shape)\n",
        "x_test_noisy = x_test + noise_factor + np.random.normal(loc=0.0, scale=1.0, size=x_test.shape)\n",
        "\n",
        "x_train_noisy = np.clip(x_train_noisy, 0., 1.)\n",
        "x_test_noisy = np.clip(x_test_noisy, 0., 1.)\n",
        "\n",
        "x_train_noisy = np.reshape(x_train_noisy, (x_train_noisy.shape[0], 784))\n",
        "x_test_noisy = np.reshape(x_test_noisy, (x_test_noisy.shape[0], 784))\n",
        "x_train_noisy = x_train_noisy.astype('float32')\n",
        "x_test_noisy = x_test_noisy.astype('float32')\n",
        "training_dataset = tf.data.Dataset.from_tensor_slices(x_train_noisy).batch(256)"
      ],
      "execution_count": 0,
      "outputs": []
    },
    {
      "cell_type": "code",
      "metadata": {
        "id": "f1Og31steg92",
        "colab_type": "code",
        "colab": {
          "base_uri": "https://localhost:8080/",
          "height": 1000
        },
        "outputId": "0601d62c-8081-4958-c65a-6750933e5f31"
      },
      "source": [
        "model = Autoencoder(intermediate_dim=128, original_dim=784)\n",
        "opt = tf.keras.optimizers.Adam(learning_rate=1e-2)\n",
        "\n",
        "train_loop(model, opt, loss, training_dataset, 100)"
      ],
      "execution_count": 45,
      "outputs": [
        {
          "output_type": "stream",
          "text": [
            "Epoch 1/100. Loss: 105.57099914550781\n",
            "Epoch 2/100. Loss: 48.3766975402832\n",
            "Epoch 3/100. Loss: 48.124053955078125\n",
            "Epoch 4/100. Loss: 47.4211540222168\n",
            "Epoch 5/100. Loss: 47.255027770996094\n",
            "Epoch 6/100. Loss: 47.24332809448242\n",
            "Epoch 7/100. Loss: 47.23770523071289\n",
            "Epoch 8/100. Loss: 47.23136520385742\n",
            "Epoch 9/100. Loss: 47.22620391845703\n",
            "Epoch 10/100. Loss: 47.219879150390625\n",
            "Epoch 11/100. Loss: 47.10108184814453\n",
            "Epoch 12/100. Loss: 46.999202728271484\n",
            "Epoch 13/100. Loss: 46.80274963378906\n",
            "Epoch 14/100. Loss: 46.73468017578125\n",
            "Epoch 15/100. Loss: 46.724937438964844\n",
            "Epoch 16/100. Loss: 46.613765716552734\n",
            "Epoch 17/100. Loss: 46.107276916503906\n",
            "Epoch 18/100. Loss: 45.794734954833984\n",
            "Epoch 19/100. Loss: 45.721248626708984\n",
            "Epoch 20/100. Loss: 45.66856384277344\n",
            "Epoch 21/100. Loss: 45.565120697021484\n",
            "Epoch 22/100. Loss: 45.558876037597656\n",
            "Epoch 23/100. Loss: 45.396636962890625\n",
            "Epoch 24/100. Loss: 45.22271728515625\n",
            "Epoch 25/100. Loss: 45.22117614746094\n",
            "Epoch 26/100. Loss: 45.22273635864258\n",
            "Epoch 27/100. Loss: 45.219337463378906\n",
            "Epoch 28/100. Loss: 45.16318893432617\n",
            "Epoch 29/100. Loss: 45.14468002319336\n",
            "Epoch 30/100. Loss: 45.11256408691406\n",
            "Epoch 31/100. Loss: 44.970401763916016\n",
            "Epoch 32/100. Loss: 44.88245391845703\n",
            "Epoch 33/100. Loss: 44.88240051269531\n",
            "Epoch 34/100. Loss: 44.76481628417969\n",
            "Epoch 35/100. Loss: 44.721961975097656\n",
            "Epoch 36/100. Loss: 44.71919250488281\n",
            "Epoch 37/100. Loss: 44.71762466430664\n",
            "Epoch 38/100. Loss: 44.716835021972656\n",
            "Epoch 39/100. Loss: 44.714317321777344\n",
            "Epoch 40/100. Loss: 44.71415710449219\n",
            "Epoch 41/100. Loss: 44.713958740234375\n",
            "Epoch 42/100. Loss: 44.71714401245117\n",
            "Epoch 43/100. Loss: 44.71406936645508\n",
            "Epoch 44/100. Loss: 44.71451950073242\n",
            "Epoch 45/100. Loss: 44.71296310424805\n",
            "Epoch 46/100. Loss: 44.71101379394531\n",
            "Epoch 47/100. Loss: 44.70998764038086\n",
            "Epoch 48/100. Loss: 44.65812683105469\n",
            "Epoch 49/100. Loss: 44.54423522949219\n",
            "Epoch 50/100. Loss: 44.53441619873047\n",
            "Epoch 51/100. Loss: 44.460121154785156\n",
            "Epoch 52/100. Loss: 44.45881652832031\n",
            "Epoch 53/100. Loss: 44.45829772949219\n",
            "Epoch 54/100. Loss: 44.4571418762207\n",
            "Epoch 55/100. Loss: 44.4553337097168\n",
            "Epoch 56/100. Loss: 44.45424270629883\n",
            "Epoch 57/100. Loss: 44.45335006713867\n",
            "Epoch 58/100. Loss: 44.4532585144043\n",
            "Epoch 59/100. Loss: 44.45322036743164\n",
            "Epoch 60/100. Loss: 44.452571868896484\n",
            "Epoch 61/100. Loss: 44.45280075073242\n",
            "Epoch 62/100. Loss: 44.45231628417969\n",
            "Epoch 63/100. Loss: 44.45224380493164\n",
            "Epoch 64/100. Loss: 44.45177459716797\n",
            "Epoch 65/100. Loss: 44.451622009277344\n",
            "Epoch 66/100. Loss: 44.45098114013672\n",
            "Epoch 67/100. Loss: 44.4516716003418\n",
            "Epoch 68/100. Loss: 44.4512939453125\n",
            "Epoch 69/100. Loss: 44.45273208618164\n",
            "Epoch 70/100. Loss: 44.45308303833008\n",
            "Epoch 71/100. Loss: 44.45152282714844\n",
            "Epoch 72/100. Loss: 44.45099639892578\n",
            "Epoch 73/100. Loss: 44.45085525512695\n",
            "Epoch 74/100. Loss: 44.45237731933594\n",
            "Epoch 75/100. Loss: 44.4534797668457\n",
            "Epoch 76/100. Loss: 44.4522819519043\n",
            "Epoch 77/100. Loss: 44.45170593261719\n",
            "Epoch 78/100. Loss: 44.4503288269043\n",
            "Epoch 79/100. Loss: 44.44918441772461\n",
            "Epoch 80/100. Loss: 44.453941345214844\n",
            "Epoch 81/100. Loss: 44.45170211791992\n",
            "Epoch 82/100. Loss: 44.451412200927734\n",
            "Epoch 83/100. Loss: 44.45030975341797\n",
            "Epoch 84/100. Loss: 44.4494514465332\n",
            "Epoch 85/100. Loss: 44.44957733154297\n",
            "Epoch 86/100. Loss: 44.45094680786133\n",
            "Epoch 87/100. Loss: 44.45033645629883\n",
            "Epoch 88/100. Loss: 44.44981002807617\n",
            "Epoch 89/100. Loss: 44.450016021728516\n",
            "Epoch 90/100. Loss: 44.45008087158203\n",
            "Epoch 91/100. Loss: 44.45337677001953\n",
            "Epoch 92/100. Loss: 44.45041275024414\n",
            "Epoch 93/100. Loss: 44.45121765136719\n",
            "Epoch 94/100. Loss: 44.45010757446289\n",
            "Epoch 95/100. Loss: 44.4503059387207\n",
            "Epoch 96/100. Loss: 44.450172424316406\n",
            "Epoch 97/100. Loss: 44.45081329345703\n",
            "Epoch 98/100. Loss: 44.45042037963867\n",
            "Epoch 99/100. Loss: 44.449440002441406\n",
            "Epoch 100/100. Loss: 44.448246002197266\n"
          ],
          "name": "stdout"
        }
      ]
    },
    {
      "cell_type": "code",
      "metadata": {
        "id": "TYD9RLnEegw3",
        "colab_type": "code",
        "colab": {
          "base_uri": "https://localhost:8080/",
          "height": 248
        },
        "outputId": "22d2a89b-32e7-40e9-b254-c26791be64d7"
      },
      "source": [
        "number = 10  # how many digits we will display\n",
        "plt.figure(figsize=(20, 4))\n",
        "for index in range(number):\n",
        "    # display original\n",
        "    ax = plt.subplot(2, number, index + 1)\n",
        "    plt.imshow(x_test_noisy[index].reshape(28, 28))\n",
        "    plt.gray()\n",
        "    ax.get_xaxis().set_visible(False)\n",
        "    ax.get_yaxis().set_visible(False)\n",
        "\n",
        "    # display reconstruction\n",
        "    ax = plt.subplot(2, number, index + 1 + number)\n",
        "    plt.imshow(model(x_test_noisy)[index].numpy().reshape(28, 28))\n",
        "    plt.gray()\n",
        "    ax.get_xaxis().set_visible(False)\n",
        "    ax.get_yaxis().set_visible(False)\n",
        "plt.show()"
      ],
      "execution_count": 47,
      "outputs": [
        {
          "output_type": "display_data",
          "data": {
            "image/png": "[encoded data removed]",
            "text/plain": [
              "<Figure size 1440x288 with 20 Axes>"
            ]
          },
          "metadata": {
            "tags": [],
            "needs_background": "light"
          }
        }
      ]
    },
    {
      "cell_type": "markdown",
      "metadata": {
        "id": "DNV3eqElXlIV",
        "colab_type": "text"
      },
      "source": [
        "### **AUTOENCODER BASE MODEL + 2 HIDDEN LAYERS**"
      ]
    },
    {
      "cell_type": "code",
      "metadata": {
        "id": "XCjengpZllAd",
        "colab_type": "code",
        "colab": {}
      },
      "source": [
        "#################################################################################################\n",
        "#########               Base Model + 2 hidden layer (dimension change)                   ########\n",
        "#################################################################################################\n",
        "\n",
        "class Encoder(tf.keras.layers.Layer):\n",
        "    def __init__(self, intermediate_dim):\n",
        "        super(Encoder, self).__init__()\n",
        "        self.hidden_layer_1 = tf.keras.layers.Dense(units=intermediate_dim, activation=tf.nn.relu)\n",
        "        self.hidden_layer_2 = tf.keras.layers.Dense(units=intermediate_dim/2, activation=tf.nn.relu)\n",
        "        self.hidden_layer_3 = tf.keras.layers.Dense(units=intermediate_dim/4, activation=tf.nn.relu)\n",
        "        self.output_layer = tf.keras.layers.Dense(units=intermediate_dim/4, activation=tf.nn.relu)\n",
        "    \n",
        "    def call(self, input_features):\n",
        "        hid_layer_1 = self.hidden_layer_1(input_features)\n",
        "        hid_layer_2 = self.hidden_layer_2(hid_layer_1)\n",
        "        activation = self.hidden_layer_3(hid_layer_2)\n",
        "        return self.output_layer(activation)"
      ],
      "execution_count": 0,
      "outputs": []
    },
    {
      "cell_type": "code",
      "metadata": {
        "id": "d_X_kDCClk44",
        "colab_type": "code",
        "colab": {}
      },
      "source": [
        "class Decoder(tf.keras.layers.Layer):\n",
        "    def __init__(self, intermediate_dim, original_dim):\n",
        "        super(Decoder, self).__init__()\n",
        "        self.hidden_layer_1 = tf.keras.layers.Dense(units=intermediate_dim/2, activation=tf.nn.relu)\n",
        "        self.hidden_layer_2 = tf.keras.layers.Dense(units=intermediate_dim, activation=tf.nn.relu)\n",
        "        self.output_layer = tf.keras.layers.Dense(units=original_dim, activation=tf.nn.relu)\n",
        "  \n",
        "    def call(self, code):\n",
        "        hid_layer_1 = self.hidden_layer_1(code)\n",
        "        activation = self.hidden_layer_2(hid_layer_1)\n",
        "        return self.output_layer(activation)"
      ],
      "execution_count": 0,
      "outputs": []
    },
    {
      "cell_type": "code",
      "metadata": {
        "id": "Ea3XQv5ElkxZ",
        "colab_type": "code",
        "colab": {}
      },
      "source": [
        "class Autoencoder(tf.keras.Model):\n",
        "  def __init__(self, intermediate_dim, original_dim):\n",
        "    super(Autoencoder, self).__init__()\n",
        "    self.loss = []\n",
        "    self.encoder = Encoder(intermediate_dim=intermediate_dim)\n",
        "    self.decoder = Decoder(intermediate_dim=intermediate_dim, original_dim=original_dim)\n",
        "\n",
        "  def call(self, input_features):\n",
        "    code = self.encoder(input_features)\n",
        "    reconstructed = self.decoder(code)\n",
        "    return reconstructed"
      ],
      "execution_count": 0,
      "outputs": []
    },
    {
      "cell_type": "code",
      "metadata": {
        "id": "K2NEu5BelknN",
        "colab_type": "code",
        "colab": {}
      },
      "source": [
        "def loss(preds, real):\n",
        "  return tf.reduce_mean(tf.square(tf.subtract(preds, real)))"
      ],
      "execution_count": 0,
      "outputs": []
    },
    {
      "cell_type": "code",
      "metadata": {
        "id": "qvOZDrsxmTEY",
        "colab_type": "code",
        "colab": {}
      },
      "source": [
        "def train(loss, model, opt, original):\n",
        "  with tf.GradientTape() as tape:\n",
        "    preds = model(original)\n",
        "    reconstruction_error = loss(preds, original)\n",
        "  gradients = tape.gradient(reconstruction_error, model.trainable_variables)\n",
        "  gradient_variables = zip(gradients, model.trainable_variables)\n",
        "  opt.apply_gradients(gradient_variables)\n",
        "  \n",
        "  return reconstruction_error"
      ],
      "execution_count": 0,
      "outputs": []
    },
    {
      "cell_type": "code",
      "metadata": {
        "id": "O7VRD2VOmS9D",
        "colab_type": "code",
        "colab": {}
      },
      "source": [
        "def train_loop(model, opt, loss, dataset, epochs):\n",
        "  for epoch in range(epochs):\n",
        "    epoch_loss = 0\n",
        "    for step, batch_features in enumerate(dataset):\n",
        "      loss_values = train(loss, model, opt, batch_features)\n",
        "      epoch_loss += loss_values\n",
        "    model.loss.append(epoch_loss)\n",
        "    print('Epoch {}/{}. Loss: {}'.format(epoch + 1, epochs, epoch_loss.numpy()))"
      ],
      "execution_count": 0,
      "outputs": []
    },
    {
      "cell_type": "code",
      "metadata": {
        "id": "7MpffLSamS2W",
        "colab_type": "code",
        "colab": {}
      },
      "source": [
        "from keras.datasets import mnist\n",
        "import numpy as np\n",
        "\n",
        "(x_train, _), (x_test, _) = mnist.load_data()\n",
        "\n",
        "x_train = x_train.astype('float32') / 255.\n",
        "x_test = x_test.astype('float32') / 255.\n",
        "x_train = np.reshape(x_train, (x_train.shape[0], 784))\n",
        "x_test = np.reshape(x_test, (x_test.shape[0], 784))\n",
        "\n",
        "# Introduce noise with a probability factor of 0.5\n",
        "noise_factor = 0.5\n",
        "x_train_noisy = x_train + noise_factor + np.random.normal(loc=0.0, scale=1.0, size=x_train.shape)\n",
        "x_test_noisy = x_test + noise_factor + np.random.normal(loc=0.0, scale=1.0, size=x_test.shape)\n",
        "\n",
        "x_train_noisy = np.clip(x_train_noisy, 0., 1.)\n",
        "x_test_noisy = np.clip(x_test_noisy, 0., 1.)\n",
        "\n",
        "x_train_noisy = np.reshape(x_train_noisy, (x_train_noisy.shape[0], 784))\n",
        "x_test_noisy = np.reshape(x_test_noisy, (x_test_noisy.shape[0], 784))\n",
        "x_train_noisy = x_train_noisy.astype('float32')\n",
        "x_test_noisy = x_test_noisy.astype('float32')\n",
        "training_dataset = tf.data.Dataset.from_tensor_slices(x_train_noisy).batch(256)"
      ],
      "execution_count": 0,
      "outputs": []
    },
    {
      "cell_type": "code",
      "metadata": {
        "id": "gp6UTxygmStu",
        "colab_type": "code",
        "colab": {
          "base_uri": "https://localhost:8080/",
          "height": 1000
        },
        "outputId": "13a10832-fcf5-4b6e-c8af-d5e98e405bc1"
      },
      "source": [
        "model = Autoencoder(intermediate_dim=128, original_dim=784)\n",
        "opt = tf.keras.optimizers.Adam(learning_rate=1e-2)\n",
        "\n",
        "train_loop(model, opt, loss, training_dataset, 100)"
      ],
      "execution_count": 55,
      "outputs": [
        {
          "output_type": "stream",
          "text": [
            "Epoch 1/100. Loss: 76.98675537109375\n",
            "Epoch 2/100. Loss: 49.273258209228516\n",
            "Epoch 3/100. Loss: 48.851829528808594\n",
            "Epoch 4/100. Loss: 48.351051330566406\n",
            "Epoch 5/100. Loss: 47.958003997802734\n",
            "Epoch 6/100. Loss: 47.44303894042969\n",
            "Epoch 7/100. Loss: 46.996337890625\n",
            "Epoch 8/100. Loss: 46.80586624145508\n",
            "Epoch 9/100. Loss: 46.71623611450195\n",
            "Epoch 10/100. Loss: 46.68053436279297\n",
            "Epoch 11/100. Loss: 46.427059173583984\n",
            "Epoch 12/100. Loss: 46.18227767944336\n",
            "Epoch 13/100. Loss: 45.96080017089844\n",
            "Epoch 14/100. Loss: 45.79850387573242\n",
            "Epoch 15/100. Loss: 45.50925064086914\n",
            "Epoch 16/100. Loss: 45.23340606689453\n",
            "Epoch 17/100. Loss: 45.022911071777344\n",
            "Epoch 18/100. Loss: 44.86599349975586\n",
            "Epoch 19/100. Loss: 44.66511535644531\n",
            "Epoch 20/100. Loss: 44.663665771484375\n",
            "Epoch 21/100. Loss: 44.63444137573242\n",
            "Epoch 22/100. Loss: 44.58666229248047\n",
            "Epoch 23/100. Loss: 44.59352111816406\n",
            "Epoch 24/100. Loss: 44.58400344848633\n",
            "Epoch 25/100. Loss: 44.51337432861328\n",
            "Epoch 26/100. Loss: 44.465972900390625\n",
            "Epoch 27/100. Loss: 44.43283462524414\n",
            "Epoch 28/100. Loss: 44.35576629638672\n",
            "Epoch 29/100. Loss: 44.33909606933594\n",
            "Epoch 30/100. Loss: 44.28880310058594\n",
            "Epoch 31/100. Loss: 44.2620849609375\n",
            "Epoch 32/100. Loss: 44.2669677734375\n",
            "Epoch 33/100. Loss: 44.25674057006836\n",
            "Epoch 34/100. Loss: 44.25455856323242\n",
            "Epoch 35/100. Loss: 44.25426483154297\n",
            "Epoch 36/100. Loss: 44.2353401184082\n",
            "Epoch 37/100. Loss: 44.05760955810547\n",
            "Epoch 38/100. Loss: 44.04291915893555\n",
            "Epoch 39/100. Loss: 43.9918327331543\n",
            "Epoch 40/100. Loss: 43.895774841308594\n",
            "Epoch 41/100. Loss: 43.84668731689453\n",
            "Epoch 42/100. Loss: 43.840721130371094\n",
            "Epoch 43/100. Loss: 43.841827392578125\n",
            "Epoch 44/100. Loss: 43.84145736694336\n",
            "Epoch 45/100. Loss: 43.843299865722656\n",
            "Epoch 46/100. Loss: 43.838375091552734\n",
            "Epoch 47/100. Loss: 43.8415641784668\n",
            "Epoch 48/100. Loss: 43.84260177612305\n",
            "Epoch 49/100. Loss: 43.842491149902344\n",
            "Epoch 50/100. Loss: 43.8375358581543\n",
            "Epoch 51/100. Loss: 43.81071472167969\n",
            "Epoch 52/100. Loss: 43.76343536376953\n",
            "Epoch 53/100. Loss: 43.770023345947266\n",
            "Epoch 54/100. Loss: 43.76087951660156\n",
            "Epoch 55/100. Loss: 43.761898040771484\n",
            "Epoch 56/100. Loss: 43.75818634033203\n",
            "Epoch 57/100. Loss: 43.75897979736328\n",
            "Epoch 58/100. Loss: 43.75809860229492\n",
            "Epoch 59/100. Loss: 43.76506042480469\n",
            "Epoch 60/100. Loss: 43.76307678222656\n",
            "Epoch 61/100. Loss: 43.7584342956543\n",
            "Epoch 62/100. Loss: 43.75755310058594\n",
            "Epoch 63/100. Loss: 43.757076263427734\n",
            "Epoch 64/100. Loss: 43.763267517089844\n",
            "Epoch 65/100. Loss: 43.76802444458008\n",
            "Epoch 66/100. Loss: 43.763938903808594\n",
            "Epoch 67/100. Loss: 43.763065338134766\n",
            "Epoch 68/100. Loss: 43.761959075927734\n",
            "Epoch 69/100. Loss: 43.76066970825195\n",
            "Epoch 70/100. Loss: 43.75718307495117\n",
            "Epoch 71/100. Loss: 43.75969696044922\n",
            "Epoch 72/100. Loss: 43.75691604614258\n",
            "Epoch 73/100. Loss: 43.75790786743164\n",
            "Epoch 74/100. Loss: 43.75948715209961\n",
            "Epoch 75/100. Loss: 43.76066970825195\n",
            "Epoch 76/100. Loss: 43.75533676147461\n",
            "Epoch 77/100. Loss: 43.753753662109375\n",
            "Epoch 78/100. Loss: 43.75564193725586\n",
            "Epoch 79/100. Loss: 43.757423400878906\n",
            "Epoch 80/100. Loss: 43.75586700439453\n",
            "Epoch 81/100. Loss: 43.75486755371094\n",
            "Epoch 82/100. Loss: 43.75591278076172\n",
            "Epoch 83/100. Loss: 43.754966735839844\n",
            "Epoch 84/100. Loss: 43.75462341308594\n",
            "Epoch 85/100. Loss: 43.75691223144531\n",
            "Epoch 86/100. Loss: 43.75754928588867\n",
            "Epoch 87/100. Loss: 43.755226135253906\n",
            "Epoch 88/100. Loss: 43.75532531738281\n",
            "Epoch 89/100. Loss: 43.75139236450195\n",
            "Epoch 90/100. Loss: 43.75305938720703\n",
            "Epoch 91/100. Loss: 43.75584411621094\n",
            "Epoch 92/100. Loss: 43.755279541015625\n",
            "Epoch 93/100. Loss: 43.754249572753906\n",
            "Epoch 94/100. Loss: 43.7548942565918\n",
            "Epoch 95/100. Loss: 43.754634857177734\n",
            "Epoch 96/100. Loss: 43.75659942626953\n",
            "Epoch 97/100. Loss: 43.76765441894531\n",
            "Epoch 98/100. Loss: 43.763675689697266\n",
            "Epoch 99/100. Loss: 43.75511932373047\n",
            "Epoch 100/100. Loss: 43.75481033325195\n"
          ],
          "name": "stdout"
        }
      ]
    },
    {
      "cell_type": "code",
      "metadata": {
        "id": "RkcNLcsTmShC",
        "colab_type": "code",
        "colab": {
          "base_uri": "https://localhost:8080/",
          "height": 248
        },
        "outputId": "f4bf8f5f-e619-4bc3-c0df-029a452419f2"
      },
      "source": [
        "number = 10  \n",
        "plt.figure(figsize=(20, 4))\n",
        "for index in range(number):\n",
        "    # display original\n",
        "    ax = plt.subplot(2, number, index + 1)\n",
        "    plt.imshow(x_test_noisy[index].reshape(28, 28))\n",
        "    plt.gray()\n",
        "    ax.get_xaxis().set_visible(False)\n",
        "    ax.get_yaxis().set_visible(False)\n",
        "\n",
        "    # display reconstruction\n",
        "    ax = plt.subplot(2, number, index + 1 + number)\n",
        "    plt.imshow(model(x_test_noisy)[index].numpy().reshape(28, 28))\n",
        "    plt.gray()\n",
        "    ax.get_xaxis().set_visible(False)\n",
        "    ax.get_yaxis().set_visible(False)\n",
        "plt.show()"
      ],
      "execution_count": 56,
      "outputs": [
        {
          "output_type": "display_data",
          "data": {
            "image/png": "[encoded data removed]",
            "text/plain": [
              "<Figure size 1440x288 with 20 Axes>"
            ]
          },
          "metadata": {
            "tags": [],
            "needs_background": "light"
          }
        }
      ]
    },
    {
      "cell_type": "markdown",
      "metadata": {
        "id": "hNCWwoQtItAL",
        "colab_type": "text"
      },
      "source": [
        "### **CNN BASIC MODEL**"
      ]
    },
    {
      "cell_type": "code",
      "metadata": {
        "id": "WA-4yTjzHEGq",
        "colab_type": "code",
        "colab": {}
      },
      "source": [
        "#################################################################################################\n",
        "#########                             CNN BASIC                                          ########\n",
        "#################################################################################################\n",
        "\n",
        "import numpy as np\n",
        "import matplotlib.pyplot as plt\n",
        "import tensorflow as tf\n",
        "from tensorflow.keras.datasets import mnist\n",
        "\n",
        "input_img = tf.keras.layers.Input(shape=(28, 28, 1)) # adapt this if using `channels_first` image data format\n",
        "\n",
        "x = tf.keras.layers.Conv2D(16, (3, 3), activation='relu', padding='same')(input_img)\n",
        "x = tf.keras.layers.MaxPooling2D((2, 2), padding='same')(x)\n",
        "x = tf.keras.layers.Conv2D(8, (3, 3), activation='relu', padding='same')(x)\n",
        "x = tf.keras.layers.MaxPooling2D((2, 2), padding='same')(x)\n",
        "x = tf.keras.layers.Conv2D(8, (3, 3), activation='relu', padding='same')(x)\n",
        "encoded = tf.keras.layers.MaxPooling2D((2, 2), padding='same')(x)\n",
        "\n",
        "# at this point the representation is (4, 4, 8) i.e. 128-dimensional\n",
        "\n",
        "x = tf.keras.layers.Conv2D(8, (3, 3), activation='relu', padding='same')(encoded)\n",
        "x = tf.keras.layers.UpSampling2D((2, 2))(x)\n",
        "x = tf.keras.layers.Conv2D(8, (3, 3), activation='relu', padding='same')(x)\n",
        "x = tf.keras.layers.UpSampling2D((2, 2))(x)\n",
        "x = tf.keras.layers.Conv2D(16, (3, 3), activation='relu')(x)\n",
        "x = tf.keras.layers.UpSampling2D((2, 2))(x)\n",
        "decoded = tf.keras.layers.Conv2D(1, (3, 3), activation='sigmoid', padding='same')(x)\n",
        "\n",
        "autoencoder = tf.keras.models.Model(input_img, decoded)\n",
        "autoencoder.compile(optimizer='adadelta', loss='binary_crossentropy')\n"
      ],
      "execution_count": 0,
      "outputs": []
    },
    {
      "cell_type": "code",
      "metadata": {
        "id": "-qEAG00qFwah",
        "colab_type": "code",
        "colab": {}
      },
      "source": [
        "from keras.datasets import mnist\n",
        "import numpy as np\n",
        "\n",
        "(x_train, _), (x_test, _) = mnist.load_data()\n",
        "\n",
        "x_train = x_train.astype('float32') / 255.\n",
        "x_test = x_test.astype('float32') / 255.\n",
        "x_train = np.reshape(x_train, (len(x_train), 28, 28, 1))\n",
        "x_test = np.reshape(x_test, (len(x_test), 28, 28, 1))\n",
        "\n",
        "# Introduce noise with a probability factor of 0.5\n",
        "noise_factor = 0.5\n",
        "x_train_noisy = x_train + noise_factor + np.random.normal(loc=0.0, scale=1.0, size=x_train.shape)\n",
        "x_test_noisy = x_test + noise_factor + np.random.normal(loc=0.0, scale=1.0, size=x_test.shape)\n",
        "\n",
        "x_train_noisy = np.clip(x_train_noisy, 0., 1.)\n",
        "x_test_noisy = np.clip(x_test_noisy, 0., 1.)\n"
      ],
      "execution_count": 0,
      "outputs": []
    },
    {
      "cell_type": "code",
      "metadata": {
        "id": "RO2VA4PgF4VR",
        "colab_type": "code",
        "outputId": "4a7d9200-0385-44bd-9689-40ddccf3b39c",
        "colab": {
          "base_uri": "https://localhost:8080/",
          "height": 1000
        }
      },
      "source": [
        "# This will train for 100 epochs\n",
        "autoencoder.fit(x_train_noisy, x_train, epochs=100, batch_size=128, \n",
        "                shuffle=True, validation_data=(x_test_noisy, x_test), \n",
        "                callbacks=[tf.keras.callbacks.TensorBoard(log_dir='./tmp/tb', histogram_freq=0, write_graph=False)])"
      ],
      "execution_count": 0,
      "outputs": [
        {
          "output_type": "stream",
          "text": [
            "Epoch 1/100\n",
            "469/469 [==============================] - 3s 6ms/step - loss: 0.7032 - val_loss: 0.7010\n",
            "Epoch 2/100\n",
            "469/469 [==============================] - 3s 6ms/step - loss: 0.6990 - val_loss: 0.6970\n",
            "Epoch 3/100\n",
            "469/469 [==============================] - 3s 6ms/step - loss: 0.6952 - val_loss: 0.6935\n",
            "Epoch 4/100\n",
            "469/469 [==============================] - 3s 6ms/step - loss: 0.6919 - val_loss: 0.6903\n",
            "Epoch 5/100\n",
            "469/469 [==============================] - 3s 6ms/step - loss: 0.6886 - val_loss: 0.6869\n",
            "Epoch 6/100\n",
            "469/469 [==============================] - 3s 6ms/step - loss: 0.6849 - val_loss: 0.6827\n",
            "Epoch 7/100\n",
            "469/469 [==============================] - 3s 6ms/step - loss: 0.6796 - val_loss: 0.6761\n",
            "Epoch 8/100\n",
            "469/469 [==============================] - 3s 6ms/step - loss: 0.6702 - val_loss: 0.6628\n",
            "Epoch 9/100\n",
            "469/469 [==============================] - 3s 6ms/step - loss: 0.6483 - val_loss: 0.6280\n",
            "Epoch 10/100\n",
            "469/469 [==============================] - 3s 6ms/step - loss: 0.5818 - val_loss: 0.5196\n",
            "Epoch 11/100\n",
            "469/469 [==============================] - 3s 6ms/step - loss: 0.4694 - val_loss: 0.4525\n",
            "Epoch 12/100\n",
            "469/469 [==============================] - 3s 6ms/step - loss: 0.4438 - val_loss: 0.4437\n",
            "Epoch 13/100\n",
            "469/469 [==============================] - 3s 6ms/step - loss: 0.4357 - val_loss: 0.4359\n",
            "Epoch 14/100\n",
            "469/469 [==============================] - 3s 6ms/step - loss: 0.4278 - val_loss: 0.4276\n",
            "Epoch 15/100\n",
            "469/469 [==============================] - 3s 6ms/step - loss: 0.4193 - val_loss: 0.4187\n",
            "Epoch 16/100\n",
            "469/469 [==============================] - 3s 6ms/step - loss: 0.4104 - val_loss: 0.4095\n",
            "Epoch 17/100\n",
            "469/469 [==============================] - 3s 6ms/step - loss: 0.4012 - val_loss: 0.4001\n",
            "Epoch 18/100\n",
            "469/469 [==============================] - 3s 6ms/step - loss: 0.3920 - val_loss: 0.3910\n",
            "Epoch 19/100\n",
            "469/469 [==============================] - 3s 6ms/step - loss: 0.3833 - val_loss: 0.3822\n",
            "Epoch 20/100\n",
            "469/469 [==============================] - 3s 6ms/step - loss: 0.3747 - val_loss: 0.3735\n",
            "Epoch 21/100\n",
            "469/469 [==============================] - 3s 6ms/step - loss: 0.3663 - val_loss: 0.3652\n",
            "Epoch 22/100\n",
            "469/469 [==============================] - 3s 6ms/step - loss: 0.3586 - val_loss: 0.3576\n",
            "Epoch 23/100\n",
            "469/469 [==============================] - 3s 6ms/step - loss: 0.3517 - val_loss: 0.3509\n",
            "Epoch 24/100\n",
            "469/469 [==============================] - 3s 6ms/step - loss: 0.3455 - val_loss: 0.3449\n",
            "Epoch 25/100\n",
            "469/469 [==============================] - 3s 6ms/step - loss: 0.3398 - val_loss: 0.3391\n",
            "Epoch 26/100\n",
            "469/469 [==============================] - 3s 6ms/step - loss: 0.3342 - val_loss: 0.3333\n",
            "Epoch 27/100\n",
            "469/469 [==============================] - 3s 6ms/step - loss: 0.3287 - val_loss: 0.3276\n",
            "Epoch 28/100\n",
            "469/469 [==============================] - 3s 6ms/step - loss: 0.3233 - val_loss: 0.3220\n",
            "Epoch 29/100\n",
            "469/469 [==============================] - 3s 6ms/step - loss: 0.3181 - val_loss: 0.3167\n",
            "Epoch 30/100\n",
            "469/469 [==============================] - 3s 6ms/step - loss: 0.3133 - val_loss: 0.3120\n",
            "Epoch 31/100\n",
            "469/469 [==============================] - 3s 6ms/step - loss: 0.3091 - val_loss: 0.3080\n",
            "Epoch 32/100\n",
            "469/469 [==============================] - 3s 6ms/step - loss: 0.3056 - val_loss: 0.3045\n",
            "Epoch 33/100\n",
            "469/469 [==============================] - 3s 6ms/step - loss: 0.3026 - val_loss: 0.3017\n",
            "Epoch 34/100\n",
            "469/469 [==============================] - 3s 6ms/step - loss: 0.3001 - val_loss: 0.2993\n",
            "Epoch 35/100\n",
            "469/469 [==============================] - 3s 6ms/step - loss: 0.2980 - val_loss: 0.2972\n",
            "Epoch 36/100\n",
            "469/469 [==============================] - 3s 6ms/step - loss: 0.2961 - val_loss: 0.2954\n",
            "Epoch 37/100\n",
            "469/469 [==============================] - 3s 6ms/step - loss: 0.2945 - val_loss: 0.2937\n",
            "Epoch 38/100\n",
            "469/469 [==============================] - 3s 6ms/step - loss: 0.2930 - val_loss: 0.2923\n",
            "Epoch 39/100\n",
            "469/469 [==============================] - 3s 6ms/step - loss: 0.2916 - val_loss: 0.2909\n",
            "Epoch 40/100\n",
            "469/469 [==============================] - 3s 6ms/step - loss: 0.2903 - val_loss: 0.2895\n",
            "Epoch 41/100\n",
            "469/469 [==============================] - 3s 6ms/step - loss: 0.2890 - val_loss: 0.2883\n",
            "Epoch 42/100\n",
            "469/469 [==============================] - 3s 6ms/step - loss: 0.2878 - val_loss: 0.2871\n",
            "Epoch 43/100\n",
            "469/469 [==============================] - 3s 6ms/step - loss: 0.2866 - val_loss: 0.2859\n",
            "Epoch 44/100\n",
            "469/469 [==============================] - 3s 6ms/step - loss: 0.2854 - val_loss: 0.2847\n",
            "Epoch 45/100\n",
            "469/469 [==============================] - 3s 6ms/step - loss: 0.2842 - val_loss: 0.2835\n",
            "Epoch 46/100\n",
            "469/469 [==============================] - 3s 6ms/step - loss: 0.2831 - val_loss: 0.2824\n",
            "Epoch 47/100\n",
            "469/469 [==============================] - 3s 6ms/step - loss: 0.2819 - val_loss: 0.2812\n",
            "Epoch 48/100\n",
            "469/469 [==============================] - 3s 6ms/step - loss: 0.2808 - val_loss: 0.2801\n",
            "Epoch 49/100\n",
            "469/469 [==============================] - 3s 6ms/step - loss: 0.2797 - val_loss: 0.2790\n",
            "Epoch 50/100\n",
            "469/469 [==============================] - 3s 6ms/step - loss: 0.2786 - val_loss: 0.2779\n",
            "Epoch 51/100\n",
            "469/469 [==============================] - 3s 6ms/step - loss: 0.2776 - val_loss: 0.2769\n",
            "Epoch 52/100\n",
            "469/469 [==============================] - 3s 6ms/step - loss: 0.2766 - val_loss: 0.2759\n",
            "Epoch 53/100\n",
            "469/469 [==============================] - 3s 6ms/step - loss: 0.2757 - val_loss: 0.2751\n",
            "Epoch 54/100\n",
            "469/469 [==============================] - 3s 6ms/step - loss: 0.2748 - val_loss: 0.2742\n",
            "Epoch 55/100\n",
            "469/469 [==============================] - 3s 7ms/step - loss: 0.2740 - val_loss: 0.2735\n",
            "Epoch 56/100\n",
            "469/469 [==============================] - 3s 6ms/step - loss: 0.2733 - val_loss: 0.2727\n",
            "Epoch 57/100\n",
            "469/469 [==============================] - 3s 6ms/step - loss: 0.2726 - val_loss: 0.2720\n",
            "Epoch 58/100\n",
            "469/469 [==============================] - 3s 6ms/step - loss: 0.2719 - val_loss: 0.2714\n",
            "Epoch 59/100\n",
            "469/469 [==============================] - 3s 6ms/step - loss: 0.2713 - val_loss: 0.2707\n",
            "Epoch 60/100\n",
            "469/469 [==============================] - 3s 6ms/step - loss: 0.2707 - val_loss: 0.2701\n",
            "Epoch 61/100\n",
            "469/469 [==============================] - 3s 6ms/step - loss: 0.2701 - val_loss: 0.2696\n",
            "Epoch 62/100\n",
            "469/469 [==============================] - 3s 6ms/step - loss: 0.2696 - val_loss: 0.2691\n",
            "Epoch 63/100\n",
            "469/469 [==============================] - 3s 6ms/step - loss: 0.2691 - val_loss: 0.2686\n",
            "Epoch 64/100\n",
            "469/469 [==============================] - 3s 6ms/step - loss: 0.2686 - val_loss: 0.2681\n",
            "Epoch 65/100\n",
            "469/469 [==============================] - 3s 6ms/step - loss: 0.2681 - val_loss: 0.2676\n",
            "Epoch 66/100\n",
            "469/469 [==============================] - 3s 6ms/step - loss: 0.2677 - val_loss: 0.2672\n",
            "Epoch 67/100\n",
            "469/469 [==============================] - 3s 6ms/step - loss: 0.2673 - val_loss: 0.2668\n",
            "Epoch 68/100\n",
            "469/469 [==============================] - 3s 6ms/step - loss: 0.2669 - val_loss: 0.2665\n",
            "Epoch 69/100\n",
            "469/469 [==============================] - 3s 6ms/step - loss: 0.2666 - val_loss: 0.2661\n",
            "Epoch 70/100\n",
            "469/469 [==============================] - 3s 6ms/step - loss: 0.2662 - val_loss: 0.2658\n",
            "Epoch 71/100\n",
            "469/469 [==============================] - 3s 6ms/step - loss: 0.2659 - val_loss: 0.2655\n",
            "Epoch 72/100\n",
            "469/469 [==============================] - 3s 6ms/step - loss: 0.2656 - val_loss: 0.2652\n",
            "Epoch 73/100\n",
            "469/469 [==============================] - 3s 6ms/step - loss: 0.2654 - val_loss: 0.2650\n",
            "Epoch 74/100\n",
            "469/469 [==============================] - 3s 6ms/step - loss: 0.2651 - val_loss: 0.2647\n",
            "Epoch 75/100\n",
            "469/469 [==============================] - 3s 6ms/step - loss: 0.2649 - val_loss: 0.2644\n",
            "Epoch 76/100\n",
            "469/469 [==============================] - 3s 6ms/step - loss: 0.2646 - val_loss: 0.2642\n",
            "Epoch 77/100\n",
            "469/469 [==============================] - 3s 6ms/step - loss: 0.2644 - val_loss: 0.2640\n",
            "Epoch 78/100\n",
            "469/469 [==============================] - 3s 6ms/step - loss: 0.2641 - val_loss: 0.2637\n",
            "Epoch 79/100\n",
            "469/469 [==============================] - 3s 6ms/step - loss: 0.2639 - val_loss: 0.2635\n",
            "Epoch 80/100\n",
            "469/469 [==============================] - 3s 6ms/step - loss: 0.2637 - val_loss: 0.2633\n",
            "Epoch 81/100\n",
            "469/469 [==============================] - 3s 6ms/step - loss: 0.2635 - val_loss: 0.2631\n",
            "Epoch 82/100\n",
            "469/469 [==============================] - 3s 6ms/step - loss: 0.2633 - val_loss: 0.2629\n",
            "Epoch 83/100\n",
            "469/469 [==============================] - 3s 6ms/step - loss: 0.2631 - val_loss: 0.2626\n",
            "Epoch 84/100\n",
            "469/469 [==============================] - 3s 6ms/step - loss: 0.2629 - val_loss: 0.2624\n",
            "Epoch 85/100\n",
            "469/469 [==============================] - 3s 6ms/step - loss: 0.2626 - val_loss: 0.2622\n",
            "Epoch 86/100\n",
            "469/469 [==============================] - 3s 6ms/step - loss: 0.2624 - val_loss: 0.2620\n",
            "Epoch 87/100\n",
            "469/469 [==============================] - 3s 6ms/step - loss: 0.2622 - val_loss: 0.2618\n",
            "Epoch 88/100\n",
            "469/469 [==============================] - 3s 6ms/step - loss: 0.2621 - val_loss: 0.2616\n",
            "Epoch 89/100\n",
            "469/469 [==============================] - 3s 6ms/step - loss: 0.2619 - val_loss: 0.2614\n",
            "Epoch 90/100\n",
            "469/469 [==============================] - 3s 6ms/step - loss: 0.2617 - val_loss: 0.2612\n",
            "Epoch 91/100\n",
            "469/469 [==============================] - 3s 6ms/step - loss: 0.2615 - val_loss: 0.2610\n",
            "Epoch 92/100\n",
            "469/469 [==============================] - 3s 6ms/step - loss: 0.2613 - val_loss: 0.2608\n",
            "Epoch 93/100\n",
            "469/469 [==============================] - 3s 6ms/step - loss: 0.2611 - val_loss: 0.2606\n",
            "Epoch 94/100\n",
            "469/469 [==============================] - 3s 6ms/step - loss: 0.2609 - val_loss: 0.2604\n",
            "Epoch 95/100\n",
            "469/469 [==============================] - 3s 6ms/step - loss: 0.2607 - val_loss: 0.2602\n",
            "Epoch 96/100\n",
            "469/469 [==============================] - 3s 6ms/step - loss: 0.2605 - val_loss: 0.2600\n",
            "Epoch 97/100\n",
            "469/469 [==============================] - 3s 6ms/step - loss: 0.2603 - val_loss: 0.2598\n",
            "Epoch 98/100\n",
            "469/469 [==============================] - 3s 6ms/step - loss: 0.2601 - val_loss: 0.2596\n",
            "Epoch 99/100\n",
            "469/469 [==============================] - 3s 6ms/step - loss: 0.2599 - val_loss: 0.2594\n",
            "Epoch 100/100\n",
            "469/469 [==============================] - 3s 6ms/step - loss: 0.2597 - val_loss: 0.2592\n"
          ],
          "name": "stdout"
        },
        {
          "output_type": "execute_result",
          "data": {
            "text/plain": [
              "<tensorflow.python.keras.callbacks.History at 0x7fe5bb31c710>"
            ]
          },
          "metadata": {
            "tags": []
          },
          "execution_count": 46
        }
      ]
    },
    {
      "cell_type": "code",
      "metadata": {
        "id": "PkjNFDzbRWJ_",
        "colab_type": "code",
        "outputId": "a692ab81-d574-4380-8e54-6eb6e0cbd132",
        "colab": {
          "base_uri": "https://localhost:8080/",
          "height": 248
        }
      },
      "source": [
        "decoded_imgs = autoencoder.predict(x_test_noisy)\n",
        "\n",
        "n = 10\n",
        "plt.figure(figsize=(20, 4))\n",
        "for i in range(n):\n",
        "    # display original\n",
        "    ax = plt.subplot(2, n, i+1)\n",
        "    plt.imshow(x_test_noisy[i].reshape(28, 28))\n",
        "    plt.gray()\n",
        "    ax.get_xaxis().set_visible(False)\n",
        "    ax.get_yaxis().set_visible(False)\n",
        "\n",
        "    # display reconstruction\n",
        "    ax = plt.subplot(2, n, i + 1 + n)\n",
        "    plt.imshow(decoded_imgs[i].reshape(28, 28))\n",
        "    plt.gray()\n",
        "    ax.get_xaxis().set_visible(False)\n",
        "    ax.get_yaxis().set_visible(False)\n",
        "plt.show()"
      ],
      "execution_count": 0,
      "outputs": [
        {
          "output_type": "display_data",
          "data": {
            "image/png": "[encoded data removed]",
            "text/plain": [
              "<Figure size 1440x288 with 20 Axes>"
            ]
          },
          "metadata": {
            "tags": [],
            "needs_background": "light"
          }
        }
      ]
    },
    {
      "cell_type": "markdown",
      "metadata": {
        "id": "I42R6xsrMW5a",
        "colab_type": "text"
      },
      "source": [
        "### **CNN MODEL OPTIMIZED**"
      ]
    },
    {
      "cell_type": "code",
      "metadata": {
        "id": "K6NoPoswMawB",
        "colab_type": "code",
        "colab": {}
      },
      "source": [
        "\n",
        "#################################################################################################\n",
        "#########                        CNN MODEL OPTIMIZED                                     ########\n",
        "#################################################################################################\n",
        "\n",
        "input_img = tf.keras.layers.Input(shape=(28, 28, 1)) # adapt this if using `channels_first` image data format\n",
        "\n",
        "x = tf.keras.layers.Conv2D(16, (5, 5), activation='relu', padding='same')(input_img)\n",
        "x = tf.keras.layers.BatchNormalization()(x)\n",
        "x = tf.keras.layers.MaxPooling2D((2, 2), padding='same')(x)\n",
        "x = tf.keras.layers.Conv2D(8, (5, 5), activation='relu', padding='same')(x)\n",
        "x = tf.keras.layers.BatchNormalization()(x)\n",
        "x = tf.keras.layers.MaxPooling2D((2, 2), padding='same')(x)\n",
        "x = tf.keras.layers.Conv2D(8, (5, 5), activation='relu', padding='same')(x)\n",
        "x = tf.keras.layers.BatchNormalization()(x)\n",
        "x = tf.keras.layers.Dense(units = 16, activation='relu')(x)\n",
        "encoded = tf.keras.layers.MaxPooling2D((2, 2), padding='same')(x)\n",
        "\n",
        "# at this point the representation is (4, 4, 8) i.e. 128-dimensional\n",
        "\n",
        "x = tf.keras.layers.Conv2D(8, (5, 5), activation='relu', padding='same')(encoded)\n",
        "x = tf.keras.layers.BatchNormalization()(x)\n",
        "x = tf.keras.layers.UpSampling2D((2, 2))(x)\n",
        "x = tf.keras.layers.Conv2D(8, (5, 5), activation='relu', padding='same')(x)\n",
        "x = tf.keras.layers.BatchNormalization()(x)\n",
        "x = tf.keras.layers.UpSampling2D((2, 2))(x)\n",
        "x = tf.keras.layers.Conv2D(16, (3, 3), activation='relu')(x)\n",
        "x = tf.keras.layers.BatchNormalization()(x)\n",
        "x = tf.keras.layers.UpSampling2D((2, 2))(x)\n",
        "x = tf.keras.layers.Dense(units = 16, activation='relu')(x)\n",
        "decoded = tf.keras.layers.Conv2D(1, (3, 3), activation='sigmoid', padding='same')(x)\n",
        "\n",
        "autoencoder = tf.keras.models.Model(input_img, decoded)\n",
        "optimizer = tf.keras.optimizers.Adam(lr=0.001)\n",
        "autoencoder.compile(optimizer=optimizer, loss='binary_crossentropy')"
      ],
      "execution_count": 0,
      "outputs": []
    },
    {
      "cell_type": "code",
      "metadata": {
        "id": "CA3zvvuaMkvw",
        "colab_type": "code",
        "colab": {}
      },
      "source": [
        "from keras.datasets import mnist\n",
        "import numpy as np\n",
        "\n",
        "(x_train, _), (x_test, _) = mnist.load_data()\n",
        "\n",
        "x_train = x_train.astype('float32') / 255.\n",
        "x_test = x_test.astype('float32') / 255.\n",
        "x_train = np.reshape(x_train, (len(x_train), 28, 28, 1))\n",
        "x_test = np.reshape(x_test, (len(x_test), 28, 28, 1))\n",
        "\n",
        "# Introduce noise with a probability factor of 0.5\n",
        "noise_factor = 0.5\n",
        "x_train_noisy = x_train + noise_factor + np.random.normal(loc=0.0, scale=1.0, size=x_train.shape)\n",
        "x_test_noisy = x_test + noise_factor + np.random.normal(loc=0.0, scale=1.0, size=x_test.shape)\n",
        "\n",
        "x_train_noisy = np.clip(x_train_noisy, 0., 1.)\n",
        "x_test_noisy = np.clip(x_test_noisy, 0., 1.)\n"
      ],
      "execution_count": 0,
      "outputs": []
    },
    {
      "cell_type": "code",
      "metadata": {
        "id": "3Fqb-DY-MshW",
        "colab_type": "code",
        "outputId": "527ba3a1-fe1a-4727-a9ba-e0b4c8fb1a76",
        "colab": {
          "base_uri": "https://localhost:8080/",
          "height": 1000
        }
      },
      "source": [
        "# This will train for 100 epochs\n",
        "autoencoder.fit(x_train_noisy, x_train, epochs=100, batch_size=128, \n",
        "                shuffle=True, validation_data=(x_test_noisy, x_test), \n",
        "                callbacks=[tf.keras.callbacks.TensorBoard(log_dir='./tmp/tb', histogram_freq=0, write_graph=False)])"
      ],
      "execution_count": 0,
      "outputs": [
        {
          "output_type": "stream",
          "text": [
            "Epoch 1/100\n",
            "469/469 [==============================] - 5s 10ms/step - loss: 0.2356 - val_loss: 0.2013\n",
            "Epoch 2/100\n",
            "469/469 [==============================] - 4s 9ms/step - loss: 0.1882 - val_loss: 0.1832\n",
            "Epoch 3/100\n",
            "469/469 [==============================] - 4s 9ms/step - loss: 0.1791 - val_loss: 0.1792\n",
            "Epoch 4/100\n",
            "469/469 [==============================] - 4s 9ms/step - loss: 0.1752 - val_loss: 0.1780\n",
            "Epoch 5/100\n",
            "469/469 [==============================] - 4s 9ms/step - loss: 0.1725 - val_loss: 0.1712\n",
            "Epoch 6/100\n",
            "469/469 [==============================] - 4s 10ms/step - loss: 0.1703 - val_loss: 0.1703\n",
            "Epoch 7/100\n",
            "469/469 [==============================] - 5s 10ms/step - loss: 0.1688 - val_loss: 0.1706\n",
            "Epoch 8/100\n",
            "469/469 [==============================] - 4s 9ms/step - loss: 0.1676 - val_loss: 0.1663\n",
            "Epoch 9/100\n",
            "469/469 [==============================] - 4s 9ms/step - loss: 0.1666 - val_loss: 0.1663\n",
            "Epoch 10/100\n",
            "469/469 [==============================] - 4s 9ms/step - loss: 0.1658 - val_loss: 0.1648\n",
            "Epoch 11/100\n",
            "469/469 [==============================] - 4s 9ms/step - loss: 0.1651 - val_loss: 0.1636\n",
            "Epoch 12/100\n",
            "469/469 [==============================] - 4s 9ms/step - loss: 0.1646 - val_loss: 0.1652\n",
            "Epoch 13/100\n",
            "469/469 [==============================] - 4s 9ms/step - loss: 0.1641 - val_loss: 0.1640\n",
            "Epoch 14/100\n",
            "469/469 [==============================] - 4s 9ms/step - loss: 0.1637 - val_loss: 0.1674\n",
            "Epoch 15/100\n",
            "469/469 [==============================] - 4s 9ms/step - loss: 0.1634 - val_loss: 0.1629\n",
            "Epoch 16/100\n",
            "469/469 [==============================] - 4s 9ms/step - loss: 0.1631 - val_loss: 0.1626\n",
            "Epoch 17/100\n",
            "469/469 [==============================] - 4s 9ms/step - loss: 0.1627 - val_loss: 0.1620\n",
            "Epoch 18/100\n",
            "469/469 [==============================] - 4s 9ms/step - loss: 0.1624 - val_loss: 0.1615\n",
            "Epoch 19/100\n",
            "469/469 [==============================] - 4s 9ms/step - loss: 0.1621 - val_loss: 0.1616\n",
            "Epoch 20/100\n",
            "469/469 [==============================] - 4s 9ms/step - loss: 0.1619 - val_loss: 0.1663\n",
            "Epoch 21/100\n",
            "469/469 [==============================] - 4s 9ms/step - loss: 0.1617 - val_loss: 0.1640\n",
            "Epoch 22/100\n",
            "469/469 [==============================] - 4s 9ms/step - loss: 0.1615 - val_loss: 0.1614\n",
            "Epoch 23/100\n",
            "469/469 [==============================] - 4s 9ms/step - loss: 0.1613 - val_loss: 0.1599\n",
            "Epoch 24/100\n",
            "469/469 [==============================] - 4s 9ms/step - loss: 0.1612 - val_loss: 0.1606\n",
            "Epoch 25/100\n",
            "469/469 [==============================] - 4s 9ms/step - loss: 0.1610 - val_loss: 0.1608\n",
            "Epoch 26/100\n",
            "469/469 [==============================] - 4s 9ms/step - loss: 0.1608 - val_loss: 0.1618\n",
            "Epoch 27/100\n",
            "469/469 [==============================] - 4s 9ms/step - loss: 0.1607 - val_loss: 0.1621\n",
            "Epoch 28/100\n",
            "469/469 [==============================] - 4s 9ms/step - loss: 0.1606 - val_loss: 0.1601\n",
            "Epoch 29/100\n",
            "469/469 [==============================] - 4s 9ms/step - loss: 0.1604 - val_loss: 0.1611\n",
            "Epoch 30/100\n",
            "469/469 [==============================] - 5s 10ms/step - loss: 0.1602 - val_loss: 0.1596\n",
            "Epoch 31/100\n",
            "469/469 [==============================] - 5s 10ms/step - loss: 0.1602 - val_loss: 0.1597\n",
            "Epoch 32/100\n",
            "469/469 [==============================] - 4s 9ms/step - loss: 0.1601 - val_loss: 0.1595\n",
            "Epoch 33/100\n",
            "469/469 [==============================] - 4s 9ms/step - loss: 0.1599 - val_loss: 0.1590\n",
            "Epoch 34/100\n",
            "469/469 [==============================] - 4s 9ms/step - loss: 0.1599 - val_loss: 0.1597\n",
            "Epoch 35/100\n",
            "469/469 [==============================] - 4s 9ms/step - loss: 0.1597 - val_loss: 0.1587\n",
            "Epoch 36/100\n",
            "469/469 [==============================] - 4s 9ms/step - loss: 0.1597 - val_loss: 0.1599\n",
            "Epoch 37/100\n",
            "469/469 [==============================] - 4s 9ms/step - loss: 0.1595 - val_loss: 0.1592\n",
            "Epoch 38/100\n",
            "469/469 [==============================] - 4s 9ms/step - loss: 0.1595 - val_loss: 0.1597\n",
            "Epoch 39/100\n",
            "469/469 [==============================] - 4s 9ms/step - loss: 0.1594 - val_loss: 0.1596\n",
            "Epoch 40/100\n",
            "469/469 [==============================] - 4s 9ms/step - loss: 0.1592 - val_loss: 0.1596\n",
            "Epoch 41/100\n",
            "469/469 [==============================] - 4s 9ms/step - loss: 0.1592 - val_loss: 0.1607\n",
            "Epoch 42/100\n",
            "469/469 [==============================] - 4s 9ms/step - loss: 0.1591 - val_loss: 0.1603\n",
            "Epoch 43/100\n",
            "469/469 [==============================] - 4s 9ms/step - loss: 0.1591 - val_loss: 0.1586\n",
            "Epoch 44/100\n",
            "469/469 [==============================] - 4s 9ms/step - loss: 0.1590 - val_loss: 0.1592\n",
            "Epoch 45/100\n",
            "469/469 [==============================] - 4s 9ms/step - loss: 0.1589 - val_loss: 0.1594\n",
            "Epoch 46/100\n",
            "469/469 [==============================] - 4s 9ms/step - loss: 0.1588 - val_loss: 0.1587\n",
            "Epoch 47/100\n",
            "469/469 [==============================] - 4s 9ms/step - loss: 0.1588 - val_loss: 0.1587\n",
            "Epoch 48/100\n",
            "469/469 [==============================] - 4s 9ms/step - loss: 0.1587 - val_loss: 0.1590\n",
            "Epoch 49/100\n",
            "469/469 [==============================] - 4s 9ms/step - loss: 0.1587 - val_loss: 0.1584\n",
            "Epoch 50/100\n",
            "469/469 [==============================] - 4s 9ms/step - loss: 0.1586 - val_loss: 0.1583\n",
            "Epoch 51/100\n",
            "469/469 [==============================] - 4s 9ms/step - loss: 0.1586 - val_loss: 0.1589\n",
            "Epoch 52/100\n",
            "469/469 [==============================] - 4s 9ms/step - loss: 0.1586 - val_loss: 0.1587\n",
            "Epoch 53/100\n",
            "469/469 [==============================] - 4s 9ms/step - loss: 0.1584 - val_loss: 0.1578\n",
            "Epoch 54/100\n",
            "469/469 [==============================] - 4s 9ms/step - loss: 0.1584 - val_loss: 0.1602\n",
            "Epoch 55/100\n",
            "469/469 [==============================] - 4s 9ms/step - loss: 0.1584 - val_loss: 0.1579\n",
            "Epoch 56/100\n",
            "469/469 [==============================] - 4s 9ms/step - loss: 0.1583 - val_loss: 0.1590\n",
            "Epoch 57/100\n",
            "469/469 [==============================] - 4s 9ms/step - loss: 0.1582 - val_loss: 0.1593\n",
            "Epoch 58/100\n",
            "469/469 [==============================] - 4s 9ms/step - loss: 0.1581 - val_loss: 0.1592\n",
            "Epoch 59/100\n",
            "469/469 [==============================] - 4s 9ms/step - loss: 0.1582 - val_loss: 0.1594\n",
            "Epoch 60/100\n",
            "469/469 [==============================] - 4s 9ms/step - loss: 0.1581 - val_loss: 0.1589\n",
            "Epoch 61/100\n",
            "469/469 [==============================] - 4s 9ms/step - loss: 0.1580 - val_loss: 0.1586\n",
            "Epoch 62/100\n",
            "469/469 [==============================] - 4s 9ms/step - loss: 0.1580 - val_loss: 0.1580\n",
            "Epoch 63/100\n",
            "469/469 [==============================] - 4s 9ms/step - loss: 0.1580 - val_loss: 0.1574\n",
            "Epoch 64/100\n",
            "469/469 [==============================] - 4s 9ms/step - loss: 0.1579 - val_loss: 0.1576\n",
            "Epoch 65/100\n",
            "469/469 [==============================] - 4s 9ms/step - loss: 0.1578 - val_loss: 0.1578\n",
            "Epoch 66/100\n",
            "469/469 [==============================] - 4s 9ms/step - loss: 0.1578 - val_loss: 0.1577\n",
            "Epoch 67/100\n",
            "469/469 [==============================] - 4s 9ms/step - loss: 0.1578 - val_loss: 0.1579\n",
            "Epoch 68/100\n",
            "469/469 [==============================] - 4s 9ms/step - loss: 0.1578 - val_loss: 0.1577\n",
            "Epoch 69/100\n",
            "469/469 [==============================] - 4s 9ms/step - loss: 0.1578 - val_loss: 0.1575\n",
            "Epoch 70/100\n",
            "469/469 [==============================] - 5s 11ms/step - loss: 0.1577 - val_loss: 0.1586\n",
            "Epoch 71/100\n",
            "469/469 [==============================] - 4s 9ms/step - loss: 0.1577 - val_loss: 0.1585\n",
            "Epoch 72/100\n",
            "469/469 [==============================] - 4s 9ms/step - loss: 0.1576 - val_loss: 0.1574\n",
            "Epoch 73/100\n",
            "469/469 [==============================] - 4s 9ms/step - loss: 0.1576 - val_loss: 0.1571\n",
            "Epoch 74/100\n",
            "469/469 [==============================] - 4s 9ms/step - loss: 0.1576 - val_loss: 0.1571\n",
            "Epoch 75/100\n",
            "469/469 [==============================] - 4s 9ms/step - loss: 0.1575 - val_loss: 0.1580\n",
            "Epoch 76/100\n",
            "469/469 [==============================] - 4s 9ms/step - loss: 0.1574 - val_loss: 0.1567\n",
            "Epoch 77/100\n",
            "469/469 [==============================] - 4s 9ms/step - loss: 0.1575 - val_loss: 0.1580\n",
            "Epoch 78/100\n",
            "469/469 [==============================] - 4s 9ms/step - loss: 0.1574 - val_loss: 0.1572\n",
            "Epoch 79/100\n",
            "469/469 [==============================] - 4s 9ms/step - loss: 0.1574 - val_loss: 0.1584\n",
            "Epoch 80/100\n",
            "469/469 [==============================] - 4s 9ms/step - loss: 0.1573 - val_loss: 0.1574\n",
            "Epoch 81/100\n",
            "469/469 [==============================] - 4s 9ms/step - loss: 0.1573 - val_loss: 0.1571\n",
            "Epoch 82/100\n",
            "469/469 [==============================] - 4s 9ms/step - loss: 0.1573 - val_loss: 0.1570\n",
            "Epoch 83/100\n",
            "469/469 [==============================] - 4s 9ms/step - loss: 0.1573 - val_loss: 0.1587\n",
            "Epoch 84/100\n",
            "469/469 [==============================] - 4s 9ms/step - loss: 0.1572 - val_loss: 0.1574\n",
            "Epoch 85/100\n",
            "469/469 [==============================] - 4s 9ms/step - loss: 0.1572 - val_loss: 0.1574\n",
            "Epoch 86/100\n",
            "469/469 [==============================] - 4s 9ms/step - loss: 0.1571 - val_loss: 0.1577\n",
            "Epoch 87/100\n",
            "469/469 [==============================] - 4s 9ms/step - loss: 0.1572 - val_loss: 0.1584\n",
            "Epoch 88/100\n",
            "469/469 [==============================] - 4s 9ms/step - loss: 0.1571 - val_loss: 0.1571\n",
            "Epoch 89/100\n",
            "469/469 [==============================] - 4s 10ms/step - loss: 0.1572 - val_loss: 0.1583\n",
            "Epoch 90/100\n",
            "469/469 [==============================] - 4s 9ms/step - loss: 0.1570 - val_loss: 0.1568\n",
            "Epoch 91/100\n",
            "469/469 [==============================] - 4s 9ms/step - loss: 0.1571 - val_loss: 0.1576\n",
            "Epoch 92/100\n",
            "469/469 [==============================] - 4s 9ms/step - loss: 0.1570 - val_loss: 0.1571\n",
            "Epoch 93/100\n",
            "469/469 [==============================] - 4s 10ms/step - loss: 0.1570 - val_loss: 0.1569\n",
            "Epoch 94/100\n",
            "469/469 [==============================] - 4s 9ms/step - loss: 0.1569 - val_loss: 0.1566\n",
            "Epoch 95/100\n",
            "469/469 [==============================] - 4s 9ms/step - loss: 0.1569 - val_loss: 0.1564\n",
            "Epoch 96/100\n",
            "469/469 [==============================] - 4s 9ms/step - loss: 0.1568 - val_loss: 0.1573\n",
            "Epoch 97/100\n",
            "469/469 [==============================] - 4s 9ms/step - loss: 0.1568 - val_loss: 0.1570\n",
            "Epoch 98/100\n",
            "469/469 [==============================] - 4s 9ms/step - loss: 0.1569 - val_loss: 0.1567\n",
            "Epoch 99/100\n",
            "469/469 [==============================] - 4s 9ms/step - loss: 0.1568 - val_loss: 0.1564\n",
            "Epoch 100/100\n",
            "469/469 [==============================] - 4s 9ms/step - loss: 0.1567 - val_loss: 0.1567\n"
          ],
          "name": "stdout"
        },
        {
          "output_type": "execute_result",
          "data": {
            "text/plain": [
              "<tensorflow.python.keras.callbacks.History at 0x7fe5ba469828>"
            ]
          },
          "metadata": {
            "tags": []
          },
          "execution_count": 59
        }
      ]
    },
    {
      "cell_type": "code",
      "metadata": {
        "id": "tPeH8-g3MvzX",
        "colab_type": "code",
        "outputId": "87782e62-d3da-45c6-8095-6d2750a2ffc8",
        "colab": {
          "base_uri": "https://localhost:8080/",
          "height": 248
        }
      },
      "source": [
        "decoded_imgs = autoencoder.predict(x_test_noisy)\n",
        "\n",
        "n = 10\n",
        "plt.figure(figsize=(20, 4))\n",
        "for i in range(n):\n",
        "    # display original\n",
        "    ax = plt.subplot(2, n, i+1)\n",
        "    plt.imshow(x_test_noisy[i].reshape(28, 28))\n",
        "    plt.gray()\n",
        "    ax.get_xaxis().set_visible(False)\n",
        "    ax.get_yaxis().set_visible(False)\n",
        "\n",
        "    # display reconstruction\n",
        "    ax = plt.subplot(2, n, i + 1 + n)\n",
        "    plt.imshow(decoded_imgs[i].reshape(28, 28))\n",
        "    plt.gray()\n",
        "    ax.get_xaxis().set_visible(False)\n",
        "    ax.get_yaxis().set_visible(False)\n",
        "plt.show()"
      ],
      "execution_count": 0,
      "outputs": [
        {
          "output_type": "display_data",
          "data": {
            "image/png": "[encoded data removed]",
            "text/plain": [
              "<Figure size 1440x288 with 20 Axes>"
            ]
          },
          "metadata": {
            "tags": [],
            "needs_background": "light"
          }
        }
      ]
    }
  ]
}