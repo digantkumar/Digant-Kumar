{
  "nbformat": 4,
  "nbformat_minor": 0,
  "metadata": {
    "colab": {
      "name": "Task1.ipynb",
      "provenance": [],
      "collapsed_sections": [],
      "authorship_tag": "ABX9TyNAW8m8R0lZoGd592aBr4Fr",
      "include_colab_link": true
    },
    "kernelspec": {
      "name": "python3",
      "display_name": "Python 3"
    },
    "accelerator": "GPU"
  },
  "cells": [
    {
      "cell_type": "markdown",
      "metadata": {
        "id": "view-in-github",
        "colab_type": "text"
      },
      "source": [
        "<a href=\"https://colab.research.google.com/github/digantkumar/Digant-Kumar/blob/master/Deep%20Learning%20Task1.ipynb\" target=\"_parent\"><img src=\"https://colab.research.google.com/assets/colab-badge.svg\" alt=\"Open In Colab\"/></a>"
      ]
    },
    {
      "cell_type": "markdown",
      "metadata": {
        "id": "EytmQg3ATeGZ",
        "colab_type": "text"
      },
      "source": [
        "## **AUTOENCODER BASE MODEL**"
      ]
    },
    {
      "cell_type": "code",
      "metadata": {
        "id": "rH0dbWyy8oOz",
        "colab_type": "code",
        "outputId": "33486a1b-1e83-4130-fa87-b9b037b6d710",
        "colab": {
          "base_uri": "https://localhost:8080/",
          "height": 52
        }
      },
      "source": [
        "#################################################################################################\n",
        "#########                             Base Model                                         ########\n",
        "#################################################################################################\n",
        "\n",
        "from __future__ import absolute_import, division, print_function, unicode_literals\n",
        "\n",
        "#try:\n",
        "  # The %tensorflow_version magic only works in colab.\n",
        "  # tensorflow_version 2.x\n",
        "#except Exception:\n",
        "#  pass\n",
        "import numpy as np\n",
        "import matplotlib.pyplot as plt\n",
        "import tensorflow as tf\n",
        "\n",
        "from tensorflow.keras.datasets import mnist\n",
        "\n",
        "print('TensorFlow version:', tf.__version__)\n",
        "print('Is Executing Eagerly?', tf.executing_eagerly())"
      ],
      "execution_count": 2,
      "outputs": [
        {
          "output_type": "stream",
          "text": [
            "TensorFlow version: 2.2.0-rc2\n",
            "Is Executing Eagerly? True\n"
          ],
          "name": "stdout"
        }
      ]
    },
    {
      "cell_type": "code",
      "metadata": {
        "id": "OaT5mW2TCII1",
        "colab_type": "code",
        "colab": {}
      },
      "source": [
        "class Encoder(tf.keras.layers.Layer):\n",
        "    def __init__(self, intermediate_dim):\n",
        "        super(Encoder, self).__init__()\n",
        "        self.hidden_layer = tf.keras.layers.Dense(units=intermediate_dim, activation=tf.nn.relu)\n",
        "        self.output_layer = tf.keras.layers.Dense(units=intermediate_dim, activation=tf.nn.relu)\n",
        "    \n",
        "    def call(self, input_features):\n",
        "        activation = self.hidden_layer(input_features)\n",
        "        return self.output_layer(activation)"
      ],
      "execution_count": 0,
      "outputs": []
    },
    {
      "cell_type": "code",
      "metadata": {
        "id": "3aDeajflByuR",
        "colab_type": "code",
        "colab": {}
      },
      "source": [
        "class Decoder(tf.keras.layers.Layer):\n",
        "    def __init__(self, intermediate_dim, original_dim):\n",
        "        super(Decoder, self).__init__()\n",
        "        self.hidden_layer = tf.keras.layers.Dense(units=intermediate_dim, activation=tf.nn.relu)\n",
        "        self.output_layer = tf.keras.layers.Dense(units=original_dim, activation=tf.nn.relu)\n",
        "  \n",
        "    def call(self, code):\n",
        "        activation = self.hidden_layer(code)\n",
        "        return self.output_layer(activation)"
      ],
      "execution_count": 0,
      "outputs": []
    },
    {
      "cell_type": "code",
      "metadata": {
        "id": "uvmnuYcGCPa9",
        "colab_type": "code",
        "colab": {}
      },
      "source": [
        "class Autoencoder(tf.keras.Model):\n",
        "  def __init__(self, intermediate_dim, original_dim):\n",
        "    super(Autoencoder, self).__init__()\n",
        "    self.loss = []\n",
        "    self.encoder = Encoder(intermediate_dim=intermediate_dim)\n",
        "    self.decoder = Decoder(intermediate_dim=intermediate_dim, original_dim=original_dim)\n",
        "\n",
        "  def call(self, input_features):\n",
        "    code = self.encoder(input_features)\n",
        "    reconstructed = self.decoder(code)\n",
        "    return reconstructed"
      ],
      "execution_count": 0,
      "outputs": []
    },
    {
      "cell_type": "code",
      "metadata": {
        "id": "U1BIFzshCUt1",
        "colab_type": "code",
        "colab": {}
      },
      "source": [
        "def loss(preds, real):\n",
        "  return tf.reduce_mean(tf.square(tf.subtract(preds, real)))"
      ],
      "execution_count": 0,
      "outputs": []
    },
    {
      "cell_type": "code",
      "metadata": {
        "id": "M_0VlYfUCVbk",
        "colab_type": "code",
        "colab": {}
      },
      "source": [
        "def train(loss, model, opt, original):\n",
        "  with tf.GradientTape() as tape:\n",
        "    preds = model(original)\n",
        "    reconstruction_error = loss(preds, original)\n",
        "  gradients = tape.gradient(reconstruction_error, model.trainable_variables)\n",
        "  gradient_variables = zip(gradients, model.trainable_variables)\n",
        "  opt.apply_gradients(gradient_variables)\n",
        "  \n",
        "  return reconstruction_error"
      ],
      "execution_count": 0,
      "outputs": []
    },
    {
      "cell_type": "code",
      "metadata": {
        "id": "i5BtdFryCX0c",
        "colab_type": "code",
        "colab": {}
      },
      "source": [
        "def train_loop(model, opt, loss, dataset, epochs):\n",
        "  for epoch in range(epochs):\n",
        "    epoch_loss = 0\n",
        "    for step, batch_features in enumerate(dataset):\n",
        "      loss_values = train(loss, model, opt, batch_features)\n",
        "      epoch_loss += loss_values\n",
        "    model.loss.append(epoch_loss)\n",
        "    print('Epoch {}/{}. Loss: {}'.format(epoch + 1, epochs, epoch_loss.numpy()))"
      ],
      "execution_count": 0,
      "outputs": []
    },
    {
      "cell_type": "code",
      "metadata": {
        "id": "vTTC4TEQCZ-l",
        "colab_type": "code",
        "colab": {}
      },
      "source": [
        "from tensorflow.keras.datasets import mnist\n",
        "(x_train, _), (x_test, _) = mnist.load_data()\n",
        "\n",
        "x_train = x_train / 255.\n",
        "x_test = x_test / 255.\n",
        "x_train = x_train.astype(np.float32)\n",
        "x_train = np.reshape(x_train, (x_train.shape[0], 784))\n",
        "x_test = np.reshape(x_test, (x_test.shape[0], 784))\n",
        "\n",
        "training_dataset = tf.data.Dataset.from_tensor_slices(x_train).batch(256)"
      ],
      "execution_count": 0,
      "outputs": []
    },
    {
      "cell_type": "code",
      "metadata": {
        "id": "BAUS_8qXCb8I",
        "colab_type": "code",
        "colab": {
          "base_uri": "https://localhost:8080/",
          "height": 1000
        },
        "outputId": "877d7704-026a-45de-deee-13d16ad97cb0"
      },
      "source": [
        "model = Autoencoder(intermediate_dim=128, original_dim=784)\n",
        "opt = tf.keras.optimizers.Adam(learning_rate=1e-2)\n",
        "\n",
        "train_loop(model, opt, loss, training_dataset, 100)"
      ],
      "execution_count": 122,
      "outputs": [
        {
          "output_type": "stream",
          "text": [
            "Epoch 1/100. Loss: 8.470298767089844\n",
            "Epoch 2/100. Loss: 5.543691635131836\n",
            "Epoch 3/100. Loss: 5.174448490142822\n",
            "Epoch 4/100. Loss: 4.952005863189697\n",
            "Epoch 5/100. Loss: 4.802514553070068\n",
            "Epoch 6/100. Loss: 4.680856704711914\n",
            "Epoch 7/100. Loss: 4.631130695343018\n",
            "Epoch 8/100. Loss: 4.59841251373291\n",
            "Epoch 9/100. Loss: 4.589003562927246\n",
            "Epoch 10/100. Loss: 4.559813499450684\n",
            "Epoch 11/100. Loss: 4.5413031578063965\n",
            "Epoch 12/100. Loss: 4.490149974822998\n",
            "Epoch 13/100. Loss: 4.453440189361572\n",
            "Epoch 14/100. Loss: 4.4385809898376465\n",
            "Epoch 15/100. Loss: 4.3887939453125\n",
            "Epoch 16/100. Loss: 4.414373397827148\n",
            "Epoch 17/100. Loss: 4.37668514251709\n",
            "Epoch 18/100. Loss: 4.37135648727417\n",
            "Epoch 19/100. Loss: 4.369426250457764\n",
            "Epoch 20/100. Loss: 4.342047214508057\n",
            "Epoch 21/100. Loss: 4.344512939453125\n",
            "Epoch 22/100. Loss: 4.324556827545166\n",
            "Epoch 23/100. Loss: 4.318528652191162\n",
            "Epoch 24/100. Loss: 4.323928356170654\n",
            "Epoch 25/100. Loss: 4.315430641174316\n",
            "Epoch 26/100. Loss: 4.3041205406188965\n",
            "Epoch 27/100. Loss: 4.337488651275635\n",
            "Epoch 28/100. Loss: 4.284459590911865\n",
            "Epoch 29/100. Loss: 4.286865234375\n",
            "Epoch 30/100. Loss: 4.266201019287109\n",
            "Epoch 31/100. Loss: 4.284090518951416\n",
            "Epoch 32/100. Loss: 4.301421165466309\n",
            "Epoch 33/100. Loss: 4.333446025848389\n",
            "Epoch 34/100. Loss: 4.290287494659424\n",
            "Epoch 35/100. Loss: 4.312814235687256\n",
            "Epoch 36/100. Loss: 4.261682510375977\n",
            "Epoch 37/100. Loss: 4.275195121765137\n",
            "Epoch 38/100. Loss: 4.265381813049316\n",
            "Epoch 39/100. Loss: 4.295174598693848\n",
            "Epoch 40/100. Loss: 4.272878646850586\n",
            "Epoch 41/100. Loss: 4.27381706237793\n",
            "Epoch 42/100. Loss: 4.269576549530029\n",
            "Epoch 43/100. Loss: 4.264176845550537\n",
            "Epoch 44/100. Loss: 4.265651702880859\n",
            "Epoch 45/100. Loss: 4.251743793487549\n",
            "Epoch 46/100. Loss: 4.253233909606934\n",
            "Epoch 47/100. Loss: 4.260042190551758\n",
            "Epoch 48/100. Loss: 4.248631477355957\n",
            "Epoch 49/100. Loss: 4.2588067054748535\n",
            "Epoch 50/100. Loss: 4.249138355255127\n",
            "Epoch 51/100. Loss: 4.260494709014893\n",
            "Epoch 52/100. Loss: 4.21701192855835\n",
            "Epoch 53/100. Loss: 4.222978591918945\n",
            "Epoch 54/100. Loss: 4.248477458953857\n",
            "Epoch 55/100. Loss: 4.259417533874512\n",
            "Epoch 56/100. Loss: 4.265881061553955\n",
            "Epoch 57/100. Loss: 4.243096351623535\n",
            "Epoch 58/100. Loss: 4.2272844314575195\n",
            "Epoch 59/100. Loss: 4.249699115753174\n",
            "Epoch 60/100. Loss: 4.255828380584717\n",
            "Epoch 61/100. Loss: 4.229735374450684\n",
            "Epoch 62/100. Loss: 4.2683563232421875\n",
            "Epoch 63/100. Loss: 4.242034435272217\n",
            "Epoch 64/100. Loss: 4.227025985717773\n",
            "Epoch 65/100. Loss: 4.238649368286133\n",
            "Epoch 66/100. Loss: 4.223319053649902\n",
            "Epoch 67/100. Loss: 4.21978759765625\n",
            "Epoch 68/100. Loss: 4.227153778076172\n",
            "Epoch 69/100. Loss: 4.214953899383545\n",
            "Epoch 70/100. Loss: 4.229709148406982\n",
            "Epoch 71/100. Loss: 4.240548133850098\n",
            "Epoch 72/100. Loss: 4.227414608001709\n",
            "Epoch 73/100. Loss: 4.2070441246032715\n",
            "Epoch 74/100. Loss: 4.247158050537109\n",
            "Epoch 75/100. Loss: 4.184870719909668\n",
            "Epoch 76/100. Loss: 4.20034122467041\n",
            "Epoch 77/100. Loss: 4.203954219818115\n",
            "Epoch 78/100. Loss: 4.207639694213867\n",
            "Epoch 79/100. Loss: 4.185499668121338\n",
            "Epoch 80/100. Loss: 4.181065559387207\n",
            "Epoch 81/100. Loss: 4.18739652633667\n",
            "Epoch 82/100. Loss: 4.1702799797058105\n",
            "Epoch 83/100. Loss: 4.1713948249816895\n",
            "Epoch 84/100. Loss: 4.189581394195557\n",
            "Epoch 85/100. Loss: 4.187955856323242\n",
            "Epoch 86/100. Loss: 4.182832717895508\n",
            "Epoch 87/100. Loss: 4.1823554039001465\n",
            "Epoch 88/100. Loss: 4.179154396057129\n",
            "Epoch 89/100. Loss: 4.177135467529297\n",
            "Epoch 90/100. Loss: 4.1677446365356445\n",
            "Epoch 91/100. Loss: 4.182226181030273\n",
            "Epoch 92/100. Loss: 4.162766933441162\n",
            "Epoch 93/100. Loss: 4.164279937744141\n",
            "Epoch 94/100. Loss: 4.166393280029297\n",
            "Epoch 95/100. Loss: 4.178442478179932\n",
            "Epoch 96/100. Loss: 4.1628594398498535\n",
            "Epoch 97/100. Loss: 4.167661666870117\n",
            "Epoch 98/100. Loss: 4.146213054656982\n",
            "Epoch 99/100. Loss: 4.1772990226745605\n",
            "Epoch 100/100. Loss: 4.155230522155762\n"
          ],
          "name": "stdout"
        }
      ]
    },
    {
      "cell_type": "code",
      "metadata": {
        "id": "kHSfhFiSCevS",
        "colab_type": "code",
        "colab": {
          "base_uri": "https://localhost:8080/",
          "height": 279
        },
        "outputId": "e88977d7-c2ee-4e28-ed2f-9d5792320e26"
      },
      "source": [
        "plt.plot(range(100), model.loss)\n",
        "plt.xlabel('Epochs')\n",
        "plt.ylabel('Loss')\n",
        "plt.show()"
      ],
      "execution_count": 123,
      "outputs": [
        {
          "output_type": "display_data",
          "data": {
            "image/png": "[encoded data removed]",
            "text/plain": [
              "<Figure size 432x288 with 1 Axes>"
            ]
          },
          "metadata": {
            "tags": [],
            "needs_background": "light"
          }
        }
      ]
    },
    {
      "cell_type": "code",
      "metadata": {
        "id": "O8HuIWzwCgbC",
        "colab_type": "code",
        "colab": {
          "base_uri": "https://localhost:8080/",
          "height": 372
        },
        "outputId": "3210fb0b-3cd7-4530-f4c2-5280f2262c80"
      },
      "source": [
        "number = 10  # how many digits we will display\n",
        "plt.figure(figsize=(20, 4))\n",
        "for index in range(number):\n",
        "    # display original\n",
        "    ax = plt.subplot(2, number, index + 1)\n",
        "    plt.imshow(x_test[index].reshape(28, 28))\n",
        "    plt.gray()\n",
        "    ax.get_xaxis().set_visible(False)\n",
        "    ax.get_yaxis().set_visible(False)\n",
        "\n",
        "    # display reconstruction\n",
        "    ax = plt.subplot(2, number, index + 1 + number)\n",
        "    plt.imshow(model(x_test)[index].numpy().reshape(28, 28))\n",
        "    plt.gray()\n",
        "    ax.get_xaxis().set_visible(False)\n",
        "    ax.get_yaxis().set_visible(False)\n",
        "plt.show()"
      ],
      "execution_count": 124,
      "outputs": [
        {
          "output_type": "stream",
          "text": [
            "WARNING:tensorflow:Layer autoencoder_8 is casting an input tensor from dtype float64 to the layer's dtype of float32, which is new behavior in TensorFlow 2.  The layer has dtype float32 because it's dtype defaults to floatx.\n",
            "\n",
            "If you intended to run this layer in float32, you can safely ignore this warning. If in doubt, this warning is likely only an issue if you are porting a TensorFlow 1.X model to TensorFlow 2.\n",
            "\n",
            "To change all layers to have dtype float64 by default, call `tf.keras.backend.set_floatx('float64')`. To change just this layer, pass dtype='float64' to the layer constructor. If you are the author of this layer, you can disable autocasting by passing autocast=False to the base Layer constructor.\n",
            "\n"
          ],
          "name": "stdout"
        },
        {
          "output_type": "display_data",
          "data": {
            "image/png": "[encoded data removed]",
            "text/plain": [
              "<Figure size 1440x288 with 20 Axes>"
            ]
          },
          "metadata": {
            "tags": [],
            "needs_background": "light"
          }
        }
      ]
    },
    {
      "cell_type": "markdown",
      "metadata": {
        "id": "c6g9qXyITmV9",
        "colab_type": "text"
      },
      "source": [
        "## **AUTOENCODER BASE MODEL + 1 HIDDEN LAYER**"
      ]
    },
    {
      "cell_type": "code",
      "metadata": {
        "id": "tDZeYQ-PCokV",
        "colab_type": "code",
        "colab": {
          "base_uri": "https://localhost:8080/",
          "height": 52
        },
        "outputId": "054c8f8d-e05b-4efd-c8bd-3cfaf188945b"
      },
      "source": [
        "#################################################################################################\n",
        "#########               Base Model + 1 hidden layer (dimension change)                   ########\n",
        "#################################################################################################\n",
        "\n",
        "from __future__ import absolute_import, division, print_function, unicode_literals\n",
        "\n",
        "#try:\n",
        "  # The %tensorflow_version magic only works in colab.\n",
        "  # tensorflow_version 2.x\n",
        "#except Exception:\n",
        "#  pass\n",
        "import numpy as np\n",
        "import matplotlib.pyplot as plt\n",
        "import tensorflow as tf\n",
        "\n",
        "from tensorflow.keras.datasets import mnist\n",
        "\n",
        "print('TensorFlow version:', tf.__version__)\n",
        "print('Is Executing Eagerly?', tf.executing_eagerly())"
      ],
      "execution_count": 125,
      "outputs": [
        {
          "output_type": "stream",
          "text": [
            "TensorFlow version: 2.2.0-rc2\n",
            "Is Executing Eagerly? True\n"
          ],
          "name": "stdout"
        }
      ]
    },
    {
      "cell_type": "code",
      "metadata": {
        "id": "SVk_4ClaKCqk",
        "colab_type": "code",
        "colab": {}
      },
      "source": [
        "class Encoder(tf.keras.layers.Layer):\n",
        "    def __init__(self, intermediate_dim):\n",
        "        super(Encoder, self).__init__()\n",
        "        self.hidden_layer_1 = tf.keras.layers.Dense(units=intermediate_dim, activation=tf.nn.relu)\n",
        "        self.hidden_layer_2 = tf.keras.layers.Dense(units=intermediate_dim/2, activation=tf.nn.relu)\n",
        "        self.output_layer = tf.keras.layers.Dense(units=intermediate_dim/2, activation=tf.nn.relu)\n",
        "    \n",
        "    def call(self, input_features):\n",
        "        hid_layer_1 = self.hidden_layer_1(input_features)\n",
        "        activation = self.hidden_layer_2(hid_layer_1)\n",
        "        return self.output_layer(activation)"
      ],
      "execution_count": 0,
      "outputs": []
    },
    {
      "cell_type": "code",
      "metadata": {
        "id": "Fd0diUylKDBQ",
        "colab_type": "code",
        "colab": {}
      },
      "source": [
        "class Decoder(tf.keras.layers.Layer):\n",
        "    def __init__(self, intermediate_dim, original_dim):\n",
        "        super(Decoder, self).__init__()\n",
        "        self.hidden_layer_1 = tf.keras.layers.Dense(units=intermediate_dim, activation=tf.nn.relu)\n",
        "        self.output_layer = tf.keras.layers.Dense(units=original_dim, activation=tf.nn.relu)\n",
        "  \n",
        "    def call(self, code):\n",
        "        activation = self.hidden_layer_1(code)\n",
        "        return self.output_layer(activation)"
      ],
      "execution_count": 0,
      "outputs": []
    },
    {
      "cell_type": "code",
      "metadata": {
        "id": "Q1CEx-YUKDLr",
        "colab_type": "code",
        "colab": {}
      },
      "source": [
        "class Autoencoder(tf.keras.Model):\n",
        "  def __init__(self, intermediate_dim, original_dim):\n",
        "    super(Autoencoder, self).__init__()\n",
        "    self.loss = []\n",
        "    self.encoder = Encoder(intermediate_dim=intermediate_dim)\n",
        "    self.decoder = Decoder(intermediate_dim=intermediate_dim, original_dim=original_dim)\n",
        "\n",
        "  def call(self, input_features):\n",
        "    code = self.encoder(input_features)\n",
        "    reconstructed = self.decoder(code)\n",
        "    return reconstructed"
      ],
      "execution_count": 0,
      "outputs": []
    },
    {
      "cell_type": "code",
      "metadata": {
        "id": "Gnc2dtHHKDQ2",
        "colab_type": "code",
        "colab": {}
      },
      "source": [
        "def loss(preds, real):\n",
        "  return tf.reduce_mean(tf.square(tf.subtract(preds, real)))"
      ],
      "execution_count": 0,
      "outputs": []
    },
    {
      "cell_type": "code",
      "metadata": {
        "id": "2_a2LPcTKDUZ",
        "colab_type": "code",
        "colab": {}
      },
      "source": [
        "def train(loss, model, opt, original):\n",
        "  with tf.GradientTape() as tape:\n",
        "    preds = model(original)\n",
        "    reconstruction_error = loss(preds, original)\n",
        "  gradients = tape.gradient(reconstruction_error, model.trainable_variables)\n",
        "  gradient_variables = zip(gradients, model.trainable_variables)\n",
        "  opt.apply_gradients(gradient_variables)\n",
        "  \n",
        "  return reconstruction_error"
      ],
      "execution_count": 0,
      "outputs": []
    },
    {
      "cell_type": "code",
      "metadata": {
        "id": "QSbSjPaPKDX2",
        "colab_type": "code",
        "colab": {}
      },
      "source": [
        "def train_loop(model, opt, loss, dataset, epochs):\n",
        "  for epoch in range(epochs):\n",
        "    epoch_loss = 0\n",
        "    for step, batch_features in enumerate(dataset):\n",
        "      loss_values = train(loss, model, opt, batch_features)\n",
        "      epoch_loss += loss_values\n",
        "    model.loss.append(epoch_loss)\n",
        "    print('Epoch {}/{}. Loss: {}'.format(epoch + 1, epochs, epoch_loss.numpy()))"
      ],
      "execution_count": 0,
      "outputs": []
    },
    {
      "cell_type": "code",
      "metadata": {
        "id": "te7ic_G1KDbV",
        "colab_type": "code",
        "colab": {}
      },
      "source": [
        "from tensorflow.keras.datasets import mnist\n",
        "(x_train, _), (x_test, _) = mnist.load_data()\n",
        "\n",
        "x_train = x_train / 255.\n",
        "x_test = x_test / 255.\n",
        "x_train = x_train.astype(np.float32)\n",
        "x_train = np.reshape(x_train, (x_train.shape[0], 784))\n",
        "x_test = np.reshape(x_test, (x_test.shape[0], 784))\n",
        "\n",
        "training_dataset = tf.data.Dataset.from_tensor_slices(x_train).batch(256)"
      ],
      "execution_count": 0,
      "outputs": []
    },
    {
      "cell_type": "code",
      "metadata": {
        "id": "N7C-sH07KDhC",
        "colab_type": "code",
        "colab": {
          "base_uri": "https://localhost:8080/",
          "height": 1000
        },
        "outputId": "72a3976b-32d6-4c18-e88e-7247d9244762"
      },
      "source": [
        "model = Autoencoder(intermediate_dim=128, original_dim=784)\n",
        "opt = tf.keras.optimizers.Adam(learning_rate=1e-2)\n",
        "\n",
        "train_loop(model, opt, loss, training_dataset, 100)"
      ],
      "execution_count": 133,
      "outputs": [
        {
          "output_type": "stream",
          "text": [
            "Epoch 1/100. Loss: 9.491893768310547\n",
            "Epoch 2/100. Loss: 5.949931621551514\n",
            "Epoch 3/100. Loss: 5.281538963317871\n",
            "Epoch 4/100. Loss: 4.905313491821289\n",
            "Epoch 5/100. Loss: 4.617212295532227\n",
            "Epoch 6/100. Loss: 4.446661949157715\n",
            "Epoch 7/100. Loss: 4.410552978515625\n",
            "Epoch 8/100. Loss: 4.352414131164551\n",
            "Epoch 9/100. Loss: 4.309728622436523\n",
            "Epoch 10/100. Loss: 4.236447811126709\n",
            "Epoch 11/100. Loss: 4.222315311431885\n",
            "Epoch 12/100. Loss: 4.203145980834961\n",
            "Epoch 13/100. Loss: 4.161771774291992\n",
            "Epoch 14/100. Loss: 4.115569114685059\n",
            "Epoch 15/100. Loss: 4.1071696281433105\n",
            "Epoch 16/100. Loss: 4.149508476257324\n",
            "Epoch 17/100. Loss: 4.096113204956055\n",
            "Epoch 18/100. Loss: 4.14793586730957\n",
            "Epoch 19/100. Loss: 4.055919647216797\n",
            "Epoch 20/100. Loss: 4.04757833480835\n",
            "Epoch 21/100. Loss: 4.068296432495117\n",
            "Epoch 22/100. Loss: 4.091609477996826\n",
            "Epoch 23/100. Loss: 4.042102336883545\n",
            "Epoch 24/100. Loss: 4.061018943786621\n",
            "Epoch 25/100. Loss: 4.062565326690674\n",
            "Epoch 26/100. Loss: 4.025364398956299\n",
            "Epoch 27/100. Loss: 4.033552646636963\n",
            "Epoch 28/100. Loss: 3.999457836151123\n",
            "Epoch 29/100. Loss: 3.993269205093384\n",
            "Epoch 30/100. Loss: 4.022414207458496\n",
            "Epoch 31/100. Loss: 4.018670558929443\n",
            "Epoch 32/100. Loss: 3.9977166652679443\n",
            "Epoch 33/100. Loss: 3.9670443534851074\n",
            "Epoch 34/100. Loss: 3.9631259441375732\n",
            "Epoch 35/100. Loss: 3.97688364982605\n",
            "Epoch 36/100. Loss: 3.9641575813293457\n",
            "Epoch 37/100. Loss: 3.9436752796173096\n",
            "Epoch 38/100. Loss: 3.9586520195007324\n",
            "Epoch 39/100. Loss: 3.941525459289551\n",
            "Epoch 40/100. Loss: 3.934699773788452\n",
            "Epoch 41/100. Loss: 3.980520248413086\n",
            "Epoch 42/100. Loss: 3.94547176361084\n",
            "Epoch 43/100. Loss: 3.954418659210205\n",
            "Epoch 44/100. Loss: 3.964536190032959\n",
            "Epoch 45/100. Loss: 3.920335054397583\n",
            "Epoch 46/100. Loss: 3.9484946727752686\n",
            "Epoch 47/100. Loss: 3.9477901458740234\n",
            "Epoch 48/100. Loss: 3.9272994995117188\n",
            "Epoch 49/100. Loss: 3.900074005126953\n",
            "Epoch 50/100. Loss: 3.9096758365631104\n",
            "Epoch 51/100. Loss: 3.905787467956543\n",
            "Epoch 52/100. Loss: 3.919029712677002\n",
            "Epoch 53/100. Loss: 3.9381213188171387\n",
            "Epoch 54/100. Loss: 3.906057596206665\n",
            "Epoch 55/100. Loss: 3.910959482192993\n",
            "Epoch 56/100. Loss: 3.8632254600524902\n",
            "Epoch 57/100. Loss: 3.885495901107788\n",
            "Epoch 58/100. Loss: 3.8759753704071045\n",
            "Epoch 59/100. Loss: 3.8827855587005615\n",
            "Epoch 60/100. Loss: 3.8760294914245605\n",
            "Epoch 61/100. Loss: 3.880972146987915\n",
            "Epoch 62/100. Loss: 3.834514856338501\n",
            "Epoch 63/100. Loss: 3.885340929031372\n",
            "Epoch 64/100. Loss: 3.8824310302734375\n",
            "Epoch 65/100. Loss: 3.8663434982299805\n",
            "Epoch 66/100. Loss: 3.8816423416137695\n",
            "Epoch 67/100. Loss: 3.8582448959350586\n",
            "Epoch 68/100. Loss: 3.862924575805664\n",
            "Epoch 69/100. Loss: 3.8545260429382324\n",
            "Epoch 70/100. Loss: 3.840907096862793\n",
            "Epoch 71/100. Loss: 3.8376574516296387\n",
            "Epoch 72/100. Loss: 3.854466676712036\n",
            "Epoch 73/100. Loss: 3.8381645679473877\n",
            "Epoch 74/100. Loss: 3.84364652633667\n",
            "Epoch 75/100. Loss: 3.862837791442871\n",
            "Epoch 76/100. Loss: 3.8464574813842773\n",
            "Epoch 77/100. Loss: 3.8476264476776123\n",
            "Epoch 78/100. Loss: 3.820927619934082\n",
            "Epoch 79/100. Loss: 3.8494021892547607\n",
            "Epoch 80/100. Loss: 3.792571783065796\n",
            "Epoch 81/100. Loss: 3.840384006500244\n",
            "Epoch 82/100. Loss: 3.8115906715393066\n",
            "Epoch 83/100. Loss: 3.860926866531372\n",
            "Epoch 84/100. Loss: 3.8193976879119873\n",
            "Epoch 85/100. Loss: 3.8280951976776123\n",
            "Epoch 86/100. Loss: 3.811143159866333\n",
            "Epoch 87/100. Loss: 3.8293607234954834\n",
            "Epoch 88/100. Loss: 3.799199342727661\n",
            "Epoch 89/100. Loss: 3.806495189666748\n",
            "Epoch 90/100. Loss: 3.776622772216797\n",
            "Epoch 91/100. Loss: 3.7923223972320557\n",
            "Epoch 92/100. Loss: 3.846494674682617\n",
            "Epoch 93/100. Loss: 3.776968479156494\n",
            "Epoch 94/100. Loss: 3.8346798419952393\n",
            "Epoch 95/100. Loss: 3.846405267715454\n",
            "Epoch 96/100. Loss: 3.7475080490112305\n",
            "Epoch 97/100. Loss: 3.781946897506714\n",
            "Epoch 98/100. Loss: 3.8059046268463135\n",
            "Epoch 99/100. Loss: 3.7900662422180176\n",
            "Epoch 100/100. Loss: 3.8124372959136963\n"
          ],
          "name": "stdout"
        }
      ]
    },
    {
      "cell_type": "code",
      "metadata": {
        "id": "gKgnsOYOKDkI",
        "colab_type": "code",
        "colab": {
          "base_uri": "https://localhost:8080/",
          "height": 279
        },
        "outputId": "90ff903f-1948-42be-8fac-d7451a37f8d0"
      },
      "source": [
        "plt.plot(range(100), model.loss)\n",
        "plt.xlabel('Epochs')\n",
        "plt.ylabel('Loss')\n",
        "plt.show()"
      ],
      "execution_count": 134,
      "outputs": [
        {
          "output_type": "display_data",
          "data": {
            "image/png": "[encoded data removed]",
            "text/plain": [
              "<Figure size 432x288 with 1 Axes>"
            ]
          },
          "metadata": {
            "tags": [],
            "needs_background": "light"
          }
        }
      ]
    },
    {
      "cell_type": "code",
      "metadata": {
        "id": "J1xdJKQoKDnA",
        "colab_type": "code",
        "colab": {
          "base_uri": "https://localhost:8080/",
          "height": 372
        },
        "outputId": "dddb4de2-ea7d-4b3e-bf0a-b64c6f1a1698"
      },
      "source": [
        "number = 10  # how many digits we will display\n",
        "plt.figure(figsize=(20, 4))\n",
        "for index in range(number):\n",
        "    # display original\n",
        "    ax = plt.subplot(2, number, index + 1)\n",
        "    plt.imshow(x_test[index].reshape(28, 28))\n",
        "    plt.gray()\n",
        "    ax.get_xaxis().set_visible(False)\n",
        "    ax.get_yaxis().set_visible(False)\n",
        "\n",
        "    # display reconstruction\n",
        "    ax = plt.subplot(2, number, index + 1 + number)\n",
        "    plt.imshow(model(x_test)[index].numpy().reshape(28, 28))\n",
        "    plt.gray()\n",
        "    ax.get_xaxis().set_visible(False)\n",
        "    ax.get_yaxis().set_visible(False)\n",
        "plt.show()"
      ],
      "execution_count": 135,
      "outputs": [
        {
          "output_type": "stream",
          "text": [
            "WARNING:tensorflow:Layer autoencoder_9 is casting an input tensor from dtype float64 to the layer's dtype of float32, which is new behavior in TensorFlow 2.  The layer has dtype float32 because it's dtype defaults to floatx.\n",
            "\n",
            "If you intended to run this layer in float32, you can safely ignore this warning. If in doubt, this warning is likely only an issue if you are porting a TensorFlow 1.X model to TensorFlow 2.\n",
            "\n",
            "To change all layers to have dtype float64 by default, call `tf.keras.backend.set_floatx('float64')`. To change just this layer, pass dtype='float64' to the layer constructor. If you are the author of this layer, you can disable autocasting by passing autocast=False to the base Layer constructor.\n",
            "\n"
          ],
          "name": "stdout"
        },
        {
          "output_type": "display_data",
          "data": {
            "image/png": "[encoded data removed]",
            "text/plain": [
              "<Figure size 1440x288 with 20 Axes>"
            ]
          },
          "metadata": {
            "tags": [],
            "needs_background": "light"
          }
        }
      ]
    },
    {
      "cell_type": "markdown",
      "metadata": {
        "id": "EDweYx4MODt6",
        "colab_type": "text"
      },
      "source": [
        "On adding 1 hidden layer to the base model, and changing the dimension size from 128 to 256, we can see that the root mean square error for the model has increased, indicating that the model starts to overfit."
      ]
    },
    {
      "cell_type": "markdown",
      "metadata": {
        "id": "OO8eHj7tT5EY",
        "colab_type": "text"
      },
      "source": [
        "**AUTOENCODER BASE MODEL + 2 HIDDEN LAYERS**"
      ]
    },
    {
      "cell_type": "code",
      "metadata": {
        "id": "Wnjs6cnnKDul",
        "colab_type": "code",
        "colab": {
          "base_uri": "https://localhost:8080/",
          "height": 52
        },
        "outputId": "d6ce0d25-0095-4ad3-e8bb-8f934e32991b"
      },
      "source": [
        "#################################################################################################\n",
        "#########               Base Model + 2 hidden layer (dimension change)                   ########\n",
        "#################################################################################################\n",
        "from __future__ import absolute_import, division, print_function, unicode_literals\n",
        "\n",
        "#try:\n",
        "  # The %tensorflow_version magic only works in colab.\n",
        "  # tensorflow_version 2.x\n",
        "#except Exception:\n",
        "#  pass\n",
        "import numpy as np\n",
        "import matplotlib.pyplot as plt\n",
        "import tensorflow as tf\n",
        "\n",
        "from tensorflow.keras.datasets import mnist\n",
        "\n",
        "print('TensorFlow version:', tf.__version__)\n",
        "print('Is Executing Eagerly?', tf.executing_eagerly())"
      ],
      "execution_count": 136,
      "outputs": [
        {
          "output_type": "stream",
          "text": [
            "TensorFlow version: 2.2.0-rc2\n",
            "Is Executing Eagerly? True\n"
          ],
          "name": "stdout"
        }
      ]
    },
    {
      "cell_type": "code",
      "metadata": {
        "id": "clwrC_aRKDeh",
        "colab_type": "code",
        "colab": {}
      },
      "source": [
        "class Encoder(tf.keras.layers.Layer):\n",
        "    def __init__(self, intermediate_dim):\n",
        "        super(Encoder, self).__init__()\n",
        "        self.hidden_layer_1 = tf.keras.layers.Dense(units=intermediate_dim, activation=tf.nn.relu)\n",
        "        self.hidden_layer_2 = tf.keras.layers.Dense(units=intermediate_dim/2, activation=tf.nn.relu)\n",
        "        self.hidden_layer_3 = tf.keras.layers.Dense(units=intermediate_dim/4, activation=tf.nn.relu)\n",
        "        self.output_layer = tf.keras.layers.Dense(units=intermediate_dim/4, activation=tf.nn.relu)\n",
        "    \n",
        "    def call(self, input_features):\n",
        "        hid_layer_1 = self.hidden_layer_1(input_features)\n",
        "        hid_layer_2 = self.hidden_layer_2(hid_layer_1)\n",
        "        activation = self.hidden_layer_3(hid_layer_2)\n",
        "        return self.output_layer(activation)"
      ],
      "execution_count": 0,
      "outputs": []
    },
    {
      "cell_type": "code",
      "metadata": {
        "id": "m7v_IRR-TjQT",
        "colab_type": "code",
        "colab": {}
      },
      "source": [
        "class Decoder(tf.keras.layers.Layer):\n",
        "    def __init__(self, intermediate_dim, original_dim):\n",
        "        super(Decoder, self).__init__()\n",
        "        self.hidden_layer_1 = tf.keras.layers.Dense(units=intermediate_dim/2, activation=tf.nn.relu)\n",
        "        self.hidden_layer_2 = tf.keras.layers.Dense(units=intermediate_dim, activation=tf.nn.relu)\n",
        "        self.output_layer = tf.keras.layers.Dense(units=original_dim, activation=tf.nn.relu)\n",
        "  \n",
        "    def call(self, code):\n",
        "        hid_layer_1 = self.hidden_layer_1(code)\n",
        "        activation = self.hidden_layer_2(hid_layer_1)\n",
        "        return self.output_layer(activation)"
      ],
      "execution_count": 0,
      "outputs": []
    },
    {
      "cell_type": "code",
      "metadata": {
        "id": "C7DaIscvTSh2",
        "colab_type": "code",
        "colab": {}
      },
      "source": [
        "class Autoencoder(tf.keras.Model):\n",
        "  def __init__(self, intermediate_dim, original_dim):\n",
        "    super(Autoencoder, self).__init__()\n",
        "    self.loss = []\n",
        "    self.encoder = Encoder(intermediate_dim=intermediate_dim)\n",
        "    self.decoder = Decoder(intermediate_dim=intermediate_dim, original_dim=original_dim)\n",
        "\n",
        "  def call(self, input_features):\n",
        "    code = self.encoder(input_features)\n",
        "    reconstructed = self.decoder(code)\n",
        "    return reconstructed"
      ],
      "execution_count": 0,
      "outputs": []
    },
    {
      "cell_type": "code",
      "metadata": {
        "id": "Ga_d8HgdTSoD",
        "colab_type": "code",
        "colab": {}
      },
      "source": [
        "def loss(preds, real):\n",
        "  return tf.reduce_mean(tf.square(tf.subtract(preds, real)))"
      ],
      "execution_count": 0,
      "outputs": []
    },
    {
      "cell_type": "code",
      "metadata": {
        "id": "Qn3BpdTdTSuM",
        "colab_type": "code",
        "colab": {}
      },
      "source": [
        "def train(loss, model, opt, original):\n",
        "  with tf.GradientTape() as tape:\n",
        "    preds = model(original)\n",
        "    reconstruction_error = loss(preds, original)\n",
        "  gradients = tape.gradient(reconstruction_error, model.trainable_variables)\n",
        "  gradient_variables = zip(gradients, model.trainable_variables)\n",
        "  opt.apply_gradients(gradient_variables)\n",
        "  \n",
        "  return reconstruction_error"
      ],
      "execution_count": 0,
      "outputs": []
    },
    {
      "cell_type": "code",
      "metadata": {
        "id": "wcnzICfZTS04",
        "colab_type": "code",
        "colab": {}
      },
      "source": [
        "def train_loop(model, opt, loss, dataset, epochs):\n",
        "  for epoch in range(epochs):\n",
        "    epoch_loss = 0\n",
        "    for step, batch_features in enumerate(dataset):\n",
        "      loss_values = train(loss, model, opt, batch_features)\n",
        "      epoch_loss += loss_values\n",
        "    model.loss.append(epoch_loss)\n",
        "    print('Epoch {}/{}. Loss: {}'.format(epoch + 1, epochs, epoch_loss.numpy()))"
      ],
      "execution_count": 0,
      "outputs": []
    },
    {
      "cell_type": "code",
      "metadata": {
        "id": "nzZvpfamT3F9",
        "colab_type": "code",
        "colab": {}
      },
      "source": [
        "from tensorflow.keras.datasets import mnist\n",
        "(x_train, _), (x_test, _) = mnist.load_data()\n",
        "\n",
        "x_train = x_train / 255.\n",
        "x_test = x_test / 255.\n",
        "x_train = x_train.astype(np.float32)\n",
        "x_train = np.reshape(x_train, (x_train.shape[0], 784))\n",
        "x_test = np.reshape(x_test, (x_test.shape[0], 784))\n",
        "\n",
        "training_dataset = tf.data.Dataset.from_tensor_slices(x_train).batch(256)"
      ],
      "execution_count": 0,
      "outputs": []
    },
    {
      "cell_type": "code",
      "metadata": {
        "id": "TdYU_pp8T3Qo",
        "colab_type": "code",
        "colab": {
          "base_uri": "https://localhost:8080/",
          "height": 1000
        },
        "outputId": "ded102ff-40b3-4bfa-c918-6b7a1215f1d2"
      },
      "source": [
        "model = Autoencoder(intermediate_dim=128, original_dim=784)\n",
        "opt = tf.keras.optimizers.Adam(learning_rate=1e-2)\n",
        "\n",
        "train_loop(model, opt, loss, training_dataset, 100)"
      ],
      "execution_count": 144,
      "outputs": [
        {
          "output_type": "stream",
          "text": [
            "Epoch 1/100. Loss: 11.92094898223877\n",
            "Epoch 2/100. Loss: 8.088661193847656\n",
            "Epoch 3/100. Loss: 7.296438694000244\n",
            "Epoch 4/100. Loss: 6.771991729736328\n",
            "Epoch 5/100. Loss: 6.363183498382568\n",
            "Epoch 6/100. Loss: 6.121287822723389\n",
            "Epoch 7/100. Loss: 5.909438133239746\n",
            "Epoch 8/100. Loss: 5.825676441192627\n",
            "Epoch 9/100. Loss: 5.742730617523193\n",
            "Epoch 10/100. Loss: 5.578428268432617\n",
            "Epoch 11/100. Loss: 5.4379563331604\n",
            "Epoch 12/100. Loss: 5.426820755004883\n",
            "Epoch 13/100. Loss: 5.305028438568115\n",
            "Epoch 14/100. Loss: 5.176307201385498\n",
            "Epoch 15/100. Loss: 5.134496212005615\n",
            "Epoch 16/100. Loss: 5.143777847290039\n",
            "Epoch 17/100. Loss: 5.102137088775635\n",
            "Epoch 18/100. Loss: 5.061840057373047\n",
            "Epoch 19/100. Loss: 5.103851318359375\n",
            "Epoch 20/100. Loss: 5.025472164154053\n",
            "Epoch 21/100. Loss: 5.019302845001221\n",
            "Epoch 22/100. Loss: 4.9675164222717285\n",
            "Epoch 23/100. Loss: 4.975117206573486\n",
            "Epoch 24/100. Loss: 4.934704303741455\n",
            "Epoch 25/100. Loss: 4.992208480834961\n",
            "Epoch 26/100. Loss: 4.978580951690674\n",
            "Epoch 27/100. Loss: 4.948014259338379\n",
            "Epoch 28/100. Loss: 4.923258304595947\n",
            "Epoch 29/100. Loss: 4.949353218078613\n",
            "Epoch 30/100. Loss: 4.901487827301025\n",
            "Epoch 31/100. Loss: 4.883824825286865\n",
            "Epoch 32/100. Loss: 4.937739849090576\n",
            "Epoch 33/100. Loss: 4.861677646636963\n",
            "Epoch 34/100. Loss: 4.894397735595703\n",
            "Epoch 35/100. Loss: 4.855158805847168\n",
            "Epoch 36/100. Loss: 4.885158538818359\n",
            "Epoch 37/100. Loss: 4.905919075012207\n",
            "Epoch 38/100. Loss: 4.89332389831543\n",
            "Epoch 39/100. Loss: 4.882689952850342\n",
            "Epoch 40/100. Loss: 4.871696949005127\n",
            "Epoch 41/100. Loss: 4.861661911010742\n",
            "Epoch 42/100. Loss: 4.834530353546143\n",
            "Epoch 43/100. Loss: 4.854238986968994\n",
            "Epoch 44/100. Loss: 4.86991024017334\n",
            "Epoch 45/100. Loss: 4.835464954376221\n",
            "Epoch 46/100. Loss: 4.817357063293457\n",
            "Epoch 47/100. Loss: 4.835815906524658\n",
            "Epoch 48/100. Loss: 4.874931335449219\n",
            "Epoch 49/100. Loss: 4.849771022796631\n",
            "Epoch 50/100. Loss: 4.827802658081055\n",
            "Epoch 51/100. Loss: 4.761323928833008\n",
            "Epoch 52/100. Loss: 4.770635604858398\n",
            "Epoch 53/100. Loss: 4.812653541564941\n",
            "Epoch 54/100. Loss: 4.771845817565918\n",
            "Epoch 55/100. Loss: 4.733707427978516\n",
            "Epoch 56/100. Loss: 4.7554097175598145\n",
            "Epoch 57/100. Loss: 4.781068801879883\n",
            "Epoch 58/100. Loss: 4.759140491485596\n",
            "Epoch 59/100. Loss: 4.712297439575195\n",
            "Epoch 60/100. Loss: 4.756794452667236\n",
            "Epoch 61/100. Loss: 4.770659923553467\n",
            "Epoch 62/100. Loss: 4.7060112953186035\n",
            "Epoch 63/100. Loss: 4.700575828552246\n",
            "Epoch 64/100. Loss: 4.724652290344238\n",
            "Epoch 65/100. Loss: 4.71928596496582\n",
            "Epoch 66/100. Loss: 4.743966102600098\n",
            "Epoch 67/100. Loss: 4.761701583862305\n",
            "Epoch 68/100. Loss: 4.675584316253662\n",
            "Epoch 69/100. Loss: 4.705409526824951\n",
            "Epoch 70/100. Loss: 4.743072032928467\n",
            "Epoch 71/100. Loss: 4.695301055908203\n",
            "Epoch 72/100. Loss: 4.729959487915039\n",
            "Epoch 73/100. Loss: 4.6838603019714355\n",
            "Epoch 74/100. Loss: 4.785212993621826\n",
            "Epoch 75/100. Loss: 4.675469398498535\n",
            "Epoch 76/100. Loss: 4.677631378173828\n",
            "Epoch 77/100. Loss: 4.699326515197754\n",
            "Epoch 78/100. Loss: 4.7104058265686035\n",
            "Epoch 79/100. Loss: 4.694975852966309\n",
            "Epoch 80/100. Loss: 4.658260822296143\n",
            "Epoch 81/100. Loss: 4.658543109893799\n",
            "Epoch 82/100. Loss: 4.727104663848877\n",
            "Epoch 83/100. Loss: 4.692501544952393\n",
            "Epoch 84/100. Loss: 4.692785739898682\n",
            "Epoch 85/100. Loss: 4.666593074798584\n",
            "Epoch 86/100. Loss: 4.710612773895264\n",
            "Epoch 87/100. Loss: 4.668859004974365\n",
            "Epoch 88/100. Loss: 4.6975998878479\n",
            "Epoch 89/100. Loss: 4.670306205749512\n",
            "Epoch 90/100. Loss: 4.660299777984619\n",
            "Epoch 91/100. Loss: 4.681129455566406\n",
            "Epoch 92/100. Loss: 4.7186431884765625\n",
            "Epoch 93/100. Loss: 4.651323318481445\n",
            "Epoch 94/100. Loss: 4.664068222045898\n",
            "Epoch 95/100. Loss: 4.658714771270752\n",
            "Epoch 96/100. Loss: 4.638140678405762\n",
            "Epoch 97/100. Loss: 4.67677116394043\n",
            "Epoch 98/100. Loss: 4.63974666595459\n",
            "Epoch 99/100. Loss: 4.732178688049316\n",
            "Epoch 100/100. Loss: 4.638249397277832\n"
          ],
          "name": "stdout"
        }
      ]
    },
    {
      "cell_type": "code",
      "metadata": {
        "id": "nf1vLWudUDLK",
        "colab_type": "code",
        "colab": {
          "base_uri": "https://localhost:8080/",
          "height": 279
        },
        "outputId": "26190d22-c11d-4a55-c9a7-b2e2cefbe47b"
      },
      "source": [
        "plt.plot(range(100), model.loss)\n",
        "plt.xlabel('Epochs')\n",
        "plt.ylabel('Loss')\n",
        "plt.show()"
      ],
      "execution_count": 145,
      "outputs": [
        {
          "output_type": "display_data",
          "data": {
            "image/png": "[encoded data removed]",
            "text/plain": [
              "<Figure size 432x288 with 1 Axes>"
            ]
          },
          "metadata": {
            "tags": [],
            "needs_background": "light"
          }
        }
      ]
    },
    {
      "cell_type": "code",
      "metadata": {
        "id": "rYI5c5WKUDSF",
        "colab_type": "code",
        "colab": {
          "base_uri": "https://localhost:8080/",
          "height": 372
        },
        "outputId": "ba0f961e-422a-437e-e3ef-14f47ebaf140"
      },
      "source": [
        "number = 10  # how many digits we will display\n",
        "plt.figure(figsize=(20, 4))\n",
        "for index in range(number):\n",
        "    # display original\n",
        "    ax = plt.subplot(2, number, index + 1)\n",
        "    plt.imshow(x_test[index].reshape(28, 28))\n",
        "    plt.gray()\n",
        "    ax.get_xaxis().set_visible(False)\n",
        "    ax.get_yaxis().set_visible(False)\n",
        "\n",
        "    # display reconstruction\n",
        "    ax = plt.subplot(2, number, index + 1 + number)\n",
        "    plt.imshow(model(x_test)[index].numpy().reshape(28, 28))\n",
        "    plt.gray()\n",
        "    ax.get_xaxis().set_visible(False)\n",
        "    ax.get_yaxis().set_visible(False)\n",
        "plt.show()"
      ],
      "execution_count": 146,
      "outputs": [
        {
          "output_type": "stream",
          "text": [
            "WARNING:tensorflow:Layer autoencoder_10 is casting an input tensor from dtype float64 to the layer's dtype of float32, which is new behavior in TensorFlow 2.  The layer has dtype float32 because it's dtype defaults to floatx.\n",
            "\n",
            "If you intended to run this layer in float32, you can safely ignore this warning. If in doubt, this warning is likely only an issue if you are porting a TensorFlow 1.X model to TensorFlow 2.\n",
            "\n",
            "To change all layers to have dtype float64 by default, call `tf.keras.backend.set_floatx('float64')`. To change just this layer, pass dtype='float64' to the layer constructor. If you are the author of this layer, you can disable autocasting by passing autocast=False to the base Layer constructor.\n",
            "\n"
          ],
          "name": "stdout"
        },
        {
          "output_type": "display_data",
          "data": {
            "image/png": "[encoded data removed]",
            "text/plain": [
              "<Figure size 1440x288 with 20 Axes>"
            ]
          },
          "metadata": {
            "tags": [],
            "needs_background": "light"
          }
        }
      ]
    },
    {
      "cell_type": "markdown",
      "metadata": {
        "id": "v4_lgmKKI7Lj",
        "colab_type": "text"
      },
      "source": [
        "## CNN BASE MODEL"
      ]
    },
    {
      "cell_type": "code",
      "metadata": {
        "id": "XdsqOecOhUje",
        "colab_type": "code",
        "colab": {}
      },
      "source": [
        "#################################################################################################\n",
        "#########                            CNN Base Model                                      ########\n",
        "#################################################################################################\n",
        "\n",
        "\n",
        "input_img = tf.keras.layers.Input(shape=(28, 28, 1)) # adapt this if using `channels_first` image data format\n",
        "\n",
        "x = tf.keras.layers.Conv2D(16, (3, 3), activation='relu', padding='same')(input_img)\n",
        "x = tf.keras.layers.MaxPooling2D((2, 2), padding='same')(x)\n",
        "x = tf.keras.layers.Conv2D(8, (3, 3), activation='relu', padding='same')(x)\n",
        "x = tf.keras.layers.MaxPooling2D((2, 2), padding='same')(x)\n",
        "x = tf.keras.layers.Conv2D(8, (3, 3), activation='relu', padding='same')(x)\n",
        "encoded = tf.keras.layers.MaxPooling2D((2, 2), padding='same')(x)\n",
        "\n",
        "# at this point the representation is (4, 4, 8) i.e. 128-dimensional\n",
        "\n",
        "x = tf.keras.layers.Conv2D(8, (3, 3), activation='relu', padding='same')(encoded)\n",
        "x = tf.keras.layers.UpSampling2D((2, 2))(x)\n",
        "x = tf.keras.layers.Conv2D(8, (3, 3), activation='relu', padding='same')(x)\n",
        "x = tf.keras.layers.UpSampling2D((2, 2))(x)\n",
        "x = tf.keras.layers.Conv2D(16, (3, 3), activation='relu')(x)\n",
        "x = tf.keras.layers.UpSampling2D((2, 2))(x)\n",
        "decoded = tf.keras.layers.Conv2D(1, (3, 3), activation='sigmoid', padding='same')(x)\n",
        "\n",
        "autoencoder = tf.keras.models.Model(input_img, decoded)\n",
        "autoencoder.compile(optimizer='adadelta', loss='binary_crossentropy')"
      ],
      "execution_count": 0,
      "outputs": []
    },
    {
      "cell_type": "code",
      "metadata": {
        "id": "V_dkP1RNhUnU",
        "colab_type": "code",
        "colab": {}
      },
      "source": [
        "# to train this model we will with original MNIST digits with shape (samples, 3, 28, 28) and we will just normalize pixel values between 0 and 1\n",
        "# (x_train, _), (x_test, _) = load_data('../input/mnist.npz')\n",
        "from tensorflow.keras.datasets import mnist\n",
        "(x_train, _), (x_test, _) = mnist.load_data()\n",
        "\n",
        "x_train = x_train.astype('float32') / 255.\n",
        "x_test = x_test.astype('float32') / 255.\n",
        "x_train = np.reshape(x_train, (len(x_train), 28, 28, 1))\n",
        "x_test = np.reshape(x_test, (len(x_test), 28, 28, 1))"
      ],
      "execution_count": 0,
      "outputs": []
    },
    {
      "cell_type": "code",
      "metadata": {
        "id": "KOta7GNqhUqB",
        "colab_type": "code",
        "colab": {
          "base_uri": "https://localhost:8080/",
          "height": 1000
        },
        "outputId": "6f83b45c-908f-41b7-aa25-cb76dc6c4aba"
      },
      "source": [
        "autoencoder.fit(x_train, x_train, epochs=100, batch_size=128, \n",
        "                shuffle=True, validation_data=(x_test, x_test), \n",
        "                callbacks=[tf.keras.callbacks.TensorBoard(log_dir='./tmp/autoencoder')])"
      ],
      "execution_count": 62,
      "outputs": [
        {
          "output_type": "stream",
          "text": [
            "Epoch 1/100\n",
            "469/469 [==============================] - 4s 8ms/step - loss: 0.6893 - val_loss: 0.6878\n",
            "Epoch 2/100\n",
            "469/469 [==============================] - 3s 7ms/step - loss: 0.6857 - val_loss: 0.6834\n",
            "Epoch 3/100\n",
            "469/469 [==============================] - 3s 7ms/step - loss: 0.6797 - val_loss: 0.6752\n",
            "Epoch 4/100\n",
            "469/469 [==============================] - 3s 7ms/step - loss: 0.6664 - val_loss: 0.6536\n",
            "Epoch 5/100\n",
            "469/469 [==============================] - 3s 7ms/step - loss: 0.6146 - val_loss: 0.5546\n",
            "Epoch 6/100\n",
            "469/469 [==============================] - 3s 7ms/step - loss: 0.5026 - val_loss: 0.4850\n",
            "Epoch 7/100\n",
            "469/469 [==============================] - 3s 7ms/step - loss: 0.4757 - val_loss: 0.4754\n",
            "Epoch 8/100\n",
            "469/469 [==============================] - 3s 7ms/step - loss: 0.4672 - val_loss: 0.4677\n",
            "Epoch 9/100\n",
            "469/469 [==============================] - 3s 7ms/step - loss: 0.4601 - val_loss: 0.4610\n",
            "Epoch 10/100\n",
            "469/469 [==============================] - 3s 7ms/step - loss: 0.4539 - val_loss: 0.4551\n",
            "Epoch 11/100\n",
            "469/469 [==============================] - 3s 7ms/step - loss: 0.4482 - val_loss: 0.4495\n",
            "Epoch 12/100\n",
            "469/469 [==============================] - 3s 7ms/step - loss: 0.4428 - val_loss: 0.4440\n",
            "Epoch 13/100\n",
            "469/469 [==============================] - 3s 7ms/step - loss: 0.4373 - val_loss: 0.4385\n",
            "Epoch 14/100\n",
            "469/469 [==============================] - 3s 7ms/step - loss: 0.4318 - val_loss: 0.4328\n",
            "Epoch 15/100\n",
            "469/469 [==============================] - 3s 7ms/step - loss: 0.4260 - val_loss: 0.4266\n",
            "Epoch 16/100\n",
            "469/469 [==============================] - 3s 7ms/step - loss: 0.4197 - val_loss: 0.4200\n",
            "Epoch 17/100\n",
            "469/469 [==============================] - 3s 7ms/step - loss: 0.4128 - val_loss: 0.4126\n",
            "Epoch 18/100\n",
            "469/469 [==============================] - 3s 7ms/step - loss: 0.4052 - val_loss: 0.4042\n",
            "Epoch 19/100\n",
            "469/469 [==============================] - 3s 7ms/step - loss: 0.3964 - val_loss: 0.3947\n",
            "Epoch 20/100\n",
            "469/469 [==============================] - 3s 7ms/step - loss: 0.3865 - val_loss: 0.3838\n",
            "Epoch 21/100\n",
            "469/469 [==============================] - 3s 7ms/step - loss: 0.3752 - val_loss: 0.3718\n",
            "Epoch 22/100\n",
            "469/469 [==============================] - 3s 7ms/step - loss: 0.3630 - val_loss: 0.3589\n",
            "Epoch 23/100\n",
            "469/469 [==============================] - 3s 7ms/step - loss: 0.3502 - val_loss: 0.3459\n",
            "Epoch 24/100\n",
            "469/469 [==============================] - 3s 7ms/step - loss: 0.3378 - val_loss: 0.3342\n",
            "Epoch 25/100\n",
            "469/469 [==============================] - 3s 7ms/step - loss: 0.3272 - val_loss: 0.3244\n",
            "Epoch 26/100\n",
            "469/469 [==============================] - 3s 7ms/step - loss: 0.3182 - val_loss: 0.3159\n",
            "Epoch 27/100\n",
            "469/469 [==============================] - 3s 7ms/step - loss: 0.3102 - val_loss: 0.3083\n",
            "Epoch 28/100\n",
            "469/469 [==============================] - 3s 7ms/step - loss: 0.3030 - val_loss: 0.3012\n",
            "Epoch 29/100\n",
            "469/469 [==============================] - 3s 7ms/step - loss: 0.2962 - val_loss: 0.2945\n",
            "Epoch 30/100\n",
            "469/469 [==============================] - 3s 7ms/step - loss: 0.2898 - val_loss: 0.2882\n",
            "Epoch 31/100\n",
            "469/469 [==============================] - 4s 8ms/step - loss: 0.2837 - val_loss: 0.2822\n",
            "Epoch 32/100\n",
            "469/469 [==============================] - 3s 7ms/step - loss: 0.2781 - val_loss: 0.2768\n",
            "Epoch 33/100\n",
            "469/469 [==============================] - 4s 7ms/step - loss: 0.2730 - val_loss: 0.2717\n",
            "Epoch 34/100\n",
            "469/469 [==============================] - 3s 7ms/step - loss: 0.2683 - val_loss: 0.2672\n",
            "Epoch 35/100\n",
            "469/469 [==============================] - 3s 7ms/step - loss: 0.2640 - val_loss: 0.2630\n",
            "Epoch 36/100\n",
            "469/469 [==============================] - 3s 7ms/step - loss: 0.2601 - val_loss: 0.2591\n",
            "Epoch 37/100\n",
            "469/469 [==============================] - 3s 7ms/step - loss: 0.2565 - val_loss: 0.2556\n",
            "Epoch 38/100\n",
            "469/469 [==============================] - 3s 7ms/step - loss: 0.2531 - val_loss: 0.2524\n",
            "Epoch 39/100\n",
            "469/469 [==============================] - 3s 7ms/step - loss: 0.2501 - val_loss: 0.2494\n",
            "Epoch 40/100\n",
            "469/469 [==============================] - 3s 7ms/step - loss: 0.2473 - val_loss: 0.2466\n",
            "Epoch 41/100\n",
            "469/469 [==============================] - 3s 7ms/step - loss: 0.2447 - val_loss: 0.2441\n",
            "Epoch 42/100\n",
            "469/469 [==============================] - 3s 7ms/step - loss: 0.2422 - val_loss: 0.2417\n",
            "Epoch 43/100\n",
            "469/469 [==============================] - 3s 7ms/step - loss: 0.2400 - val_loss: 0.2395\n",
            "Epoch 44/100\n",
            "469/469 [==============================] - 3s 7ms/step - loss: 0.2379 - val_loss: 0.2374\n",
            "Epoch 45/100\n",
            "469/469 [==============================] - 3s 7ms/step - loss: 0.2359 - val_loss: 0.2355\n",
            "Epoch 46/100\n",
            "469/469 [==============================] - 3s 7ms/step - loss: 0.2341 - val_loss: 0.2337\n",
            "Epoch 47/100\n",
            "469/469 [==============================] - 3s 7ms/step - loss: 0.2323 - val_loss: 0.2320\n",
            "Epoch 48/100\n",
            "469/469 [==============================] - 3s 7ms/step - loss: 0.2307 - val_loss: 0.2304\n",
            "Epoch 49/100\n",
            "469/469 [==============================] - 3s 7ms/step - loss: 0.2292 - val_loss: 0.2289\n",
            "Epoch 50/100\n",
            "469/469 [==============================] - 3s 7ms/step - loss: 0.2277 - val_loss: 0.2274\n",
            "Epoch 51/100\n",
            "469/469 [==============================] - 3s 7ms/step - loss: 0.2264 - val_loss: 0.2261\n",
            "Epoch 52/100\n",
            "469/469 [==============================] - 3s 7ms/step - loss: 0.2250 - val_loss: 0.2248\n",
            "Epoch 53/100\n",
            "469/469 [==============================] - 3s 7ms/step - loss: 0.2238 - val_loss: 0.2235\n",
            "Epoch 54/100\n",
            "469/469 [==============================] - 3s 7ms/step - loss: 0.2226 - val_loss: 0.2224\n",
            "Epoch 55/100\n",
            "469/469 [==============================] - 3s 7ms/step - loss: 0.2215 - val_loss: 0.2212\n",
            "Epoch 56/100\n",
            "469/469 [==============================] - 3s 7ms/step - loss: 0.2204 - val_loss: 0.2202\n",
            "Epoch 57/100\n",
            "469/469 [==============================] - 3s 7ms/step - loss: 0.2194 - val_loss: 0.2191\n",
            "Epoch 58/100\n",
            "469/469 [==============================] - 3s 7ms/step - loss: 0.2184 - val_loss: 0.2181\n",
            "Epoch 59/100\n",
            "469/469 [==============================] - 3s 7ms/step - loss: 0.2175 - val_loss: 0.2172\n",
            "Epoch 60/100\n",
            "469/469 [==============================] - 3s 7ms/step - loss: 0.2165 - val_loss: 0.2163\n",
            "Epoch 61/100\n",
            "469/469 [==============================] - 3s 7ms/step - loss: 0.2156 - val_loss: 0.2154\n",
            "Epoch 62/100\n",
            "469/469 [==============================] - 3s 7ms/step - loss: 0.2148 - val_loss: 0.2145\n",
            "Epoch 63/100\n",
            "469/469 [==============================] - 3s 7ms/step - loss: 0.2139 - val_loss: 0.2137\n",
            "Epoch 64/100\n",
            "469/469 [==============================] - 3s 7ms/step - loss: 0.2131 - val_loss: 0.2128\n",
            "Epoch 65/100\n",
            "469/469 [==============================] - 3s 7ms/step - loss: 0.2123 - val_loss: 0.2120\n",
            "Epoch 66/100\n",
            "469/469 [==============================] - 3s 7ms/step - loss: 0.2116 - val_loss: 0.2113\n",
            "Epoch 67/100\n",
            "469/469 [==============================] - 3s 7ms/step - loss: 0.2108 - val_loss: 0.2105\n",
            "Epoch 68/100\n",
            "469/469 [==============================] - 3s 7ms/step - loss: 0.2101 - val_loss: 0.2098\n",
            "Epoch 69/100\n",
            "469/469 [==============================] - 3s 7ms/step - loss: 0.2094 - val_loss: 0.2091\n",
            "Epoch 70/100\n",
            "469/469 [==============================] - 3s 7ms/step - loss: 0.2087 - val_loss: 0.2084\n",
            "Epoch 71/100\n",
            "469/469 [==============================] - 3s 7ms/step - loss: 0.2080 - val_loss: 0.2077\n",
            "Epoch 72/100\n",
            "469/469 [==============================] - 3s 7ms/step - loss: 0.2073 - val_loss: 0.2070\n",
            "Epoch 73/100\n",
            "469/469 [==============================] - 3s 7ms/step - loss: 0.2067 - val_loss: 0.2064\n",
            "Epoch 74/100\n",
            "469/469 [==============================] - 3s 7ms/step - loss: 0.2060 - val_loss: 0.2057\n",
            "Epoch 75/100\n",
            "469/469 [==============================] - 3s 7ms/step - loss: 0.2054 - val_loss: 0.2051\n",
            "Epoch 76/100\n",
            "469/469 [==============================] - 3s 7ms/step - loss: 0.2047 - val_loss: 0.2045\n",
            "Epoch 77/100\n",
            "469/469 [==============================] - 3s 7ms/step - loss: 0.2041 - val_loss: 0.2039\n",
            "Epoch 78/100\n",
            "469/469 [==============================] - 3s 7ms/step - loss: 0.2035 - val_loss: 0.2033\n",
            "Epoch 79/100\n",
            "469/469 [==============================] - 3s 7ms/step - loss: 0.2029 - val_loss: 0.2027\n",
            "Epoch 80/100\n",
            "469/469 [==============================] - 3s 7ms/step - loss: 0.2024 - val_loss: 0.2021\n",
            "Epoch 81/100\n",
            "469/469 [==============================] - 3s 7ms/step - loss: 0.2018 - val_loss: 0.2015\n",
            "Epoch 82/100\n",
            "469/469 [==============================] - 3s 7ms/step - loss: 0.2012 - val_loss: 0.2010\n",
            "Epoch 83/100\n",
            "469/469 [==============================] - 3s 7ms/step - loss: 0.2007 - val_loss: 0.2004\n",
            "Epoch 84/100\n",
            "469/469 [==============================] - 3s 7ms/step - loss: 0.2001 - val_loss: 0.1999\n",
            "Epoch 85/100\n",
            "469/469 [==============================] - 3s 7ms/step - loss: 0.1996 - val_loss: 0.1993\n",
            "Epoch 86/100\n",
            "469/469 [==============================] - 3s 7ms/step - loss: 0.1991 - val_loss: 0.1988\n",
            "Epoch 87/100\n",
            "469/469 [==============================] - 3s 7ms/step - loss: 0.1985 - val_loss: 0.1983\n",
            "Epoch 88/100\n",
            "469/469 [==============================] - 3s 7ms/step - loss: 0.1980 - val_loss: 0.1978\n",
            "Epoch 89/100\n",
            "469/469 [==============================] - 3s 7ms/step - loss: 0.1975 - val_loss: 0.1973\n",
            "Epoch 90/100\n",
            "469/469 [==============================] - 3s 7ms/step - loss: 0.1970 - val_loss: 0.1968\n",
            "Epoch 91/100\n",
            "469/469 [==============================] - 3s 7ms/step - loss: 0.1965 - val_loss: 0.1963\n",
            "Epoch 92/100\n",
            "469/469 [==============================] - 3s 7ms/step - loss: 0.1961 - val_loss: 0.1958\n",
            "Epoch 93/100\n",
            "469/469 [==============================] - 3s 7ms/step - loss: 0.1956 - val_loss: 0.1954\n",
            "Epoch 94/100\n",
            "469/469 [==============================] - 3s 7ms/step - loss: 0.1952 - val_loss: 0.1949\n",
            "Epoch 95/100\n",
            "469/469 [==============================] - 3s 7ms/step - loss: 0.1947 - val_loss: 0.1945\n",
            "Epoch 96/100\n",
            "469/469 [==============================] - 3s 7ms/step - loss: 0.1943 - val_loss: 0.1940\n",
            "Epoch 97/100\n",
            "469/469 [==============================] - 3s 7ms/step - loss: 0.1939 - val_loss: 0.1936\n",
            "Epoch 98/100\n",
            "469/469 [==============================] - 3s 7ms/step - loss: 0.1935 - val_loss: 0.1932\n",
            "Epoch 99/100\n",
            "469/469 [==============================] - 3s 7ms/step - loss: 0.1931 - val_loss: 0.1928\n",
            "Epoch 100/100\n",
            "469/469 [==============================] - 3s 7ms/step - loss: 0.1927 - val_loss: 0.1924\n"
          ],
          "name": "stdout"
        },
        {
          "output_type": "execute_result",
          "data": {
            "text/plain": [
              "<tensorflow.python.keras.callbacks.History at 0x7f88c4516240>"
            ]
          },
          "metadata": {
            "tags": []
          },
          "execution_count": 62
        }
      ]
    },
    {
      "cell_type": "code",
      "metadata": {
        "id": "IT5OtdAjhUs_",
        "colab_type": "code",
        "colab": {
          "base_uri": "https://localhost:8080/",
          "height": 248
        },
        "outputId": "22b01d9a-43a7-42c1-90e2-695042abaa1e"
      },
      "source": [
        "decoded_imgs = autoencoder.predict(x_test)\n",
        "\n",
        "n = 10\n",
        "plt.figure(figsize=(20, 4))\n",
        "for i in range(n):\n",
        "    # display original\n",
        "    ax = plt.subplot(2, n, i+1)\n",
        "    plt.imshow(x_test[i].reshape(28, 28))\n",
        "    plt.gray()\n",
        "    ax.get_xaxis().set_visible(False)\n",
        "    ax.get_yaxis().set_visible(False)\n",
        "\n",
        "    # display reconstruction\n",
        "    ax = plt.subplot(2, n, i + 1 + n)\n",
        "    plt.imshow(decoded_imgs[i].reshape(28, 28))\n",
        "    plt.gray()\n",
        "    ax.get_xaxis().set_visible(False)\n",
        "    ax.get_yaxis().set_visible(False)\n",
        "plt.show()"
      ],
      "execution_count": 63,
      "outputs": [
        {
          "output_type": "display_data",
          "data": {
            "image/png": "[encoded data removed]",
            "text/plain": [
              "<Figure size 1440x288 with 20 Axes>"
            ]
          },
          "metadata": {
            "tags": [],
            "needs_background": "light"
          }
        }
      ]
    },
    {
      "cell_type": "markdown",
      "metadata": {
        "id": "nYaEVgcKS1hw",
        "colab_type": "text"
      },
      "source": [
        "## **CNN MODEL VARIATIONS**"
      ]
    },
    {
      "cell_type": "code",
      "metadata": {
        "id": "MKBJcQ80Bii8",
        "colab_type": "code",
        "colab": {
          "base_uri": "https://localhost:8080/",
          "height": 780
        },
        "outputId": "eefb17d8-6890-4382-d386-2b3e07da1d6b"
      },
      "source": [
        "#################################################################################################\n",
        "#########                      CNN BASE MODEL Variations                                 ########\n",
        "#################################################################################################\n",
        "\n",
        "\n",
        "input_img = tf.keras.layers.Input(shape=(28, 28, 1)) # adapt this if using `channels_first` image data format\n",
        "\n",
        "x = tf.keras.layers.Conv2D(32, (5, 5), activation='relu', padding='same')(input_img)\n",
        "x = tf.keras.layers.MaxPooling2D((2, 2), padding='same')(x)\n",
        "x = tf.keras.layers.Conv2D(16, (5, 5), activation='relu', padding='same')(x)\n",
        "x = tf.keras.layers.MaxPooling2D((2, 2), padding='same')(x)\n",
        "x = tf.keras.layers.Conv2D(8, (5, 5), activation='relu', padding='same')(x)\n",
        "x = tf.keras.layers.MaxPooling2D((2, 2), padding='same')(x)\n",
        "x = tf.keras.layers.Conv2D(8, (5, 5), activation='relu', padding='same')(x)\n",
        "encoded = tf.keras.layers.MaxPooling2D((2, 2), padding='same')(x)\n",
        "\n",
        "# at this point the representation is (4, 4, 8) i.e. 128-dimensional\n",
        "\n",
        "x = tf.keras.layers.Conv2D(8, (5, 5), activation='relu', padding='same')(encoded)\n",
        "x = tf.keras.layers.UpSampling2D((2, 2))(x)\n",
        "x = tf.keras.layers.Conv2D(8, (5, 5), activation='relu', padding='same')(x)\n",
        "x = tf.keras.layers.UpSampling2D((2, 2))(x)\n",
        "x = tf.keras.layers.Conv2D(8, (5, 5), activation='relu', padding='same')(x)\n",
        "x = tf.keras.layers.UpSampling2D((2, 2))(x)\n",
        "x = tf.keras.layers.Conv2D(16, (3, 3), activation='relu')(x)\n",
        "x = tf.keras.layers.UpSampling2D((2, 2))(x)\n",
        "decoded = tf.keras.layers.Conv2D(1, (5, 5), activation='sigmoid', padding='same')(x)\n",
        "\n",
        "autoencoder = tf.keras.models.Model(input_img, decoded)\n",
        "autoencoder.compile(optimizer='adadelta', loss='binary_crossentropy')\n",
        "autoencoder.summary()"
      ],
      "execution_count": 64,
      "outputs": [
        {
          "output_type": "stream",
          "text": [
            "Model: \"model_20\"\n",
            "_________________________________________________________________\n",
            "Layer (type)                 Output Shape              Param #   \n",
            "=================================================================\n",
            "input_23 (InputLayer)        [(None, 28, 28, 1)]       0         \n",
            "_________________________________________________________________\n",
            "conv2d_162 (Conv2D)          (None, 28, 28, 32)        832       \n",
            "_________________________________________________________________\n",
            "max_pooling2d_73 (MaxPooling (None, 14, 14, 32)        0         \n",
            "_________________________________________________________________\n",
            "conv2d_163 (Conv2D)          (None, 14, 14, 16)        12816     \n",
            "_________________________________________________________________\n",
            "max_pooling2d_74 (MaxPooling (None, 7, 7, 16)          0         \n",
            "_________________________________________________________________\n",
            "conv2d_164 (Conv2D)          (None, 7, 7, 8)           3208      \n",
            "_________________________________________________________________\n",
            "max_pooling2d_75 (MaxPooling (None, 4, 4, 8)           0         \n",
            "_________________________________________________________________\n",
            "conv2d_165 (Conv2D)          (None, 4, 4, 8)           1608      \n",
            "_________________________________________________________________\n",
            "max_pooling2d_76 (MaxPooling (None, 2, 2, 8)           0         \n",
            "_________________________________________________________________\n",
            "conv2d_166 (Conv2D)          (None, 2, 2, 8)           1608      \n",
            "_________________________________________________________________\n",
            "up_sampling2d_68 (UpSampling (None, 4, 4, 8)           0         \n",
            "_________________________________________________________________\n",
            "conv2d_167 (Conv2D)          (None, 4, 4, 8)           1608      \n",
            "_________________________________________________________________\n",
            "up_sampling2d_69 (UpSampling (None, 8, 8, 8)           0         \n",
            "_________________________________________________________________\n",
            "conv2d_168 (Conv2D)          (None, 8, 8, 8)           1608      \n",
            "_________________________________________________________________\n",
            "up_sampling2d_70 (UpSampling (None, 16, 16, 8)         0         \n",
            "_________________________________________________________________\n",
            "conv2d_169 (Conv2D)          (None, 14, 14, 16)        1168      \n",
            "_________________________________________________________________\n",
            "up_sampling2d_71 (UpSampling (None, 28, 28, 16)        0         \n",
            "_________________________________________________________________\n",
            "conv2d_170 (Conv2D)          (None, 28, 28, 1)         401       \n",
            "=================================================================\n",
            "Total params: 24,857\n",
            "Trainable params: 24,857\n",
            "Non-trainable params: 0\n",
            "_________________________________________________________________\n"
          ],
          "name": "stdout"
        }
      ]
    },
    {
      "cell_type": "code",
      "metadata": {
        "id": "T4IVfhYqBiYv",
        "colab_type": "code",
        "colab": {}
      },
      "source": [
        "# to train this model we will with original MNIST digits with shape (samples, 3, 28, 28) and we will just normalize pixel values between 0 and 1\n",
        "# (x_train, _), (x_test, _) = load_data('../input/mnist.npz')\n",
        "from tensorflow.keras.datasets import mnist\n",
        "(x_train, _), (x_test, _) = mnist.load_data()\n",
        "\n",
        "x_train = x_train.astype('float32') / 255.\n",
        "x_test = x_test.astype('float32') / 255.\n",
        "x_train = np.reshape(x_train, (len(x_train), 28, 28, 1))\n",
        "x_test = np.reshape(x_test, (len(x_test), 28, 28, 1))"
      ],
      "execution_count": 0,
      "outputs": []
    },
    {
      "cell_type": "code",
      "metadata": {
        "id": "8NIWZ_9gBiE2",
        "colab_type": "code",
        "colab": {
          "base_uri": "https://localhost:8080/",
          "height": 1000
        },
        "outputId": "624907eb-2e3d-4fb4-f8e0-3016fc64ddd0"
      },
      "source": [
        "autoencoder.fit(x_train, x_train, epochs=100, batch_size=128, \n",
        "                shuffle=True, validation_data=(x_test, x_test), \n",
        "                callbacks=[tf.keras.callbacks.TensorBoard(log_dir='./tmp/autoencoder')])"
      ],
      "execution_count": 66,
      "outputs": [
        {
          "output_type": "stream",
          "text": [
            "Epoch 1/100\n",
            "469/469 [==============================] - 5s 11ms/step - loss: 0.6935 - val_loss: 0.6929\n",
            "Epoch 2/100\n",
            "469/469 [==============================] - 5s 10ms/step - loss: 0.6919 - val_loss: 0.6906\n",
            "Epoch 3/100\n",
            "469/469 [==============================] - 5s 10ms/step - loss: 0.6886 - val_loss: 0.6865\n",
            "Epoch 4/100\n",
            "469/469 [==============================] - 5s 10ms/step - loss: 0.6837 - val_loss: 0.6805\n",
            "Epoch 5/100\n",
            "469/469 [==============================] - 5s 10ms/step - loss: 0.6760 - val_loss: 0.6706\n",
            "Epoch 6/100\n",
            "469/469 [==============================] - 5s 10ms/step - loss: 0.6614 - val_loss: 0.6498\n",
            "Epoch 7/100\n",
            "469/469 [==============================] - 5s 10ms/step - loss: 0.6294 - val_loss: 0.6040\n",
            "Epoch 8/100\n",
            "469/469 [==============================] - 5s 10ms/step - loss: 0.5642 - val_loss: 0.5208\n",
            "Epoch 9/100\n",
            "469/469 [==============================] - 5s 10ms/step - loss: 0.4762 - val_loss: 0.4442\n",
            "Epoch 10/100\n",
            "469/469 [==============================] - 5s 10ms/step - loss: 0.4259 - val_loss: 0.4197\n",
            "Epoch 11/100\n",
            "469/469 [==============================] - 5s 10ms/step - loss: 0.4105 - val_loss: 0.4088\n",
            "Epoch 12/100\n",
            "469/469 [==============================] - 5s 10ms/step - loss: 0.3973 - val_loss: 0.3901\n",
            "Epoch 13/100\n",
            "469/469 [==============================] - 5s 10ms/step - loss: 0.3658 - val_loss: 0.3423\n",
            "Epoch 14/100\n",
            "469/469 [==============================] - 5s 10ms/step - loss: 0.3206 - val_loss: 0.3062\n",
            "Epoch 15/100\n",
            "469/469 [==============================] - 5s 10ms/step - loss: 0.2959 - val_loss: 0.2895\n",
            "Epoch 16/100\n",
            "469/469 [==============================] - 5s 10ms/step - loss: 0.2845 - val_loss: 0.2814\n",
            "Epoch 17/100\n",
            "469/469 [==============================] - 5s 10ms/step - loss: 0.2790 - val_loss: 0.2775\n",
            "Epoch 18/100\n",
            "469/469 [==============================] - 5s 10ms/step - loss: 0.2764 - val_loss: 0.2756\n",
            "Epoch 19/100\n",
            "469/469 [==============================] - 5s 10ms/step - loss: 0.2749 - val_loss: 0.2743\n",
            "Epoch 20/100\n",
            "469/469 [==============================] - 5s 10ms/step - loss: 0.2739 - val_loss: 0.2733\n",
            "Epoch 21/100\n",
            "469/469 [==============================] - 5s 10ms/step - loss: 0.2730 - val_loss: 0.2724\n",
            "Epoch 22/100\n",
            "469/469 [==============================] - 5s 10ms/step - loss: 0.2722 - val_loss: 0.2716\n",
            "Epoch 23/100\n",
            "469/469 [==============================] - 5s 10ms/step - loss: 0.2714 - val_loss: 0.2708\n",
            "Epoch 24/100\n",
            "469/469 [==============================] - 5s 10ms/step - loss: 0.2707 - val_loss: 0.2702\n",
            "Epoch 25/100\n",
            "469/469 [==============================] - 5s 10ms/step - loss: 0.2702 - val_loss: 0.2696\n",
            "Epoch 26/100\n",
            "469/469 [==============================] - 5s 10ms/step - loss: 0.2696 - val_loss: 0.2691\n",
            "Epoch 27/100\n",
            "469/469 [==============================] - 5s 10ms/step - loss: 0.2691 - val_loss: 0.2686\n",
            "Epoch 28/100\n",
            "469/469 [==============================] - 5s 10ms/step - loss: 0.2685 - val_loss: 0.2680\n",
            "Epoch 29/100\n",
            "469/469 [==============================] - 5s 10ms/step - loss: 0.2680 - val_loss: 0.2674\n",
            "Epoch 30/100\n",
            "469/469 [==============================] - 5s 10ms/step - loss: 0.2674 - val_loss: 0.2669\n",
            "Epoch 31/100\n",
            "469/469 [==============================] - 5s 10ms/step - loss: 0.2668 - val_loss: 0.2663\n",
            "Epoch 32/100\n",
            "469/469 [==============================] - 5s 10ms/step - loss: 0.2663 - val_loss: 0.2658\n",
            "Epoch 33/100\n",
            "469/469 [==============================] - 5s 10ms/step - loss: 0.2657 - val_loss: 0.2652\n",
            "Epoch 34/100\n",
            "469/469 [==============================] - 5s 10ms/step - loss: 0.2652 - val_loss: 0.2646\n",
            "Epoch 35/100\n",
            "469/469 [==============================] - 5s 10ms/step - loss: 0.2646 - val_loss: 0.2640\n",
            "Epoch 36/100\n",
            "469/469 [==============================] - 5s 10ms/step - loss: 0.2640 - val_loss: 0.2634\n",
            "Epoch 37/100\n",
            "469/469 [==============================] - 5s 10ms/step - loss: 0.2634 - val_loss: 0.2628\n",
            "Epoch 38/100\n",
            "469/469 [==============================] - 5s 10ms/step - loss: 0.2628 - val_loss: 0.2622\n",
            "Epoch 39/100\n",
            "469/469 [==============================] - 5s 10ms/step - loss: 0.2622 - val_loss: 0.2617\n",
            "Epoch 40/100\n",
            "469/469 [==============================] - 5s 10ms/step - loss: 0.2616 - val_loss: 0.2611\n",
            "Epoch 41/100\n",
            "469/469 [==============================] - 5s 10ms/step - loss: 0.2611 - val_loss: 0.2605\n",
            "Epoch 42/100\n",
            "469/469 [==============================] - 5s 10ms/step - loss: 0.2605 - val_loss: 0.2600\n",
            "Epoch 43/100\n",
            "469/469 [==============================] - 5s 10ms/step - loss: 0.2600 - val_loss: 0.2594\n",
            "Epoch 44/100\n",
            "469/469 [==============================] - 5s 10ms/step - loss: 0.2594 - val_loss: 0.2589\n",
            "Epoch 45/100\n",
            "469/469 [==============================] - 5s 10ms/step - loss: 0.2588 - val_loss: 0.2583\n",
            "Epoch 46/100\n",
            "469/469 [==============================] - 5s 10ms/step - loss: 0.2583 - val_loss: 0.2577\n",
            "Epoch 47/100\n",
            "469/469 [==============================] - 5s 10ms/step - loss: 0.2577 - val_loss: 0.2572\n",
            "Epoch 48/100\n",
            "469/469 [==============================] - 5s 10ms/step - loss: 0.2572 - val_loss: 0.2566\n",
            "Epoch 49/100\n",
            "469/469 [==============================] - 5s 10ms/step - loss: 0.2566 - val_loss: 0.2561\n",
            "Epoch 50/100\n",
            "469/469 [==============================] - 5s 10ms/step - loss: 0.2560 - val_loss: 0.2555\n",
            "Epoch 51/100\n",
            "469/469 [==============================] - 5s 10ms/step - loss: 0.2555 - val_loss: 0.2549\n",
            "Epoch 52/100\n",
            "469/469 [==============================] - 5s 10ms/step - loss: 0.2549 - val_loss: 0.2544\n",
            "Epoch 53/100\n",
            "469/469 [==============================] - 5s 10ms/step - loss: 0.2543 - val_loss: 0.2538\n",
            "Epoch 54/100\n",
            "469/469 [==============================] - 5s 10ms/step - loss: 0.2537 - val_loss: 0.2532\n",
            "Epoch 55/100\n",
            "469/469 [==============================] - 5s 10ms/step - loss: 0.2531 - val_loss: 0.2526\n",
            "Epoch 56/100\n",
            "469/469 [==============================] - 5s 10ms/step - loss: 0.2525 - val_loss: 0.2520\n",
            "Epoch 57/100\n",
            "469/469 [==============================] - 5s 10ms/step - loss: 0.2518 - val_loss: 0.2513\n",
            "Epoch 58/100\n",
            "469/469 [==============================] - 5s 10ms/step - loss: 0.2511 - val_loss: 0.2506\n",
            "Epoch 59/100\n",
            "469/469 [==============================] - 5s 10ms/step - loss: 0.2504 - val_loss: 0.2499\n",
            "Epoch 60/100\n",
            "469/469 [==============================] - 5s 10ms/step - loss: 0.2498 - val_loss: 0.2493\n",
            "Epoch 61/100\n",
            "469/469 [==============================] - 5s 10ms/step - loss: 0.2492 - val_loss: 0.2488\n",
            "Epoch 62/100\n",
            "469/469 [==============================] - 5s 10ms/step - loss: 0.2486 - val_loss: 0.2482\n",
            "Epoch 63/100\n",
            "469/469 [==============================] - 5s 10ms/step - loss: 0.2481 - val_loss: 0.2476\n",
            "Epoch 64/100\n",
            "469/469 [==============================] - 5s 10ms/step - loss: 0.2475 - val_loss: 0.2471\n",
            "Epoch 65/100\n",
            "469/469 [==============================] - 5s 10ms/step - loss: 0.2470 - val_loss: 0.2466\n",
            "Epoch 66/100\n",
            "469/469 [==============================] - 5s 10ms/step - loss: 0.2465 - val_loss: 0.2461\n",
            "Epoch 67/100\n",
            "469/469 [==============================] - 5s 10ms/step - loss: 0.2460 - val_loss: 0.2456\n",
            "Epoch 68/100\n",
            "469/469 [==============================] - 5s 10ms/step - loss: 0.2455 - val_loss: 0.2451\n",
            "Epoch 69/100\n",
            "469/469 [==============================] - 5s 10ms/step - loss: 0.2450 - val_loss: 0.2447\n",
            "Epoch 70/100\n",
            "469/469 [==============================] - 5s 10ms/step - loss: 0.2445 - val_loss: 0.2442\n",
            "Epoch 71/100\n",
            "469/469 [==============================] - 5s 10ms/step - loss: 0.2441 - val_loss: 0.2438\n",
            "Epoch 72/100\n",
            "469/469 [==============================] - 5s 10ms/step - loss: 0.2436 - val_loss: 0.2433\n",
            "Epoch 73/100\n",
            "469/469 [==============================] - 5s 10ms/step - loss: 0.2432 - val_loss: 0.2429\n",
            "Epoch 74/100\n",
            "469/469 [==============================] - 5s 10ms/step - loss: 0.2428 - val_loss: 0.2425\n",
            "Epoch 75/100\n",
            "469/469 [==============================] - 5s 10ms/step - loss: 0.2423 - val_loss: 0.2420\n",
            "Epoch 76/100\n",
            "469/469 [==============================] - 5s 10ms/step - loss: 0.2419 - val_loss: 0.2416\n",
            "Epoch 77/100\n",
            "469/469 [==============================] - 5s 10ms/step - loss: 0.2415 - val_loss: 0.2412\n",
            "Epoch 78/100\n",
            "469/469 [==============================] - 5s 10ms/step - loss: 0.2410 - val_loss: 0.2408\n",
            "Epoch 79/100\n",
            "469/469 [==============================] - 5s 10ms/step - loss: 0.2406 - val_loss: 0.2403\n",
            "Epoch 80/100\n",
            "469/469 [==============================] - 5s 10ms/step - loss: 0.2402 - val_loss: 0.2399\n",
            "Epoch 81/100\n",
            "469/469 [==============================] - 5s 10ms/step - loss: 0.2397 - val_loss: 0.2395\n",
            "Epoch 82/100\n",
            "469/469 [==============================] - 5s 10ms/step - loss: 0.2393 - val_loss: 0.2391\n",
            "Epoch 83/100\n",
            "469/469 [==============================] - 5s 10ms/step - loss: 0.2389 - val_loss: 0.2387\n",
            "Epoch 84/100\n",
            "469/469 [==============================] - 5s 10ms/step - loss: 0.2384 - val_loss: 0.2382\n",
            "Epoch 85/100\n",
            "469/469 [==============================] - 5s 10ms/step - loss: 0.2380 - val_loss: 0.2378\n",
            "Epoch 86/100\n",
            "469/469 [==============================] - 5s 10ms/step - loss: 0.2375 - val_loss: 0.2374\n",
            "Epoch 87/100\n",
            "469/469 [==============================] - 5s 10ms/step - loss: 0.2371 - val_loss: 0.2369\n",
            "Epoch 88/100\n",
            "469/469 [==============================] - 5s 10ms/step - loss: 0.2366 - val_loss: 0.2365\n",
            "Epoch 89/100\n",
            "469/469 [==============================] - 5s 10ms/step - loss: 0.2362 - val_loss: 0.2360\n",
            "Epoch 90/100\n",
            "469/469 [==============================] - 5s 10ms/step - loss: 0.2357 - val_loss: 0.2356\n",
            "Epoch 91/100\n",
            "469/469 [==============================] - 5s 10ms/step - loss: 0.2352 - val_loss: 0.2351\n",
            "Epoch 92/100\n",
            "469/469 [==============================] - 5s 10ms/step - loss: 0.2348 - val_loss: 0.2347\n",
            "Epoch 93/100\n",
            "469/469 [==============================] - 5s 10ms/step - loss: 0.2343 - val_loss: 0.2342\n",
            "Epoch 94/100\n",
            "469/469 [==============================] - 5s 10ms/step - loss: 0.2338 - val_loss: 0.2338\n",
            "Epoch 95/100\n",
            "469/469 [==============================] - 5s 10ms/step - loss: 0.2334 - val_loss: 0.2334\n",
            "Epoch 96/100\n",
            "469/469 [==============================] - 5s 10ms/step - loss: 0.2329 - val_loss: 0.2329\n",
            "Epoch 97/100\n",
            "469/469 [==============================] - 5s 10ms/step - loss: 0.2325 - val_loss: 0.2325\n",
            "Epoch 98/100\n",
            "469/469 [==============================] - 5s 10ms/step - loss: 0.2321 - val_loss: 0.2322\n",
            "Epoch 99/100\n",
            "469/469 [==============================] - 5s 10ms/step - loss: 0.2317 - val_loss: 0.2318\n",
            "Epoch 100/100\n",
            "469/469 [==============================] - 5s 10ms/step - loss: 0.2313 - val_loss: 0.2314\n"
          ],
          "name": "stdout"
        },
        {
          "output_type": "execute_result",
          "data": {
            "text/plain": [
              "<tensorflow.python.keras.callbacks.History at 0x7f88f218edd8>"
            ]
          },
          "metadata": {
            "tags": []
          },
          "execution_count": 66
        }
      ]
    },
    {
      "cell_type": "code",
      "metadata": {
        "id": "oo_LvT1ID7TT",
        "colab_type": "code",
        "colab": {
          "base_uri": "https://localhost:8080/",
          "height": 248
        },
        "outputId": "333c7a47-9ed9-4dee-aad2-642ed12107d3"
      },
      "source": [
        "decoded_imgs = autoencoder.predict(x_test)\n",
        "\n",
        "n = 10\n",
        "plt.figure(figsize=(20, 4))\n",
        "for i in range(n):\n",
        "    # display original\n",
        "    ax = plt.subplot(2, n, i+1)\n",
        "    plt.imshow(x_test[i].reshape(28, 28))\n",
        "    plt.gray()\n",
        "    ax.get_xaxis().set_visible(False)\n",
        "    ax.get_yaxis().set_visible(False)\n",
        "\n",
        "    # display reconstruction\n",
        "    ax = plt.subplot(2, n, i + 1 + n)\n",
        "    plt.imshow(decoded_imgs[i].reshape(28, 28))\n",
        "    plt.gray()\n",
        "    ax.get_xaxis().set_visible(False)\n",
        "    ax.get_yaxis().set_visible(False)\n",
        "plt.show()"
      ],
      "execution_count": 67,
      "outputs": [
        {
          "output_type": "display_data",
          "data": {
            "image/png": "[encoded data removed]",
            "text/plain": [
              "<Figure size 1440x288 with 20 Axes>"
            ]
          },
          "metadata": {
            "tags": [],
            "needs_background": "light"
          }
        }
      ]
    },
    {
      "cell_type": "markdown",
      "metadata": {
        "id": "ikSlkN52S76_",
        "colab_type": "text"
      },
      "source": [
        "## **CNN MODEL OPTIMIZED**"
      ]
    },
    {
      "cell_type": "code",
      "metadata": {
        "id": "olHGp8NdhUvy",
        "colab_type": "code",
        "colab": {}
      },
      "source": [
        "#################################################################################################\n",
        "#########                        CNN MODEL OPTIMIZED                                     ########\n",
        "#################################################################################################\n",
        "\n",
        "input_img = tf.keras.layers.Input(shape=(28, 28, 1)) # adapt this if using `channels_first` image data format\n",
        "\n",
        "x = tf.keras.layers.Conv2D(16, (5, 5), activation='relu', padding='same')(input_img)\n",
        "x = tf.keras.layers.BatchNormalization()(x)\n",
        "x = tf.keras.layers.MaxPooling2D((2, 2), padding='same')(x)\n",
        "x = tf.keras.layers.Conv2D(8, (5, 5), activation='relu', padding='same')(x)\n",
        "x = tf.keras.layers.BatchNormalization()(x)\n",
        "x = tf.keras.layers.MaxPooling2D((2, 2), padding='same')(x)\n",
        "x = tf.keras.layers.Conv2D(8, (5, 5), activation='relu', padding='same')(x)\n",
        "x = tf.keras.layers.BatchNormalization()(x)\n",
        "x = tf.keras.layers.Dense(units = 16, activation='relu')(x)\n",
        "encoded = tf.keras.layers.MaxPooling2D((2, 2), padding='same')(x)\n",
        "\n",
        "# at this point the representation is (4, 4, 8) i.e. 128-dimensional\n",
        "\n",
        "x = tf.keras.layers.Conv2D(8, (5, 5), activation='relu', padding='same')(encoded)\n",
        "x = tf.keras.layers.BatchNormalization()(x)\n",
        "x = tf.keras.layers.UpSampling2D((2, 2))(x)\n",
        "x = tf.keras.layers.Conv2D(8, (5, 5), activation='relu', padding='same')(x)\n",
        "x = tf.keras.layers.BatchNormalization()(x)\n",
        "x = tf.keras.layers.UpSampling2D((2, 2))(x)\n",
        "x = tf.keras.layers.Conv2D(16, (3, 3), activation='relu')(x)\n",
        "x = tf.keras.layers.BatchNormalization()(x)\n",
        "x = tf.keras.layers.UpSampling2D((2, 2))(x)\n",
        "x = tf.keras.layers.Dense(units = 16, activation='relu')(x)\n",
        "decoded = tf.keras.layers.Conv2D(1, (3, 3), activation='sigmoid', padding='same')(x)\n",
        "\n",
        "autoencoder = tf.keras.models.Model(input_img, decoded)\n",
        "optimizer = tf.keras.optimizers.Adam(lr=0.001)\n",
        "autoencoder.compile(optimizer=optimizer, loss='binary_crossentropy')"
      ],
      "execution_count": 0,
      "outputs": []
    },
    {
      "cell_type": "code",
      "metadata": {
        "id": "_QYzB0i4hUyw",
        "colab_type": "code",
        "colab": {}
      },
      "source": [
        "# to train this model we will with original MNIST digits with shape (samples, 3, 28, 28) and we will just normalize pixel values between 0 and 1\n",
        "# (x_train, _), (x_test, _) = load_data('../input/mnist.npz')\n",
        "from tensorflow.keras.datasets import mnist\n",
        "(x_train, _), (x_test, _) = mnist.load_data()\n",
        "\n",
        "x_train = x_train.astype('float32') / 255.\n",
        "x_test = x_test.astype('float32') / 255.\n",
        "x_train = np.reshape(x_train, (len(x_train), 28, 28, 1))\n",
        "x_test = np.reshape(x_test, (len(x_test), 28, 28, 1))"
      ],
      "execution_count": 0,
      "outputs": []
    },
    {
      "cell_type": "code",
      "metadata": {
        "id": "jSdRyahfhU4V",
        "colab_type": "code",
        "colab": {
          "base_uri": "https://localhost:8080/",
          "height": 1000
        },
        "outputId": "d908b00e-dea3-4761-cabe-59c01abebd75"
      },
      "source": [
        "autoencoder.fit(x_train, x_train, epochs=100, batch_size=128, \n",
        "                shuffle=True, validation_data=(x_test, x_test), \n",
        "                callbacks=[tf.keras.callbacks.TensorBoard(log_dir='./tmp/autoencoder')])"
      ],
      "execution_count": 58,
      "outputs": [
        {
          "output_type": "stream",
          "text": [
            "Epoch 1/100\n",
            "469/469 [==============================] - 6s 12ms/step - loss: 0.1827 - val_loss: 0.1389\n",
            "Epoch 2/100\n",
            "469/469 [==============================] - 5s 12ms/step - loss: 0.1115 - val_loss: 0.1093\n",
            "Epoch 3/100\n",
            "469/469 [==============================] - 6s 12ms/step - loss: 0.1013 - val_loss: 0.1043\n",
            "Epoch 4/100\n",
            "469/469 [==============================] - 5s 12ms/step - loss: 0.0965 - val_loss: 0.0953\n",
            "Epoch 5/100\n",
            "469/469 [==============================] - 5s 12ms/step - loss: 0.0934 - val_loss: 0.0904\n",
            "Epoch 6/100\n",
            "469/469 [==============================] - 6s 12ms/step - loss: 0.0912 - val_loss: 0.0911\n",
            "Epoch 7/100\n",
            "469/469 [==============================] - 6s 12ms/step - loss: 0.0895 - val_loss: 0.0872\n",
            "Epoch 8/100\n",
            "469/469 [==============================] - 6s 12ms/step - loss: 0.0882 - val_loss: 0.0861\n",
            "Epoch 9/100\n",
            "469/469 [==============================] - 6s 12ms/step - loss: 0.0870 - val_loss: 0.0854\n",
            "Epoch 10/100\n",
            "469/469 [==============================] - 6s 12ms/step - loss: 0.0861 - val_loss: 0.0844\n",
            "Epoch 11/100\n",
            "469/469 [==============================] - 5s 12ms/step - loss: 0.0852 - val_loss: 0.0839\n",
            "Epoch 12/100\n",
            "469/469 [==============================] - 6s 12ms/step - loss: 0.0845 - val_loss: 0.0839\n",
            "Epoch 13/100\n",
            "469/469 [==============================] - 5s 12ms/step - loss: 0.0838 - val_loss: 0.0826\n",
            "Epoch 14/100\n",
            "469/469 [==============================] - 5s 12ms/step - loss: 0.0833 - val_loss: 0.0818\n",
            "Epoch 15/100\n",
            "469/469 [==============================] - 6s 12ms/step - loss: 0.0828 - val_loss: 0.0812\n",
            "Epoch 16/100\n",
            "469/469 [==============================] - 6s 12ms/step - loss: 0.0823 - val_loss: 0.0808\n",
            "Epoch 17/100\n",
            "469/469 [==============================] - 5s 12ms/step - loss: 0.0817 - val_loss: 0.0800\n",
            "Epoch 18/100\n",
            "469/469 [==============================] - 5s 12ms/step - loss: 0.0814 - val_loss: 0.0803\n",
            "Epoch 19/100\n",
            "469/469 [==============================] - 5s 12ms/step - loss: 0.0810 - val_loss: 0.0802\n",
            "Epoch 20/100\n",
            "469/469 [==============================] - 6s 12ms/step - loss: 0.0807 - val_loss: 0.0797\n",
            "Epoch 21/100\n",
            "469/469 [==============================] - 6s 12ms/step - loss: 0.0802 - val_loss: 0.0802\n",
            "Epoch 22/100\n",
            "469/469 [==============================] - 5s 12ms/step - loss: 0.0798 - val_loss: 0.0790\n",
            "Epoch 23/100\n",
            "469/469 [==============================] - 5s 12ms/step - loss: 0.0796 - val_loss: 0.0782\n",
            "Epoch 24/100\n",
            "469/469 [==============================] - 5s 12ms/step - loss: 0.0793 - val_loss: 0.0778\n",
            "Epoch 25/100\n",
            "469/469 [==============================] - 5s 12ms/step - loss: 0.0790 - val_loss: 0.0778\n",
            "Epoch 26/100\n",
            "469/469 [==============================] - 5s 12ms/step - loss: 0.0788 - val_loss: 0.0777\n",
            "Epoch 27/100\n",
            "469/469 [==============================] - 6s 12ms/step - loss: 0.0787 - val_loss: 0.0784\n",
            "Epoch 28/100\n",
            "469/469 [==============================] - 5s 12ms/step - loss: 0.0783 - val_loss: 0.0775\n",
            "Epoch 29/100\n",
            "469/469 [==============================] - 5s 12ms/step - loss: 0.0781 - val_loss: 0.0782\n",
            "Epoch 30/100\n",
            "469/469 [==============================] - 5s 12ms/step - loss: 0.0778 - val_loss: 0.0764\n",
            "Epoch 31/100\n",
            "469/469 [==============================] - 5s 12ms/step - loss: 0.0776 - val_loss: 0.0767\n",
            "Epoch 32/100\n",
            "469/469 [==============================] - 5s 12ms/step - loss: 0.0775 - val_loss: 0.0768\n",
            "Epoch 33/100\n",
            "469/469 [==============================] - 5s 12ms/step - loss: 0.0773 - val_loss: 0.0762\n",
            "Epoch 34/100\n",
            "469/469 [==============================] - 6s 12ms/step - loss: 0.0770 - val_loss: 0.0770\n",
            "Epoch 35/100\n",
            "469/469 [==============================] - 6s 12ms/step - loss: 0.0771 - val_loss: 0.0758\n",
            "Epoch 36/100\n",
            "469/469 [==============================] - 6s 12ms/step - loss: 0.0768 - val_loss: 0.0757\n",
            "Epoch 37/100\n",
            "469/469 [==============================] - 5s 12ms/step - loss: 0.0767 - val_loss: 0.0754\n",
            "Epoch 38/100\n",
            "469/469 [==============================] - 6s 12ms/step - loss: 0.0765 - val_loss: 0.0753\n",
            "Epoch 39/100\n",
            "469/469 [==============================] - 5s 12ms/step - loss: 0.0764 - val_loss: 0.0755\n",
            "Epoch 40/100\n",
            "469/469 [==============================] - 6s 12ms/step - loss: 0.0762 - val_loss: 0.0763\n",
            "Epoch 41/100\n",
            "469/469 [==============================] - 6s 12ms/step - loss: 0.0763 - val_loss: 0.0757\n",
            "Epoch 42/100\n",
            "469/469 [==============================] - 6s 12ms/step - loss: 0.0760 - val_loss: 0.0752\n",
            "Epoch 43/100\n",
            "469/469 [==============================] - 5s 12ms/step - loss: 0.0759 - val_loss: 0.0747\n",
            "Epoch 44/100\n",
            "469/469 [==============================] - 6s 12ms/step - loss: 0.0758 - val_loss: 0.0748\n",
            "Epoch 45/100\n",
            "469/469 [==============================] - 6s 12ms/step - loss: 0.0758 - val_loss: 0.0747\n",
            "Epoch 46/100\n",
            "469/469 [==============================] - 6s 12ms/step - loss: 0.0756 - val_loss: 0.0748\n",
            "Epoch 47/100\n",
            "469/469 [==============================] - 6s 12ms/step - loss: 0.0756 - val_loss: 0.0746\n",
            "Epoch 48/100\n",
            "469/469 [==============================] - 6s 12ms/step - loss: 0.0754 - val_loss: 0.0744\n",
            "Epoch 49/100\n",
            "469/469 [==============================] - 5s 12ms/step - loss: 0.0754 - val_loss: 0.0741\n",
            "Epoch 50/100\n",
            "469/469 [==============================] - 6s 12ms/step - loss: 0.0753 - val_loss: 0.0741\n",
            "Epoch 51/100\n",
            "469/469 [==============================] - 5s 12ms/step - loss: 0.0752 - val_loss: 0.0744\n",
            "Epoch 52/100\n",
            "469/469 [==============================] - 6s 12ms/step - loss: 0.0751 - val_loss: 0.0745\n",
            "Epoch 53/100\n",
            "469/469 [==============================] - 6s 12ms/step - loss: 0.0751 - val_loss: 0.0750\n",
            "Epoch 54/100\n",
            "469/469 [==============================] - 6s 12ms/step - loss: 0.0750 - val_loss: 0.0757\n",
            "Epoch 55/100\n",
            "469/469 [==============================] - 6s 12ms/step - loss: 0.0749 - val_loss: 0.0743\n",
            "Epoch 56/100\n",
            "469/469 [==============================] - 6s 12ms/step - loss: 0.0748 - val_loss: 0.0742\n",
            "Epoch 57/100\n",
            "469/469 [==============================] - 5s 12ms/step - loss: 0.0748 - val_loss: 0.0740\n",
            "Epoch 58/100\n",
            "469/469 [==============================] - 5s 12ms/step - loss: 0.0747 - val_loss: 0.0748\n",
            "Epoch 59/100\n",
            "469/469 [==============================] - 5s 12ms/step - loss: 0.0746 - val_loss: 0.0744\n",
            "Epoch 60/100\n",
            "469/469 [==============================] - 5s 12ms/step - loss: 0.0746 - val_loss: 0.0738\n",
            "Epoch 61/100\n",
            "469/469 [==============================] - 5s 12ms/step - loss: 0.0745 - val_loss: 0.0741\n",
            "Epoch 62/100\n",
            "469/469 [==============================] - 6s 12ms/step - loss: 0.0744 - val_loss: 0.0732\n",
            "Epoch 63/100\n",
            "469/469 [==============================] - 6s 12ms/step - loss: 0.0744 - val_loss: 0.0736\n",
            "Epoch 64/100\n",
            "469/469 [==============================] - 6s 12ms/step - loss: 0.0743 - val_loss: 0.0736\n",
            "Epoch 65/100\n",
            "469/469 [==============================] - 6s 12ms/step - loss: 0.0742 - val_loss: 0.0731\n",
            "Epoch 66/100\n",
            "469/469 [==============================] - 6s 12ms/step - loss: 0.0742 - val_loss: 0.0732\n",
            "Epoch 67/100\n",
            "469/469 [==============================] - 6s 12ms/step - loss: 0.0741 - val_loss: 0.0735\n",
            "Epoch 68/100\n",
            "469/469 [==============================] - 6s 12ms/step - loss: 0.0742 - val_loss: 0.0734\n",
            "Epoch 69/100\n",
            "469/469 [==============================] - 5s 12ms/step - loss: 0.0741 - val_loss: 0.0733\n",
            "Epoch 70/100\n",
            "469/469 [==============================] - 6s 12ms/step - loss: 0.0741 - val_loss: 0.0730\n",
            "Epoch 71/100\n",
            "469/469 [==============================] - 6s 12ms/step - loss: 0.0740 - val_loss: 0.0732\n",
            "Epoch 72/100\n",
            "469/469 [==============================] - 5s 12ms/step - loss: 0.0739 - val_loss: 0.0729\n",
            "Epoch 73/100\n",
            "469/469 [==============================] - 5s 12ms/step - loss: 0.0739 - val_loss: 0.0737\n",
            "Epoch 74/100\n",
            "469/469 [==============================] - 5s 12ms/step - loss: 0.0738 - val_loss: 0.0741\n",
            "Epoch 75/100\n",
            "469/469 [==============================] - 5s 12ms/step - loss: 0.0738 - val_loss: 0.0731\n",
            "Epoch 76/100\n",
            "469/469 [==============================] - 5s 12ms/step - loss: 0.0737 - val_loss: 0.0729\n",
            "Epoch 77/100\n",
            "469/469 [==============================] - 6s 12ms/step - loss: 0.0736 - val_loss: 0.0729\n",
            "Epoch 78/100\n",
            "469/469 [==============================] - 5s 12ms/step - loss: 0.0737 - val_loss: 0.0726\n",
            "Epoch 79/100\n",
            "469/469 [==============================] - 5s 12ms/step - loss: 0.0737 - val_loss: 0.0737\n",
            "Epoch 80/100\n",
            "469/469 [==============================] - 6s 12ms/step - loss: 0.0735 - val_loss: 0.0726\n",
            "Epoch 81/100\n",
            "469/469 [==============================] - 5s 12ms/step - loss: 0.0736 - val_loss: 0.0726\n",
            "Epoch 82/100\n",
            "469/469 [==============================] - 5s 12ms/step - loss: 0.0735 - val_loss: 0.0730\n",
            "Epoch 83/100\n",
            "469/469 [==============================] - 6s 12ms/step - loss: 0.0735 - val_loss: 0.0728\n",
            "Epoch 84/100\n",
            "469/469 [==============================] - 6s 12ms/step - loss: 0.0735 - val_loss: 0.0727\n",
            "Epoch 85/100\n",
            "469/469 [==============================] - 5s 12ms/step - loss: 0.0735 - val_loss: 0.0724\n",
            "Epoch 86/100\n",
            "469/469 [==============================] - 5s 12ms/step - loss: 0.0734 - val_loss: 0.0735\n",
            "Epoch 87/100\n",
            "469/469 [==============================] - 5s 12ms/step - loss: 0.0733 - val_loss: 0.0733\n",
            "Epoch 88/100\n",
            "469/469 [==============================] - 5s 12ms/step - loss: 0.0733 - val_loss: 0.0728\n",
            "Epoch 89/100\n",
            "469/469 [==============================] - 5s 12ms/step - loss: 0.0733 - val_loss: 0.0734\n",
            "Epoch 90/100\n",
            "469/469 [==============================] - 6s 12ms/step - loss: 0.0732 - val_loss: 0.0724\n",
            "Epoch 91/100\n",
            "469/469 [==============================] - 5s 12ms/step - loss: 0.0732 - val_loss: 0.0725\n",
            "Epoch 92/100\n",
            "469/469 [==============================] - 5s 12ms/step - loss: 0.0731 - val_loss: 0.0724\n",
            "Epoch 93/100\n",
            "469/469 [==============================] - 6s 12ms/step - loss: 0.0732 - val_loss: 0.0729\n",
            "Epoch 94/100\n",
            "469/469 [==============================] - 6s 12ms/step - loss: 0.0732 - val_loss: 0.0727\n",
            "Epoch 95/100\n",
            "469/469 [==============================] - 5s 12ms/step - loss: 0.0731 - val_loss: 0.0734\n",
            "Epoch 96/100\n",
            "469/469 [==============================] - 5s 12ms/step - loss: 0.0730 - val_loss: 0.0722\n",
            "Epoch 97/100\n",
            "469/469 [==============================] - 5s 12ms/step - loss: 0.0731 - val_loss: 0.0723\n",
            "Epoch 98/100\n",
            "469/469 [==============================] - 5s 12ms/step - loss: 0.0730 - val_loss: 0.0723\n",
            "Epoch 99/100\n",
            "469/469 [==============================] - 6s 12ms/step - loss: 0.0730 - val_loss: 0.0724\n",
            "Epoch 100/100\n",
            "469/469 [==============================] - 5s 12ms/step - loss: 0.0729 - val_loss: 0.0718\n"
          ],
          "name": "stdout"
        },
        {
          "output_type": "execute_result",
          "data": {
            "text/plain": [
              "<tensorflow.python.keras.callbacks.History at 0x7f88baab7a90>"
            ]
          },
          "metadata": {
            "tags": []
          },
          "execution_count": 58
        }
      ]
    },
    {
      "cell_type": "code",
      "metadata": {
        "id": "NrBRcbuqhU7e",
        "colab_type": "code",
        "colab": {
          "base_uri": "https://localhost:8080/",
          "height": 248
        },
        "outputId": "cd52739b-2e47-4e26-e4fb-f36a2ac9aae6"
      },
      "source": [
        "decoded_imgs = autoencoder.predict(x_test)\n",
        "\n",
        "import matplotlib.pyplot as plt\n",
        "\n",
        "n = 10  # how many digits we will display\n",
        "plt.figure(figsize=(20, 4))\n",
        "for i in range(n):\n",
        "    # display original\n",
        "    ax = plt.subplot(2, n, i + 1)\n",
        "    plt.imshow(x_test[i].reshape(28, 28))\n",
        "    plt.gray()\n",
        "    ax.get_xaxis().set_visible(False)\n",
        "    ax.get_yaxis().set_visible(False)\n",
        "\n",
        "    # display reconstruction\n",
        "    ax = plt.subplot(2, n, i + 1 + n)\n",
        "    plt.imshow(decoded_imgs[i].reshape(28, 28))\n",
        "    plt.gray()\n",
        "    ax.get_xaxis().set_visible(False)\n",
        "    ax.get_yaxis().set_visible(False)\n",
        "plt.show()"
      ],
      "execution_count": 59,
      "outputs": [
        {
          "output_type": "display_data",
          "data": {
            "image/png": "[encoded data removed]",
            "text/plain": [
              "<Figure size 1440x288 with 20 Axes>"
            ]
          },
          "metadata": {
            "tags": [],
            "needs_background": "light"
          }
        }
      ]
    }
  ]
}