{
  "nbformat": 4,
  "nbformat_minor": 0,
  "metadata": {
    "colab": {
      "name": "Task1.ipynb",
      "provenance": [],
      "collapsed_sections": [],
      "authorship_tag": "ABX9TyODePoRpnprTnSuDlBXrQCp",
      "include_colab_link": true
    },
    "kernelspec": {
      "name": "python3",
      "display_name": "Python 3"
    },
    "accelerator": "GPU"
  },
  "cells": [
    {
      "cell_type": "markdown",
      "metadata": {
        "id": "view-in-github",
        "colab_type": "text"
      },
      "source": [
        "<a href=\"https://colab.research.google.com/github/digantkumar/Digant-Kumar/blob/master/Task%201%20-%20Basic%20Autoencoder.ipynb\" target=\"_parent\"><img src=\"https://colab.research.google.com/assets/colab-badge.svg\" alt=\"Open In Colab\"/></a>"
      ]
    },
    {
      "cell_type": "markdown",
      "metadata": {
        "id": "EytmQg3ATeGZ",
        "colab_type": "text"
      },
      "source": [
        "# **TASK 1 - BASIC AUTOENCODER**"
      ]
    },
    {
      "cell_type": "markdown",
      "metadata": {
        "id": "PGvhIkW9s_tg",
        "colab_type": "text"
      },
      "source": [
        "### **AUTOENCODER BASE MODEL (GIVEN)**"
      ]
    },
    {
      "cell_type": "code",
      "metadata": {
        "id": "OaT5mW2TCII1",
        "colab_type": "code",
        "colab": {}
      },
      "source": [
        "#################################################################################################\n",
        "#########                             Base Model                                         ########\n",
        "#################################################################################################\n",
        "\n",
        "# Importing the libraries\n",
        "import numpy as np\n",
        "import matplotlib.pyplot as plt\n",
        "import tensorflow as tf\n",
        "from tensorflow.keras.datasets import mnist\n",
        "\n",
        "# Encoder function to learn a compressed data structure\n",
        "class Encoder(tf.keras.layers.Layer):\n",
        "    def __init__(self, intermediate_dim):\n",
        "        super(Encoder, self).__init__()\n",
        "        self.hidden_layer = tf.keras.layers.Dense(units=intermediate_dim, activation=tf.nn.relu)\n",
        "        self.output_layer = tf.keras.layers.Dense(units=intermediate_dim, activation=tf.nn.relu)\n",
        "    \n",
        "    def call(self, input_features):\n",
        "        activation = self.hidden_layer(input_features)\n",
        "        return self.output_layer(activation)"
      ],
      "execution_count": 0,
      "outputs": []
    },
    {
      "cell_type": "code",
      "metadata": {
        "id": "3aDeajflByuR",
        "colab_type": "code",
        "colab": {}
      },
      "source": [
        "# Decoder function to reconstruct the data from lower dimension to its higher dimension\n",
        "class Decoder(tf.keras.layers.Layer):\n",
        "    def __init__(self, intermediate_dim, original_dim):\n",
        "        super(Decoder, self).__init__()\n",
        "        self.hidden_layer = tf.keras.layers.Dense(units=intermediate_dim, activation=tf.nn.relu)\n",
        "        self.output_layer = tf.keras.layers.Dense(units=original_dim, activation=tf.nn.relu)\n",
        "  \n",
        "    def call(self, code):\n",
        "        activation = self.hidden_layer(code)\n",
        "        return self.output_layer(activation)"
      ],
      "execution_count": 0,
      "outputs": []
    },
    {
      "cell_type": "code",
      "metadata": {
        "id": "uvmnuYcGCPa9",
        "colab_type": "code",
        "colab": {}
      },
      "source": [
        "# Combines both the encoder and decoder and generates the output\n",
        "class Autoencoder(tf.keras.Model):\n",
        "  def __init__(self, intermediate_dim, original_dim):\n",
        "    super(Autoencoder, self).__init__()\n",
        "    self.loss = []\n",
        "    self.encoder = Encoder(intermediate_dim=intermediate_dim)\n",
        "    self.decoder = Decoder(intermediate_dim=intermediate_dim, original_dim=original_dim)\n",
        "\n",
        "  def call(self, input_features):\n",
        "    code = self.encoder(input_features)\n",
        "    reconstructed = self.decoder(code)\n",
        "    return reconstructed"
      ],
      "execution_count": 0,
      "outputs": []
    },
    {
      "cell_type": "code",
      "metadata": {
        "id": "U1BIFzshCUt1",
        "colab_type": "code",
        "colab": {}
      },
      "source": [
        "def loss(preds, real):\n",
        "  return tf.reduce_mean(tf.square(tf.subtract(preds, real)))"
      ],
      "execution_count": 0,
      "outputs": []
    },
    {
      "cell_type": "code",
      "metadata": {
        "id": "M_0VlYfUCVbk",
        "colab_type": "code",
        "colab": {}
      },
      "source": [
        "def train(loss, model, opt, original):\n",
        "  with tf.GradientTape() as tape:\n",
        "    preds = model(original)\n",
        "    reconstruction_error = loss(preds, original)\n",
        "  gradients = tape.gradient(reconstruction_error, model.trainable_variables)\n",
        "  gradient_variables = zip(gradients, model.trainable_variables)\n",
        "  opt.apply_gradients(gradient_variables)\n",
        "  \n",
        "  return reconstruction_error"
      ],
      "execution_count": 0,
      "outputs": []
    },
    {
      "cell_type": "code",
      "metadata": {
        "id": "i5BtdFryCX0c",
        "colab_type": "code",
        "colab": {}
      },
      "source": [
        "def train_loop(model, opt, loss, dataset, epochs):\n",
        "  for epoch in range(epochs):\n",
        "    epoch_loss = 0\n",
        "    for step, batch_features in enumerate(dataset):\n",
        "      loss_values = train(loss, model, opt, batch_features)\n",
        "      epoch_loss += loss_values\n",
        "    model.loss.append(epoch_loss)\n",
        "    print('Epoch {}/{}. Loss: {}'.format(epoch + 1, epochs, epoch_loss.numpy()))"
      ],
      "execution_count": 0,
      "outputs": []
    },
    {
      "cell_type": "code",
      "metadata": {
        "id": "vTTC4TEQCZ-l",
        "colab_type": "code",
        "outputId": "3fd83146-5dca-4349-f5fa-1c4c5844879b",
        "colab": {
          "base_uri": "https://localhost:8080/",
          "height": 52
        }
      },
      "source": [
        "from tensorflow.keras.datasets import mnist\n",
        "(x_train, _), (x_test, _) = mnist.load_data()\n",
        "\n",
        "x_train = x_train / 255.\n",
        "#x_test = x_test / 255.\n",
        "x_train = x_train.astype(np.float32)\n",
        "x_train = np.reshape(x_train, (x_train.shape[0], 784))\n",
        "x_test = np.reshape(x_test, (x_test.shape[0], 784))\n",
        "\n",
        "training_dataset = tf.data.Dataset.from_tensor_slices(x_train).batch(256)"
      ],
      "execution_count": 7,
      "outputs": [
        {
          "output_type": "stream",
          "text": [
            "Downloading data from https://storage.googleapis.com/tensorflow/tf-keras-datasets/mnist.npz\n",
            "11493376/11490434 [==============================] - 0s 0us/step\n"
          ],
          "name": "stdout"
        }
      ]
    },
    {
      "cell_type": "code",
      "metadata": {
        "id": "BAUS_8qXCb8I",
        "colab_type": "code",
        "outputId": "0ce93553-8de8-4dde-af77-e1eade8796b3",
        "colab": {
          "base_uri": "https://localhost:8080/",
          "height": 1000
        }
      },
      "source": [
        "model = Autoencoder(intermediate_dim=128, original_dim=784)\n",
        "opt = tf.keras.optimizers.Adam(learning_rate=1e-2)\n",
        "\n",
        "train_loop(model, opt, loss, training_dataset, 100)"
      ],
      "execution_count": 8,
      "outputs": [
        {
          "output_type": "stream",
          "text": [
            "Epoch 1/100. Loss: 9.253989219665527\n",
            "Epoch 2/100. Loss: 5.934606075286865\n",
            "Epoch 3/100. Loss: 5.440960884094238\n",
            "Epoch 4/100. Loss: 5.102649688720703\n",
            "Epoch 5/100. Loss: 4.941199779510498\n",
            "Epoch 6/100. Loss: 4.8313093185424805\n",
            "Epoch 7/100. Loss: 4.776271343231201\n",
            "Epoch 8/100. Loss: 4.684173583984375\n",
            "Epoch 9/100. Loss: 4.625481605529785\n",
            "Epoch 10/100. Loss: 4.581316947937012\n",
            "Epoch 11/100. Loss: 4.530300140380859\n",
            "Epoch 12/100. Loss: 4.489694595336914\n",
            "Epoch 13/100. Loss: 4.4656195640563965\n",
            "Epoch 14/100. Loss: 4.4591383934021\n",
            "Epoch 15/100. Loss: 4.44425630569458\n",
            "Epoch 16/100. Loss: 4.431601524353027\n",
            "Epoch 17/100. Loss: 4.424561023712158\n",
            "Epoch 18/100. Loss: 4.39663553237915\n",
            "Epoch 19/100. Loss: 4.387007713317871\n",
            "Epoch 20/100. Loss: 4.422090530395508\n",
            "Epoch 21/100. Loss: 4.387922286987305\n",
            "Epoch 22/100. Loss: 4.378843784332275\n",
            "Epoch 23/100. Loss: 4.361762523651123\n",
            "Epoch 24/100. Loss: 4.3473100662231445\n",
            "Epoch 25/100. Loss: 4.355829238891602\n",
            "Epoch 26/100. Loss: 4.343535900115967\n",
            "Epoch 27/100. Loss: 4.337467670440674\n",
            "Epoch 28/100. Loss: 4.327826023101807\n",
            "Epoch 29/100. Loss: 4.3289923667907715\n",
            "Epoch 30/100. Loss: 4.311113357543945\n",
            "Epoch 31/100. Loss: 4.304837226867676\n",
            "Epoch 32/100. Loss: 4.315464496612549\n",
            "Epoch 33/100. Loss: 4.325451374053955\n",
            "Epoch 34/100. Loss: 4.330106735229492\n",
            "Epoch 35/100. Loss: 4.288903713226318\n",
            "Epoch 36/100. Loss: 4.287226676940918\n",
            "Epoch 37/100. Loss: 4.333128452301025\n",
            "Epoch 38/100. Loss: 4.312711238861084\n",
            "Epoch 39/100. Loss: 4.3039374351501465\n",
            "Epoch 40/100. Loss: 4.3046064376831055\n",
            "Epoch 41/100. Loss: 4.307406425476074\n",
            "Epoch 42/100. Loss: 4.311854839324951\n",
            "Epoch 43/100. Loss: 4.309158802032471\n",
            "Epoch 44/100. Loss: 4.276064872741699\n",
            "Epoch 45/100. Loss: 4.305327892303467\n",
            "Epoch 46/100. Loss: 4.289496421813965\n",
            "Epoch 47/100. Loss: 4.300155162811279\n",
            "Epoch 48/100. Loss: 4.295543670654297\n",
            "Epoch 49/100. Loss: 4.306753158569336\n",
            "Epoch 50/100. Loss: 4.315051078796387\n",
            "Epoch 51/100. Loss: 4.288396835327148\n",
            "Epoch 52/100. Loss: 4.30834436416626\n",
            "Epoch 53/100. Loss: 4.299638271331787\n",
            "Epoch 54/100. Loss: 4.308313846588135\n",
            "Epoch 55/100. Loss: 4.270040512084961\n",
            "Epoch 56/100. Loss: 4.267606735229492\n",
            "Epoch 57/100. Loss: 4.292036533355713\n",
            "Epoch 58/100. Loss: 4.271564483642578\n",
            "Epoch 59/100. Loss: 4.276451587677002\n",
            "Epoch 60/100. Loss: 4.266537666320801\n",
            "Epoch 61/100. Loss: 4.266419887542725\n",
            "Epoch 62/100. Loss: 4.284685134887695\n",
            "Epoch 63/100. Loss: 4.262538909912109\n",
            "Epoch 64/100. Loss: 4.275052070617676\n",
            "Epoch 65/100. Loss: 4.283417701721191\n",
            "Epoch 66/100. Loss: 4.27522087097168\n",
            "Epoch 67/100. Loss: 4.251737594604492\n",
            "Epoch 68/100. Loss: 4.269439697265625\n",
            "Epoch 69/100. Loss: 4.286033630371094\n",
            "Epoch 70/100. Loss: 4.2819695472717285\n",
            "Epoch 71/100. Loss: 4.244481563568115\n",
            "Epoch 72/100. Loss: 4.287938117980957\n",
            "Epoch 73/100. Loss: 4.294362545013428\n",
            "Epoch 74/100. Loss: 4.258424758911133\n",
            "Epoch 75/100. Loss: 4.254809856414795\n",
            "Epoch 76/100. Loss: 4.28151273727417\n",
            "Epoch 77/100. Loss: 4.271363735198975\n",
            "Epoch 78/100. Loss: 4.268656253814697\n",
            "Epoch 79/100. Loss: 4.257148265838623\n",
            "Epoch 80/100. Loss: 4.221923828125\n",
            "Epoch 81/100. Loss: 4.24581241607666\n",
            "Epoch 82/100. Loss: 4.305452346801758\n",
            "Epoch 83/100. Loss: 4.240965843200684\n",
            "Epoch 84/100. Loss: 4.237399101257324\n",
            "Epoch 85/100. Loss: 4.254086971282959\n",
            "Epoch 86/100. Loss: 4.242807388305664\n",
            "Epoch 87/100. Loss: 4.268168926239014\n",
            "Epoch 88/100. Loss: 4.259350299835205\n",
            "Epoch 89/100. Loss: 4.273221015930176\n",
            "Epoch 90/100. Loss: 4.258523464202881\n",
            "Epoch 91/100. Loss: 4.278122425079346\n",
            "Epoch 92/100. Loss: 4.261250019073486\n",
            "Epoch 93/100. Loss: 4.258817672729492\n",
            "Epoch 94/100. Loss: 4.267795085906982\n",
            "Epoch 95/100. Loss: 4.247167587280273\n",
            "Epoch 96/100. Loss: 4.2451887130737305\n",
            "Epoch 97/100. Loss: 4.257833003997803\n",
            "Epoch 98/100. Loss: 4.256638050079346\n",
            "Epoch 99/100. Loss: 4.250638008117676\n",
            "Epoch 100/100. Loss: 4.248468399047852\n"
          ],
          "name": "stdout"
        }
      ]
    },
    {
      "cell_type": "code",
      "metadata": {
        "id": "kHSfhFiSCevS",
        "colab_type": "code",
        "outputId": "ccad8c9a-eb6a-46dc-fcd7-9e812926d84f",
        "colab": {
          "base_uri": "https://localhost:8080/",
          "height": 279
        }
      },
      "source": [
        "# Figure generates the epochs vs loss graph\n",
        "plt.plot(range(100), model.loss)\n",
        "plt.xlabel('Epochs')\n",
        "plt.ylabel('Loss')\n",
        "plt.show()"
      ],
      "execution_count": 9,
      "outputs": [
        {
          "output_type": "display_data",
          "data": {
            "image/png": "[encoded data removed]",
            "text/plain": [
              "<Figure size 432x288 with 1 Axes>"
            ]
          },
          "metadata": {
            "tags": [],
            "needs_background": "light"
          }
        }
      ]
    },
    {
      "cell_type": "code",
      "metadata": {
        "id": "O8HuIWzwCgbC",
        "colab_type": "code",
        "outputId": "bf153673-619f-4564-cb97-cf909a80b56c",
        "colab": {
          "base_uri": "https://localhost:8080/",
          "height": 248
        }
      },
      "source": [
        "# Generating the predicted images\n",
        "number = 10  \n",
        "plt.figure(figsize=(20, 4))\n",
        "for index in range(number):\n",
        "    # display original\n",
        "    ax = plt.subplot(2, number, index + 1)\n",
        "    plt.imshow(x_test[index].reshape(28, 28))\n",
        "    plt.gray()\n",
        "    ax.get_xaxis().set_visible(False)\n",
        "    ax.get_yaxis().set_visible(False)\n",
        "\n",
        "    # display reconstruction\n",
        "    ax = plt.subplot(2, number, index + 1 + number)\n",
        "    plt.imshow(model(x_test)[index].numpy().reshape(28, 28))\n",
        "    plt.gray()\n",
        "    ax.get_xaxis().set_visible(False)\n",
        "    ax.get_yaxis().set_visible(False)\n",
        "plt.show()"
      ],
      "execution_count": 10,
      "outputs": [
        {
          "output_type": "display_data",
          "data": {
            "image/png": "[encoded data removed]",
            "text/plain": [
              "<Figure size 1440x288 with 20 Axes>"
            ]
          },
          "metadata": {
            "tags": [],
            "needs_background": "light"
          }
        }
      ]
    },
    {
      "cell_type": "markdown",
      "metadata": {
        "id": "c6g9qXyITmV9",
        "colab_type": "text"
      },
      "source": [
        "## **AUTOENCODER BASE MODEL + 1 HIDDEN LAYER**"
      ]
    },
    {
      "cell_type": "code",
      "metadata": {
        "id": "SVk_4ClaKCqk",
        "colab_type": "code",
        "colab": {}
      },
      "source": [
        "#################################################################################################\n",
        "#########               Base Model + 1 hidden layer (dimension change)                   ########\n",
        "#################################################################################################\n",
        "\n",
        "# Encoder function to learn a compressed data structure\n",
        "class Encoder(tf.keras.layers.Layer):\n",
        "    def __init__(self, intermediate_dim):\n",
        "        super(Encoder, self).__init__()\n",
        "        self.hidden_layer_1 = tf.keras.layers.Dense(units=intermediate_dim, activation=tf.nn.relu)\n",
        "        self.hidden_layer_2 = tf.keras.layers.Dense(units=intermediate_dim/2, activation=tf.nn.relu)\n",
        "        self.output_layer = tf.keras.layers.Dense(units=intermediate_dim/2, activation=tf.nn.sigmoid)\n",
        "    \n",
        "    def call(self, input_features):\n",
        "        hid_layer_1 = self.hidden_layer_1(input_features)\n",
        "        activation = self.hidden_layer_2(hid_layer_1)\n",
        "        return self.output_layer(activation)"
      ],
      "execution_count": 0,
      "outputs": []
    },
    {
      "cell_type": "code",
      "metadata": {
        "id": "Fd0diUylKDBQ",
        "colab_type": "code",
        "colab": {}
      },
      "source": [
        "# Decoder function to reconstruct the data from lower dimension to its higher dimension\n",
        "class Decoder(tf.keras.layers.Layer):\n",
        "    def __init__(self, intermediate_dim, original_dim):\n",
        "        super(Decoder, self).__init__()\n",
        "        self.hidden_layer_1 = tf.keras.layers.Dense(units=intermediate_dim, activation=tf.nn.relu)\n",
        "        self.output_layer = tf.keras.layers.Dense(units=original_dim, activation=tf.nn.sigmoid)\n",
        "  \n",
        "    def call(self, code):\n",
        "        activation = self.hidden_layer_1(code)\n",
        "        return self.output_layer(activation)"
      ],
      "execution_count": 0,
      "outputs": []
    },
    {
      "cell_type": "code",
      "metadata": {
        "id": "Q1CEx-YUKDLr",
        "colab_type": "code",
        "colab": {}
      },
      "source": [
        "# Combines both the encoder and decoder and generates the output\n",
        "class Autoencoder(tf.keras.Model):\n",
        "  def __init__(self, intermediate_dim, original_dim):\n",
        "    super(Autoencoder, self).__init__()\n",
        "    self.loss = []\n",
        "    self.encoder = Encoder(intermediate_dim=intermediate_dim)\n",
        "    self.decoder = Decoder(intermediate_dim=intermediate_dim, original_dim=original_dim)\n",
        "\n",
        "  def call(self, input_features):\n",
        "    code = self.encoder(input_features)\n",
        "    reconstructed = self.decoder(code)\n",
        "    return reconstructed"
      ],
      "execution_count": 0,
      "outputs": []
    },
    {
      "cell_type": "code",
      "metadata": {
        "id": "Gnc2dtHHKDQ2",
        "colab_type": "code",
        "colab": {}
      },
      "source": [
        "def loss(preds, real):\n",
        "  return tf.reduce_mean(tf.square(tf.subtract(preds, real)))"
      ],
      "execution_count": 0,
      "outputs": []
    },
    {
      "cell_type": "code",
      "metadata": {
        "id": "2_a2LPcTKDUZ",
        "colab_type": "code",
        "colab": {}
      },
      "source": [
        "def train(loss, model, opt, original):\n",
        "  with tf.GradientTape() as tape:\n",
        "    preds = model(original)\n",
        "    reconstruction_error = loss(preds, original)\n",
        "  gradients = tape.gradient(reconstruction_error, model.trainable_variables)\n",
        "  gradient_variables = zip(gradients, model.trainable_variables)\n",
        "  opt.apply_gradients(gradient_variables)\n",
        "  \n",
        "  return reconstruction_error"
      ],
      "execution_count": 0,
      "outputs": []
    },
    {
      "cell_type": "code",
      "metadata": {
        "id": "QSbSjPaPKDX2",
        "colab_type": "code",
        "colab": {}
      },
      "source": [
        "def train_loop(model, opt, loss, dataset, epochs):\n",
        "  for epoch in range(epochs):\n",
        "    epoch_loss = 0\n",
        "    for step, batch_features in enumerate(dataset):\n",
        "      loss_values = train(loss, model, opt, batch_features)\n",
        "      epoch_loss += loss_values\n",
        "    model.loss.append(epoch_loss)\n",
        "    print('Epoch {}/{}. Loss: {}'.format(epoch + 1, epochs, epoch_loss.numpy()))"
      ],
      "execution_count": 0,
      "outputs": []
    },
    {
      "cell_type": "code",
      "metadata": {
        "id": "te7ic_G1KDbV",
        "colab_type": "code",
        "colab": {}
      },
      "source": [
        "from tensorflow.keras.datasets import mnist\n",
        "(x_train, _), (x_test, _) = mnist.load_data()\n",
        "\n",
        "x_train = x_train / 255.\n",
        "x_test = x_test / 255.\n",
        "x_train = x_train.astype(np.float32)\n",
        "x_train = np.reshape(x_train, (x_train.shape[0], 784))\n",
        "x_test = np.reshape(x_test, (x_test.shape[0], 784))\n",
        "\n",
        "training_dataset = tf.data.Dataset.from_tensor_slices(x_train).batch(256)"
      ],
      "execution_count": 0,
      "outputs": []
    },
    {
      "cell_type": "code",
      "metadata": {
        "id": "N7C-sH07KDhC",
        "colab_type": "code",
        "outputId": "ad6f5b9d-6b5a-4bcf-8bc1-024752d570a6",
        "colab": {
          "base_uri": "https://localhost:8080/",
          "height": 1000
        }
      },
      "source": [
        "model = Autoencoder(intermediate_dim=128, original_dim=784)\n",
        "opt = tf.keras.optimizers.Adam(learning_rate=1e-2)\n",
        "\n",
        "train_loop(model, opt, loss, training_dataset, 100)"
      ],
      "execution_count": 0,
      "outputs": [
        {
          "output_type": "stream",
          "text": [
            "Epoch 1/100. Loss: 14.599205017089844\n",
            "Epoch 2/100. Loss: 8.505228042602539\n",
            "Epoch 3/100. Loss: 5.824843406677246\n",
            "Epoch 4/100. Loss: 4.739099979400635\n",
            "Epoch 5/100. Loss: 4.1971869468688965\n",
            "Epoch 6/100. Loss: 3.894381284713745\n",
            "Epoch 7/100. Loss: 3.6938469409942627\n",
            "Epoch 8/100. Loss: 3.531859874725342\n",
            "Epoch 9/100. Loss: 3.407147169113159\n",
            "Epoch 10/100. Loss: 3.3080549240112305\n",
            "Epoch 11/100. Loss: 3.2145309448242188\n",
            "Epoch 12/100. Loss: 3.157881021499634\n",
            "Epoch 13/100. Loss: 3.0904319286346436\n",
            "Epoch 14/100. Loss: 3.041408061981201\n",
            "Epoch 15/100. Loss: 3.0047554969787598\n",
            "Epoch 16/100. Loss: 2.9878225326538086\n",
            "Epoch 17/100. Loss: 2.901216745376587\n",
            "Epoch 18/100. Loss: 2.8417539596557617\n",
            "Epoch 19/100. Loss: 2.7821099758148193\n",
            "Epoch 20/100. Loss: 2.7706527709960938\n",
            "Epoch 21/100. Loss: 2.772881269454956\n",
            "Epoch 22/100. Loss: 2.7318520545959473\n",
            "Epoch 23/100. Loss: 2.6846718788146973\n",
            "Epoch 24/100. Loss: 2.6562395095825195\n",
            "Epoch 25/100. Loss: 2.684285879135132\n",
            "Epoch 26/100. Loss: 2.676032781600952\n",
            "Epoch 27/100. Loss: 2.6434779167175293\n",
            "Epoch 28/100. Loss: 2.6000454425811768\n",
            "Epoch 29/100. Loss: 2.5858733654022217\n",
            "Epoch 30/100. Loss: 2.596601963043213\n",
            "Epoch 31/100. Loss: 2.527531147003174\n",
            "Epoch 32/100. Loss: 2.529125452041626\n",
            "Epoch 33/100. Loss: 2.503357172012329\n",
            "Epoch 34/100. Loss: 2.475209951400757\n",
            "Epoch 35/100. Loss: 2.479353189468384\n",
            "Epoch 36/100. Loss: 2.4687387943267822\n",
            "Epoch 37/100. Loss: 2.4855380058288574\n",
            "Epoch 38/100. Loss: 2.433985948562622\n",
            "Epoch 39/100. Loss: 2.4119696617126465\n",
            "Epoch 40/100. Loss: 2.4193575382232666\n",
            "Epoch 41/100. Loss: 2.403505563735962\n",
            "Epoch 42/100. Loss: 2.420147657394409\n",
            "Epoch 43/100. Loss: 2.39233660697937\n",
            "Epoch 44/100. Loss: 2.4035043716430664\n",
            "Epoch 45/100. Loss: 2.3796682357788086\n",
            "Epoch 46/100. Loss: 2.3982038497924805\n",
            "Epoch 47/100. Loss: 2.3966000080108643\n",
            "Epoch 48/100. Loss: 2.374222755432129\n",
            "Epoch 49/100. Loss: 2.3727986812591553\n",
            "Epoch 50/100. Loss: 2.364732503890991\n",
            "Epoch 51/100. Loss: 2.341836929321289\n",
            "Epoch 52/100. Loss: 2.3132896423339844\n",
            "Epoch 53/100. Loss: 2.3632729053497314\n",
            "Epoch 54/100. Loss: 2.3749797344207764\n",
            "Epoch 55/100. Loss: 2.3271777629852295\n",
            "Epoch 56/100. Loss: 2.3354172706604004\n",
            "Epoch 57/100. Loss: 2.3292009830474854\n",
            "Epoch 58/100. Loss: 2.344151735305786\n",
            "Epoch 59/100. Loss: 2.3193583488464355\n",
            "Epoch 60/100. Loss: 2.3331258296966553\n",
            "Epoch 61/100. Loss: 2.3096039295196533\n",
            "Epoch 62/100. Loss: 2.302678346633911\n",
            "Epoch 63/100. Loss: 2.2951035499572754\n",
            "Epoch 64/100. Loss: 2.2944347858428955\n",
            "Epoch 65/100. Loss: 2.310114622116089\n",
            "Epoch 66/100. Loss: 2.3047211170196533\n",
            "Epoch 67/100. Loss: 2.2755024433135986\n",
            "Epoch 68/100. Loss: 2.2969422340393066\n",
            "Epoch 69/100. Loss: 2.296708106994629\n",
            "Epoch 70/100. Loss: 2.29024338722229\n",
            "Epoch 71/100. Loss: 2.2882702350616455\n",
            "Epoch 72/100. Loss: 2.259524345397949\n",
            "Epoch 73/100. Loss: 2.263767957687378\n",
            "Epoch 74/100. Loss: 2.281902313232422\n",
            "Epoch 75/100. Loss: 2.238969564437866\n",
            "Epoch 76/100. Loss: 2.263579845428467\n",
            "Epoch 77/100. Loss: 2.296447515487671\n",
            "Epoch 78/100. Loss: 2.2577641010284424\n",
            "Epoch 79/100. Loss: 2.278482437133789\n",
            "Epoch 80/100. Loss: 2.2745132446289062\n",
            "Epoch 81/100. Loss: 2.224830389022827\n",
            "Epoch 82/100. Loss: 2.2318131923675537\n",
            "Epoch 83/100. Loss: 2.2989602088928223\n",
            "Epoch 84/100. Loss: 2.2491109371185303\n",
            "Epoch 85/100. Loss: 2.2207417488098145\n",
            "Epoch 86/100. Loss: 2.240187168121338\n",
            "Epoch 87/100. Loss: 2.2296550273895264\n",
            "Epoch 88/100. Loss: 2.229820966720581\n",
            "Epoch 89/100. Loss: 2.221334934234619\n",
            "Epoch 90/100. Loss: 2.282689094543457\n",
            "Epoch 91/100. Loss: 2.240955352783203\n",
            "Epoch 92/100. Loss: 2.217583417892456\n",
            "Epoch 93/100. Loss: 2.2232494354248047\n",
            "Epoch 94/100. Loss: 2.2273309230804443\n",
            "Epoch 95/100. Loss: 2.227410316467285\n",
            "Epoch 96/100. Loss: 2.2413523197174072\n",
            "Epoch 97/100. Loss: 2.2661755084991455\n",
            "Epoch 98/100. Loss: 2.217294454574585\n",
            "Epoch 99/100. Loss: 2.19063138961792\n",
            "Epoch 100/100. Loss: 2.1953532695770264\n"
          ],
          "name": "stdout"
        }
      ]
    },
    {
      "cell_type": "code",
      "metadata": {
        "id": "gKgnsOYOKDkI",
        "colab_type": "code",
        "outputId": "0cc630d5-e22c-4407-876f-bab24f143145",
        "colab": {
          "base_uri": "https://localhost:8080/",
          "height": 279
        }
      },
      "source": [
        "plt.plot(range(100), model.loss)\n",
        "plt.xlabel('Epochs')\n",
        "plt.ylabel('Loss')\n",
        "plt.show()"
      ],
      "execution_count": 0,
      "outputs": [
        {
          "output_type": "display_data",
          "data": {
            "image/png": "[encoded data removed]",
            "text/plain": [
              "<Figure size 432x288 with 1 Axes>"
            ]
          },
          "metadata": {
            "tags": [],
            "needs_background": "light"
          }
        }
      ]
    },
    {
      "cell_type": "code",
      "metadata": {
        "id": "J1xdJKQoKDnA",
        "colab_type": "code",
        "outputId": "5b9f9a56-5985-4dcc-bfe5-aa7ab6f84c00",
        "colab": {
          "base_uri": "https://localhost:8080/",
          "height": 372
        }
      },
      "source": [
        "# Generating the predicted images\n",
        "number = 10  \n",
        "plt.figure(figsize=(20, 4))\n",
        "for index in range(number):\n",
        "    # display original\n",
        "    ax = plt.subplot(2, number, index + 1)\n",
        "    plt.imshow(x_test[index].reshape(28, 28))\n",
        "    plt.gray()\n",
        "    ax.get_xaxis().set_visible(False)\n",
        "    ax.get_yaxis().set_visible(False)\n",
        "\n",
        "    # display reconstruction\n",
        "    ax = plt.subplot(2, number, index + 1 + number)\n",
        "    plt.imshow(model(x_test)[index].numpy().reshape(28, 28))\n",
        "    plt.gray()\n",
        "    ax.get_xaxis().set_visible(False)\n",
        "    ax.get_yaxis().set_visible(False)\n",
        "plt.show()"
      ],
      "execution_count": 0,
      "outputs": [
        {
          "output_type": "stream",
          "text": [
            "WARNING:tensorflow:Layer autoencoder_2 is casting an input tensor from dtype float64 to the layer's dtype of float32, which is new behavior in TensorFlow 2.  The layer has dtype float32 because it's dtype defaults to floatx.\n",
            "\n",
            "If you intended to run this layer in float32, you can safely ignore this warning. If in doubt, this warning is likely only an issue if you are porting a TensorFlow 1.X model to TensorFlow 2.\n",
            "\n",
            "To change all layers to have dtype float64 by default, call `tf.keras.backend.set_floatx('float64')`. To change just this layer, pass dtype='float64' to the layer constructor. If you are the author of this layer, you can disable autocasting by passing autocast=False to the base Layer constructor.\n",
            "\n"
          ],
          "name": "stdout"
        },
        {
          "output_type": "display_data",
          "data": {
            "image/png": "[encoded data removed]",
            "text/plain": [
              "<Figure size 1440x288 with 20 Axes>"
            ]
          },
          "metadata": {
            "tags": [],
            "needs_background": "light"
          }
        }
      ]
    },
    {
      "cell_type": "markdown",
      "metadata": {
        "id": "OO8eHj7tT5EY",
        "colab_type": "text"
      },
      "source": [
        "**AUTOENCODER BASE MODEL + 2 HIDDEN LAYERS**"
      ]
    },
    {
      "cell_type": "code",
      "metadata": {
        "id": "clwrC_aRKDeh",
        "colab_type": "code",
        "colab": {}
      },
      "source": [
        "#################################################################################################\n",
        "#########               Base Model + 2 hidden layer (dimension change)                   ########\n",
        "#################################################################################################\n",
        "\n",
        "# Encoder function to learn a compressed data structure\n",
        "class Encoder(tf.keras.layers.Layer):\n",
        "    def __init__(self, intermediate_dim):\n",
        "        super(Encoder, self).__init__()\n",
        "        self.hidden_layer_1 = tf.keras.layers.Dense(units=intermediate_dim, activation=tf.nn.relu)\n",
        "        self.hidden_layer_2 = tf.keras.layers.Dense(units=intermediate_dim/2, activation=tf.nn.relu)\n",
        "        self.hidden_layer_3 = tf.keras.layers.Dense(units=intermediate_dim/4, activation=tf.nn.relu)\n",
        "        self.output_layer = tf.keras.layers.Dense(units=intermediate_dim/4, activation=tf.nn.sigmoid)\n",
        "    \n",
        "    def call(self, input_features):\n",
        "        hid_layer_1 = self.hidden_layer_1(input_features)\n",
        "        hid_layer_2 = self.hidden_layer_2(hid_layer_1)\n",
        "        activation = self.hidden_layer_3(hid_layer_2)\n",
        "        return self.output_layer(activation)"
      ],
      "execution_count": 0,
      "outputs": []
    },
    {
      "cell_type": "code",
      "metadata": {
        "id": "m7v_IRR-TjQT",
        "colab_type": "code",
        "colab": {}
      },
      "source": [
        "# Decoder function to reconstruct the data from lower dimension to its higher dimension\n",
        "class Decoder(tf.keras.layers.Layer):\n",
        "    def __init__(self, intermediate_dim, original_dim):\n",
        "        super(Decoder, self).__init__()\n",
        "        self.hidden_layer_1 = tf.keras.layers.Dense(units=intermediate_dim/2, activation=tf.nn.relu)\n",
        "        self.hidden_layer_2 = tf.keras.layers.Dense(units=intermediate_dim, activation=tf.nn.relu)\n",
        "        self.output_layer = tf.keras.layers.Dense(units=original_dim, activation=tf.nn.sigmoid)\n",
        "  \n",
        "    def call(self, code):\n",
        "        hid_layer_1 = self.hidden_layer_1(code)\n",
        "        activation = self.hidden_layer_2(hid_layer_1)\n",
        "        return self.output_layer(activation)"
      ],
      "execution_count": 0,
      "outputs": []
    },
    {
      "cell_type": "code",
      "metadata": {
        "id": "C7DaIscvTSh2",
        "colab_type": "code",
        "colab": {}
      },
      "source": [
        "# Combines both the encoder and decoder and generates the output\n",
        "class Autoencoder(tf.keras.Model):\n",
        "  def __init__(self, intermediate_dim, original_dim):\n",
        "    super(Autoencoder, self).__init__()\n",
        "    self.loss = []\n",
        "    self.encoder = Encoder(intermediate_dim=intermediate_dim)\n",
        "    self.decoder = Decoder(intermediate_dim=intermediate_dim, original_dim=original_dim)\n",
        "\n",
        "  def call(self, input_features):\n",
        "    code = self.encoder(input_features)\n",
        "    reconstructed = self.decoder(code)\n",
        "    return reconstructed"
      ],
      "execution_count": 0,
      "outputs": []
    },
    {
      "cell_type": "code",
      "metadata": {
        "id": "Ga_d8HgdTSoD",
        "colab_type": "code",
        "colab": {}
      },
      "source": [
        "def loss(preds, real):\n",
        "  return tf.reduce_mean(tf.square(tf.subtract(preds, real)))"
      ],
      "execution_count": 0,
      "outputs": []
    },
    {
      "cell_type": "code",
      "metadata": {
        "id": "Qn3BpdTdTSuM",
        "colab_type": "code",
        "colab": {}
      },
      "source": [
        "def train(loss, model, opt, original):\n",
        "  with tf.GradientTape() as tape:\n",
        "    preds = model(original)\n",
        "    reconstruction_error = loss(preds, original)\n",
        "  gradients = tape.gradient(reconstruction_error, model.trainable_variables)\n",
        "  gradient_variables = zip(gradients, model.trainable_variables)\n",
        "  opt.apply_gradients(gradient_variables)\n",
        "  \n",
        "  return reconstruction_error"
      ],
      "execution_count": 0,
      "outputs": []
    },
    {
      "cell_type": "code",
      "metadata": {
        "id": "wcnzICfZTS04",
        "colab_type": "code",
        "colab": {}
      },
      "source": [
        "def train_loop(model, opt, loss, dataset, epochs):\n",
        "  for epoch in range(epochs):\n",
        "    epoch_loss = 0\n",
        "    for step, batch_features in enumerate(dataset):\n",
        "      loss_values = train(loss, model, opt, batch_features)\n",
        "      epoch_loss += loss_values\n",
        "    model.loss.append(epoch_loss)\n",
        "    print('Epoch {}/{}. Loss: {}'.format(epoch + 1, epochs, epoch_loss.numpy()))"
      ],
      "execution_count": 0,
      "outputs": []
    },
    {
      "cell_type": "code",
      "metadata": {
        "id": "nzZvpfamT3F9",
        "colab_type": "code",
        "colab": {}
      },
      "source": [
        "from tensorflow.keras.datasets import mnist\n",
        "(x_train, _), (x_test, _) = mnist.load_data()\n",
        "\n",
        "x_train = x_train / 255.\n",
        "x_test = x_test / 255.\n",
        "x_train = x_train.astype(np.float32)\n",
        "x_train = np.reshape(x_train, (x_train.shape[0], 784))\n",
        "x_test = np.reshape(x_test, (x_test.shape[0], 784))\n",
        "\n",
        "training_dataset = tf.data.Dataset.from_tensor_slices(x_train).batch(256)"
      ],
      "execution_count": 0,
      "outputs": []
    },
    {
      "cell_type": "code",
      "metadata": {
        "id": "TdYU_pp8T3Qo",
        "colab_type": "code",
        "outputId": "764bdbe3-57f0-4b8e-fbdd-62d6c9da467f",
        "colab": {
          "base_uri": "https://localhost:8080/",
          "height": 1000
        }
      },
      "source": [
        "model = Autoencoder(intermediate_dim=128, original_dim=784)\n",
        "opt = tf.keras.optimizers.Adam(learning_rate=1e-2)\n",
        "\n",
        "train_loop(model, opt, loss, training_dataset, 100)"
      ],
      "execution_count": 0,
      "outputs": [
        {
          "output_type": "stream",
          "text": [
            "Epoch 1/100. Loss: 16.538625717163086\n",
            "Epoch 2/100. Loss: 15.91459846496582\n",
            "Epoch 3/100. Loss: 15.897239685058594\n",
            "Epoch 4/100. Loss: 15.879228591918945\n",
            "Epoch 5/100. Loss: 15.863126754760742\n",
            "Epoch 6/100. Loss: 15.850329399108887\n",
            "Epoch 7/100. Loss: 15.848308563232422\n",
            "Epoch 8/100. Loss: 15.845898628234863\n",
            "Epoch 9/100. Loss: 15.84383487701416\n",
            "Epoch 10/100. Loss: 15.84194278717041\n",
            "Epoch 11/100. Loss: 15.84015941619873\n",
            "Epoch 12/100. Loss: 15.838465690612793\n",
            "Epoch 13/100. Loss: 15.836862564086914\n",
            "Epoch 14/100. Loss: 15.835328102111816\n",
            "Epoch 15/100. Loss: 15.833861351013184\n",
            "Epoch 16/100. Loss: 15.832427024841309\n",
            "Epoch 17/100. Loss: 15.831056594848633\n",
            "Epoch 18/100. Loss: 15.829717636108398\n",
            "Epoch 19/100. Loss: 15.828405380249023\n",
            "Epoch 20/100. Loss: 15.827139854431152\n",
            "Epoch 21/100. Loss: 15.825888633728027\n",
            "Epoch 22/100. Loss: 15.824687004089355\n",
            "Epoch 23/100. Loss: 15.823527336120605\n",
            "Epoch 24/100. Loss: 15.822416305541992\n",
            "Epoch 25/100. Loss: 15.821382522583008\n",
            "Epoch 26/100. Loss: 15.820366859436035\n",
            "Epoch 27/100. Loss: 15.819404602050781\n",
            "Epoch 28/100. Loss: 15.818466186523438\n",
            "Epoch 29/100. Loss: 15.81743049621582\n",
            "Epoch 30/100. Loss: 15.81648063659668\n",
            "Epoch 31/100. Loss: 15.815627098083496\n",
            "Epoch 32/100. Loss: 15.814885139465332\n",
            "Epoch 33/100. Loss: 15.81424617767334\n",
            "Epoch 34/100. Loss: 15.813730239868164\n",
            "Epoch 35/100. Loss: 15.813334465026855\n",
            "Epoch 36/100. Loss: 15.81299877166748\n",
            "Epoch 37/100. Loss: 15.812713623046875\n",
            "Epoch 38/100. Loss: 15.81247615814209\n",
            "Epoch 39/100. Loss: 15.812238693237305\n",
            "Epoch 40/100. Loss: 15.812027931213379\n",
            "Epoch 41/100. Loss: 15.811835289001465\n",
            "Epoch 42/100. Loss: 15.81164836883545\n",
            "Epoch 43/100. Loss: 15.811463356018066\n",
            "Epoch 44/100. Loss: 15.811299324035645\n",
            "Epoch 45/100. Loss: 15.811156272888184\n",
            "Epoch 46/100. Loss: 15.81102180480957\n",
            "Epoch 47/100. Loss: 15.810879707336426\n",
            "Epoch 48/100. Loss: 15.810746192932129\n",
            "Epoch 49/100. Loss: 15.81061840057373\n",
            "Epoch 50/100. Loss: 15.81049633026123\n",
            "Epoch 51/100. Loss: 15.810369491577148\n",
            "Epoch 52/100. Loss: 15.810251235961914\n",
            "Epoch 53/100. Loss: 15.810132026672363\n",
            "Epoch 54/100. Loss: 15.810028076171875\n",
            "Epoch 55/100. Loss: 15.809914588928223\n",
            "Epoch 56/100. Loss: 15.809819221496582\n",
            "Epoch 57/100. Loss: 15.809712409973145\n",
            "Epoch 58/100. Loss: 15.809623718261719\n",
            "Epoch 59/100. Loss: 15.809528350830078\n",
            "Epoch 60/100. Loss: 15.809438705444336\n",
            "Epoch 61/100. Loss: 15.809362411499023\n",
            "Epoch 62/100. Loss: 15.809284210205078\n",
            "Epoch 63/100. Loss: 15.809215545654297\n",
            "Epoch 64/100. Loss: 15.809151649475098\n",
            "Epoch 65/100. Loss: 15.80938720703125\n",
            "Epoch 66/100. Loss: 15.809131622314453\n",
            "Epoch 67/100. Loss: 15.80908203125\n",
            "Epoch 68/100. Loss: 15.80905532836914\n",
            "Epoch 69/100. Loss: 15.809045791625977\n",
            "Epoch 70/100. Loss: 15.809038162231445\n",
            "Epoch 71/100. Loss: 15.809028625488281\n",
            "Epoch 72/100. Loss: 15.80902099609375\n",
            "Epoch 73/100. Loss: 15.809016227722168\n",
            "Epoch 74/100. Loss: 15.809012413024902\n",
            "Epoch 75/100. Loss: 15.80901050567627\n",
            "Epoch 76/100. Loss: 15.809002876281738\n",
            "Epoch 77/100. Loss: 15.809000015258789\n",
            "Epoch 78/100. Loss: 15.809000015258789\n",
            "Epoch 79/100. Loss: 15.80899715423584\n",
            "Epoch 80/100. Loss: 15.80899429321289\n",
            "Epoch 81/100. Loss: 15.80899429321289\n",
            "Epoch 82/100. Loss: 15.80899429321289\n",
            "Epoch 83/100. Loss: 15.808993339538574\n",
            "Epoch 84/100. Loss: 15.808991432189941\n",
            "Epoch 85/100. Loss: 15.808990478515625\n",
            "Epoch 86/100. Loss: 15.808990478515625\n",
            "Epoch 87/100. Loss: 15.808988571166992\n",
            "Epoch 88/100. Loss: 15.808987617492676\n",
            "Epoch 89/100. Loss: 15.808987617492676\n",
            "Epoch 90/100. Loss: 15.808985710144043\n",
            "Epoch 91/100. Loss: 15.808982849121094\n",
            "Epoch 92/100. Loss: 15.808980941772461\n",
            "Epoch 93/100. Loss: 15.808980941772461\n",
            "Epoch 94/100. Loss: 15.808980941772461\n",
            "Epoch 95/100. Loss: 15.808980941772461\n",
            "Epoch 96/100. Loss: 15.808979988098145\n",
            "Epoch 97/100. Loss: 15.808979988098145\n",
            "Epoch 98/100. Loss: 15.808979988098145\n",
            "Epoch 99/100. Loss: 15.808979988098145\n",
            "Epoch 100/100. Loss: 15.808979988098145\n"
          ],
          "name": "stdout"
        }
      ]
    },
    {
      "cell_type": "code",
      "metadata": {
        "id": "nf1vLWudUDLK",
        "colab_type": "code",
        "outputId": "d3668fce-4b7b-45a0-8660-4115800cc3ed",
        "colab": {
          "base_uri": "https://localhost:8080/",
          "height": 279
        }
      },
      "source": [
        "plt.plot(range(100), model.loss)\n",
        "plt.xlabel('Epochs')\n",
        "plt.ylabel('Loss')\n",
        "plt.show()"
      ],
      "execution_count": 0,
      "outputs": [
        {
          "output_type": "display_data",
          "data": {
            "image/png": "[encoded data removed]",
            "text/plain": [
              "<Figure size 432x288 with 1 Axes>"
            ]
          },
          "metadata": {
            "tags": [],
            "needs_background": "light"
          }
        }
      ]
    },
    {
      "cell_type": "code",
      "metadata": {
        "id": "rYI5c5WKUDSF",
        "colab_type": "code",
        "outputId": "6383a4f6-2462-444b-9c4b-fa78a57b350b",
        "colab": {
          "base_uri": "https://localhost:8080/",
          "height": 372
        }
      },
      "source": [
        "number = 10  # how many digits we will display\n",
        "plt.figure(figsize=(20, 4))\n",
        "for index in range(number):\n",
        "    # display original\n",
        "    ax = plt.subplot(2, number, index + 1)\n",
        "    plt.imshow(x_test[index].reshape(28, 28))\n",
        "    plt.gray()\n",
        "    ax.get_xaxis().set_visible(False)\n",
        "    ax.get_yaxis().set_visible(False)\n",
        "\n",
        "    # display reconstruction\n",
        "    ax = plt.subplot(2, number, index + 1 + number)\n",
        "    plt.imshow(model(x_test)[index].numpy().reshape(28, 28))\n",
        "    plt.gray()\n",
        "    ax.get_xaxis().set_visible(False)\n",
        "    ax.get_yaxis().set_visible(False)\n",
        "plt.show()"
      ],
      "execution_count": 0,
      "outputs": [
        {
          "output_type": "stream",
          "text": [
            "WARNING:tensorflow:Layer autoencoder_3 is casting an input tensor from dtype float64 to the layer's dtype of float32, which is new behavior in TensorFlow 2.  The layer has dtype float32 because it's dtype defaults to floatx.\n",
            "\n",
            "If you intended to run this layer in float32, you can safely ignore this warning. If in doubt, this warning is likely only an issue if you are porting a TensorFlow 1.X model to TensorFlow 2.\n",
            "\n",
            "To change all layers to have dtype float64 by default, call `tf.keras.backend.set_floatx('float64')`. To change just this layer, pass dtype='float64' to the layer constructor. If you are the author of this layer, you can disable autocasting by passing autocast=False to the base Layer constructor.\n",
            "\n"
          ],
          "name": "stdout"
        },
        {
          "output_type": "display_data",
          "data": {
            "image/png": "[encoded data removed]",
            "text/plain": [
              "<Figure size 1440x288 with 20 Axes>"
            ]
          },
          "metadata": {
            "tags": [],
            "needs_background": "light"
          }
        }
      ]
    },
    {
      "cell_type": "markdown",
      "metadata": {
        "id": "v4_lgmKKI7Lj",
        "colab_type": "text"
      },
      "source": [
        "### **CNN BASE MODEL**"
      ]
    },
    {
      "cell_type": "code",
      "metadata": {
        "id": "XdsqOecOhUje",
        "colab_type": "code",
        "colab": {}
      },
      "source": [
        "#################################################################################################\n",
        "#########                            CNN Base Model                                      ########\n",
        "#################################################################################################\n",
        "\n",
        "# The size of the image\n",
        "input_img = tf.keras.layers.Input(shape=(28, 28, 1)) \n",
        "\n",
        "# The encoder contains 3 convolutional and 3 max pooling layers\n",
        "x = tf.keras.layers.Conv2D(16, (3, 3), activation='relu', padding='same')(input_img)\n",
        "x = tf.keras.layers.MaxPooling2D((2, 2), padding='same')(x)\n",
        "x = tf.keras.layers.Conv2D(8, (3, 3), activation='relu', padding='same')(x)\n",
        "x = tf.keras.layers.MaxPooling2D((2, 2), padding='same')(x)\n",
        "x = tf.keras.layers.Conv2D(8, (3, 3), activation='relu', padding='same')(x)\n",
        "encoded = tf.keras.layers.MaxPooling2D((2, 2), padding='same')(x)\n",
        "\n",
        "# at this point the representation is (4, 4, 8) i.e. 128-dimensional\n",
        "\n",
        "# The decoder contains 3 convolutional and 3 up sampling layers\n",
        "x = tf.keras.layers.Conv2D(8, (3, 3), activation='relu', padding='same')(encoded)\n",
        "x = tf.keras.layers.UpSampling2D((2, 2))(x)\n",
        "x = tf.keras.layers.Conv2D(8, (3, 3), activation='relu', padding='same')(x)\n",
        "x = tf.keras.layers.UpSampling2D((2, 2))(x)\n",
        "x = tf.keras.layers.Conv2D(16, (3, 3), activation='relu')(x)\n",
        "x = tf.keras.layers.UpSampling2D((2, 2))(x)\n",
        "decoded = tf.keras.layers.Conv2D(1, (3, 3), activation='sigmoid', padding='same')(x)\n",
        "\n",
        "autoencoder = tf.keras.models.Model(input_img, decoded)\n",
        "autoencoder.compile(optimizer='adadelta', loss='binary_crossentropy')"
      ],
      "execution_count": 0,
      "outputs": []
    },
    {
      "cell_type": "code",
      "metadata": {
        "id": "V_dkP1RNhUnU",
        "colab_type": "code",
        "colab": {}
      },
      "source": [
        "from tensorflow.keras.datasets import mnist\n",
        "(x_train, _), (x_test, _) = mnist.load_data()\n",
        "\n",
        "# Normalizing the pixel values\n",
        "x_train = x_train.astype('float32') / 255.\n",
        "x_test = x_test.astype('float32') / 255.\n",
        "x_train = np.reshape(x_train, (len(x_train), 28, 28, 1))\n",
        "x_test = np.reshape(x_test, (len(x_test), 28, 28, 1))"
      ],
      "execution_count": 0,
      "outputs": []
    },
    {
      "cell_type": "code",
      "metadata": {
        "id": "KOta7GNqhUqB",
        "colab_type": "code",
        "outputId": "1af6f188-56c5-4824-a26c-4a0bb3ded4b5",
        "colab": {
          "base_uri": "https://localhost:8080/",
          "height": 1000
        }
      },
      "source": [
        "autoencoder.fit(x_train, x_train, epochs=100, batch_size=128, \n",
        "                shuffle=True, validation_data=(x_test, x_test), \n",
        "                callbacks=[tf.keras.callbacks.TensorBoard(log_dir='./tmp/autoencoder')])"
      ],
      "execution_count": 0,
      "outputs": [
        {
          "output_type": "stream",
          "text": [
            "Epoch 1/100\n",
            "469/469 [==============================] - 3s 6ms/step - loss: 0.7067 - val_loss: 0.7037\n",
            "Epoch 2/100\n",
            "469/469 [==============================] - 3s 5ms/step - loss: 0.7010 - val_loss: 0.6984\n",
            "Epoch 3/100\n",
            "469/469 [==============================] - 3s 5ms/step - loss: 0.6960 - val_loss: 0.6937\n",
            "Epoch 4/100\n",
            "469/469 [==============================] - 2s 5ms/step - loss: 0.6916 - val_loss: 0.6894\n",
            "Epoch 5/100\n",
            "469/469 [==============================] - 3s 5ms/step - loss: 0.6870 - val_loss: 0.6844\n",
            "Epoch 6/100\n",
            "469/469 [==============================] - 3s 5ms/step - loss: 0.6806 - val_loss: 0.6759\n",
            "Epoch 7/100\n",
            "469/469 [==============================] - 2s 5ms/step - loss: 0.6668 - val_loss: 0.6542\n",
            "Epoch 8/100\n",
            "469/469 [==============================] - 2s 5ms/step - loss: 0.6252 - val_loss: 0.5825\n",
            "Epoch 9/100\n",
            "469/469 [==============================] - 3s 5ms/step - loss: 0.5180 - val_loss: 0.4769\n",
            "Epoch 10/100\n",
            "469/469 [==============================] - 2s 5ms/step - loss: 0.4645 - val_loss: 0.4628\n",
            "Epoch 11/100\n",
            "469/469 [==============================] - 3s 5ms/step - loss: 0.4533 - val_loss: 0.4525\n",
            "Epoch 12/100\n",
            "469/469 [==============================] - 2s 5ms/step - loss: 0.4431 - val_loss: 0.4421\n",
            "Epoch 13/100\n",
            "469/469 [==============================] - 2s 5ms/step - loss: 0.4324 - val_loss: 0.4309\n",
            "Epoch 14/100\n",
            "469/469 [==============================] - 2s 5ms/step - loss: 0.4203 - val_loss: 0.4174\n",
            "Epoch 15/100\n",
            "469/469 [==============================] - 3s 5ms/step - loss: 0.4056 - val_loss: 0.4007\n",
            "Epoch 16/100\n",
            "469/469 [==============================] - 3s 5ms/step - loss: 0.3869 - val_loss: 0.3789\n",
            "Epoch 17/100\n",
            "469/469 [==============================] - 2s 5ms/step - loss: 0.3620 - val_loss: 0.3498\n",
            "Epoch 18/100\n",
            "469/469 [==============================] - 2s 5ms/step - loss: 0.3333 - val_loss: 0.3220\n",
            "Epoch 19/100\n",
            "469/469 [==============================] - 3s 5ms/step - loss: 0.3094 - val_loss: 0.3010\n",
            "Epoch 20/100\n",
            "469/469 [==============================] - 2s 5ms/step - loss: 0.2921 - val_loss: 0.2862\n",
            "Epoch 21/100\n",
            "469/469 [==============================] - 2s 5ms/step - loss: 0.2800 - val_loss: 0.2760\n",
            "Epoch 22/100\n",
            "469/469 [==============================] - 2s 5ms/step - loss: 0.2714 - val_loss: 0.2685\n",
            "Epoch 23/100\n",
            "469/469 [==============================] - 3s 5ms/step - loss: 0.2650 - val_loss: 0.2628\n",
            "Epoch 24/100\n",
            "469/469 [==============================] - 3s 5ms/step - loss: 0.2600 - val_loss: 0.2582\n",
            "Epoch 25/100\n",
            "469/469 [==============================] - 2s 5ms/step - loss: 0.2558 - val_loss: 0.2543\n",
            "Epoch 26/100\n",
            "469/469 [==============================] - 2s 5ms/step - loss: 0.2523 - val_loss: 0.2510\n",
            "Epoch 27/100\n",
            "469/469 [==============================] - 2s 5ms/step - loss: 0.2493 - val_loss: 0.2482\n",
            "Epoch 28/100\n",
            "469/469 [==============================] - 2s 5ms/step - loss: 0.2466 - val_loss: 0.2456\n",
            "Epoch 29/100\n",
            "469/469 [==============================] - 2s 5ms/step - loss: 0.2443 - val_loss: 0.2433\n",
            "Epoch 30/100\n",
            "469/469 [==============================] - 2s 5ms/step - loss: 0.2421 - val_loss: 0.2412\n",
            "Epoch 31/100\n",
            "469/469 [==============================] - 3s 5ms/step - loss: 0.2402 - val_loss: 0.2393\n",
            "Epoch 32/100\n",
            "469/469 [==============================] - 3s 5ms/step - loss: 0.2383 - val_loss: 0.2375\n",
            "Epoch 33/100\n",
            "469/469 [==============================] - 3s 5ms/step - loss: 0.2366 - val_loss: 0.2358\n",
            "Epoch 34/100\n",
            "469/469 [==============================] - 3s 5ms/step - loss: 0.2350 - val_loss: 0.2342\n",
            "Epoch 35/100\n",
            "469/469 [==============================] - 3s 5ms/step - loss: 0.2335 - val_loss: 0.2328\n",
            "Epoch 36/100\n",
            "469/469 [==============================] - 3s 5ms/step - loss: 0.2320 - val_loss: 0.2314\n",
            "Epoch 37/100\n",
            "469/469 [==============================] - 3s 5ms/step - loss: 0.2307 - val_loss: 0.2301\n",
            "Epoch 38/100\n",
            "469/469 [==============================] - 2s 5ms/step - loss: 0.2294 - val_loss: 0.2289\n",
            "Epoch 39/100\n",
            "469/469 [==============================] - 3s 5ms/step - loss: 0.2282 - val_loss: 0.2277\n",
            "Epoch 40/100\n",
            "469/469 [==============================] - 3s 5ms/step - loss: 0.2271 - val_loss: 0.2266\n",
            "Epoch 41/100\n",
            "469/469 [==============================] - 2s 5ms/step - loss: 0.2261 - val_loss: 0.2256\n",
            "Epoch 42/100\n",
            "469/469 [==============================] - 3s 5ms/step - loss: 0.2251 - val_loss: 0.2246\n",
            "Epoch 43/100\n",
            "469/469 [==============================] - 3s 5ms/step - loss: 0.2241 - val_loss: 0.2237\n",
            "Epoch 44/100\n",
            "469/469 [==============================] - 2s 5ms/step - loss: 0.2233 - val_loss: 0.2228\n",
            "Epoch 45/100\n",
            "469/469 [==============================] - 3s 5ms/step - loss: 0.2224 - val_loss: 0.2220\n",
            "Epoch 46/100\n",
            "469/469 [==============================] - 3s 5ms/step - loss: 0.2216 - val_loss: 0.2212\n",
            "Epoch 47/100\n",
            "469/469 [==============================] - 2s 5ms/step - loss: 0.2208 - val_loss: 0.2204\n",
            "Epoch 48/100\n",
            "469/469 [==============================] - 2s 5ms/step - loss: 0.2200 - val_loss: 0.2196\n",
            "Epoch 49/100\n",
            "469/469 [==============================] - 2s 5ms/step - loss: 0.2193 - val_loss: 0.2189\n",
            "Epoch 50/100\n",
            "469/469 [==============================] - 3s 5ms/step - loss: 0.2186 - val_loss: 0.2182\n",
            "Epoch 51/100\n",
            "469/469 [==============================] - 3s 5ms/step - loss: 0.2179 - val_loss: 0.2175\n",
            "Epoch 52/100\n",
            "469/469 [==============================] - 3s 5ms/step - loss: 0.2172 - val_loss: 0.2168\n",
            "Epoch 53/100\n",
            "469/469 [==============================] - 3s 5ms/step - loss: 0.2165 - val_loss: 0.2161\n",
            "Epoch 54/100\n",
            "469/469 [==============================] - 2s 5ms/step - loss: 0.2159 - val_loss: 0.2155\n",
            "Epoch 55/100\n",
            "469/469 [==============================] - 2s 5ms/step - loss: 0.2153 - val_loss: 0.2149\n",
            "Epoch 56/100\n",
            "469/469 [==============================] - 3s 5ms/step - loss: 0.2147 - val_loss: 0.2143\n",
            "Epoch 57/100\n",
            "469/469 [==============================] - 2s 5ms/step - loss: 0.2141 - val_loss: 0.2137\n",
            "Epoch 58/100\n",
            "469/469 [==============================] - 3s 5ms/step - loss: 0.2135 - val_loss: 0.2131\n",
            "Epoch 59/100\n",
            "469/469 [==============================] - 2s 5ms/step - loss: 0.2130 - val_loss: 0.2126\n",
            "Epoch 60/100\n",
            "469/469 [==============================] - 3s 5ms/step - loss: 0.2124 - val_loss: 0.2121\n",
            "Epoch 61/100\n",
            "469/469 [==============================] - 3s 5ms/step - loss: 0.2119 - val_loss: 0.2116\n",
            "Epoch 62/100\n",
            "469/469 [==============================] - 2s 5ms/step - loss: 0.2114 - val_loss: 0.2111\n",
            "Epoch 63/100\n",
            "469/469 [==============================] - 3s 5ms/step - loss: 0.2109 - val_loss: 0.2106\n",
            "Epoch 64/100\n",
            "469/469 [==============================] - 3s 5ms/step - loss: 0.2105 - val_loss: 0.2101\n",
            "Epoch 65/100\n",
            "469/469 [==============================] - 3s 5ms/step - loss: 0.2100 - val_loss: 0.2097\n",
            "Epoch 66/100\n",
            "469/469 [==============================] - 3s 5ms/step - loss: 0.2096 - val_loss: 0.2092\n",
            "Epoch 67/100\n",
            "469/469 [==============================] - 3s 5ms/step - loss: 0.2091 - val_loss: 0.2088\n",
            "Epoch 68/100\n",
            "469/469 [==============================] - 3s 5ms/step - loss: 0.2087 - val_loss: 0.2083\n",
            "Epoch 69/100\n",
            "469/469 [==============================] - 2s 5ms/step - loss: 0.2082 - val_loss: 0.2079\n",
            "Epoch 70/100\n",
            "469/469 [==============================] - 2s 5ms/step - loss: 0.2078 - val_loss: 0.2075\n",
            "Epoch 71/100\n",
            "469/469 [==============================] - 3s 5ms/step - loss: 0.2074 - val_loss: 0.2071\n",
            "Epoch 72/100\n",
            "469/469 [==============================] - 2s 5ms/step - loss: 0.2070 - val_loss: 0.2066\n",
            "Epoch 73/100\n",
            "469/469 [==============================] - 2s 5ms/step - loss: 0.2066 - val_loss: 0.2062\n",
            "Epoch 74/100\n",
            "469/469 [==============================] - 3s 5ms/step - loss: 0.2062 - val_loss: 0.2058\n",
            "Epoch 75/100\n",
            "469/469 [==============================] - 3s 5ms/step - loss: 0.2058 - val_loss: 0.2054\n",
            "Epoch 76/100\n",
            "469/469 [==============================] - 3s 6ms/step - loss: 0.2054 - val_loss: 0.2050\n",
            "Epoch 77/100\n",
            "469/469 [==============================] - 3s 6ms/step - loss: 0.2050 - val_loss: 0.2046\n",
            "Epoch 78/100\n",
            "469/469 [==============================] - 2s 5ms/step - loss: 0.2046 - val_loss: 0.2043\n",
            "Epoch 79/100\n",
            "469/469 [==============================] - 2s 5ms/step - loss: 0.2043 - val_loss: 0.2039\n",
            "Epoch 80/100\n",
            "469/469 [==============================] - 3s 5ms/step - loss: 0.2039 - val_loss: 0.2035\n",
            "Epoch 81/100\n",
            "469/469 [==============================] - 3s 5ms/step - loss: 0.2035 - val_loss: 0.2032\n",
            "Epoch 82/100\n",
            "469/469 [==============================] - 2s 5ms/step - loss: 0.2032 - val_loss: 0.2028\n",
            "Epoch 83/100\n",
            "469/469 [==============================] - 2s 5ms/step - loss: 0.2028 - val_loss: 0.2024\n",
            "Epoch 84/100\n",
            "469/469 [==============================] - 3s 5ms/step - loss: 0.2025 - val_loss: 0.2021\n",
            "Epoch 85/100\n",
            "469/469 [==============================] - 2s 5ms/step - loss: 0.2021 - val_loss: 0.2017\n",
            "Epoch 86/100\n",
            "469/469 [==============================] - 3s 5ms/step - loss: 0.2018 - val_loss: 0.2014\n",
            "Epoch 87/100\n",
            "469/469 [==============================] - 2s 5ms/step - loss: 0.2014 - val_loss: 0.2011\n",
            "Epoch 88/100\n",
            "469/469 [==============================] - 3s 5ms/step - loss: 0.2011 - val_loss: 0.2007\n",
            "Epoch 89/100\n",
            "469/469 [==============================] - 2s 5ms/step - loss: 0.2008 - val_loss: 0.2004\n",
            "Epoch 90/100\n",
            "469/469 [==============================] - 3s 5ms/step - loss: 0.2004 - val_loss: 0.2001\n",
            "Epoch 91/100\n",
            "469/469 [==============================] - 2s 5ms/step - loss: 0.2001 - val_loss: 0.1997\n",
            "Epoch 92/100\n",
            "469/469 [==============================] - 2s 5ms/step - loss: 0.1998 - val_loss: 0.1994\n",
            "Epoch 93/100\n",
            "469/469 [==============================] - 3s 5ms/step - loss: 0.1995 - val_loss: 0.1991\n",
            "Epoch 94/100\n",
            "469/469 [==============================] - 2s 5ms/step - loss: 0.1992 - val_loss: 0.1988\n",
            "Epoch 95/100\n",
            "469/469 [==============================] - 2s 5ms/step - loss: 0.1989 - val_loss: 0.1985\n",
            "Epoch 96/100\n",
            "469/469 [==============================] - 3s 5ms/step - loss: 0.1986 - val_loss: 0.1982\n",
            "Epoch 97/100\n",
            "469/469 [==============================] - 3s 5ms/step - loss: 0.1982 - val_loss: 0.1979\n",
            "Epoch 98/100\n",
            "469/469 [==============================] - 3s 5ms/step - loss: 0.1979 - val_loss: 0.1975\n",
            "Epoch 99/100\n",
            "469/469 [==============================] - 3s 5ms/step - loss: 0.1976 - val_loss: 0.1972\n",
            "Epoch 100/100\n",
            "469/469 [==============================] - 3s 5ms/step - loss: 0.1973 - val_loss: 0.1969\n"
          ],
          "name": "stdout"
        },
        {
          "output_type": "execute_result",
          "data": {
            "text/plain": [
              "<tensorflow.python.keras.callbacks.History at 0x7f072c53b240>"
            ]
          },
          "metadata": {
            "tags": []
          },
          "execution_count": 53
        }
      ]
    },
    {
      "cell_type": "code",
      "metadata": {
        "id": "IT5OtdAjhUs_",
        "colab_type": "code",
        "outputId": "3b2673b5-47e3-4ed5-89f5-3027ce38c3b3",
        "colab": {
          "base_uri": "https://localhost:8080/",
          "height": 248
        }
      },
      "source": [
        "# Generating the predictions from the test set\n",
        "decoded_imgs = autoencoder.predict(x_test)\n",
        "\n",
        "n = 10\n",
        "plt.figure(figsize=(20, 4))\n",
        "for i in range(n):\n",
        "    # display original\n",
        "    ax = plt.subplot(2, n, i+1)\n",
        "    plt.imshow(x_test[i].reshape(28, 28))\n",
        "    plt.gray()\n",
        "    ax.get_xaxis().set_visible(False)\n",
        "    ax.get_yaxis().set_visible(False)\n",
        "\n",
        "    # display reconstruction\n",
        "    ax = plt.subplot(2, n, i + 1 + n)\n",
        "    plt.imshow(decoded_imgs[i].reshape(28, 28))\n",
        "    plt.gray()\n",
        "    ax.get_xaxis().set_visible(False)\n",
        "    ax.get_yaxis().set_visible(False)\n",
        "plt.show()"
      ],
      "execution_count": 0,
      "outputs": [
        {
          "output_type": "display_data",
          "data": {
            "image/png": "[encoded data removed]",
            "text/plain": [
              "<Figure size 1440x288 with 20 Axes>"
            ]
          },
          "metadata": {
            "tags": [],
            "needs_background": "light"
          }
        }
      ]
    },
    {
      "cell_type": "markdown",
      "metadata": {
        "id": "nYaEVgcKS1hw",
        "colab_type": "text"
      },
      "source": [
        "## **CNN MODEL VARIATIONS**"
      ]
    },
    {
      "cell_type": "code",
      "metadata": {
        "id": "MKBJcQ80Bii8",
        "colab_type": "code",
        "colab": {}
      },
      "source": [
        "#################################################################################################\n",
        "#########                      CNN BASE MODEL Variations                                 ########\n",
        "#################################################################################################\n",
        "\n",
        "\n",
        "input_img = tf.keras.layers.Input(shape=(28, 28, 1))\n",
        "\n",
        "# The encoder contains 4 convolutional and 4 max pooling layers\n",
        "x = tf.keras.layers.Conv2D(32, (5, 5), activation='relu', padding='same')(input_img)\n",
        "x = tf.keras.layers.MaxPooling2D((2, 2), padding='same')(x)\n",
        "x = tf.keras.layers.Conv2D(16, (5, 5), activation='relu', padding='same')(x)\n",
        "x = tf.keras.layers.MaxPooling2D((2, 2), padding='same')(x)\n",
        "x = tf.keras.layers.Conv2D(8, (5, 5), activation='relu', padding='same')(x)\n",
        "x = tf.keras.layers.MaxPooling2D((2, 2), padding='same')(x)\n",
        "x = tf.keras.layers.Conv2D(8, (5, 5), activation='relu', padding='same')(x)\n",
        "encoded = tf.keras.layers.MaxPooling2D((2, 2), padding='same')(x)\n",
        "\n",
        "# The decoder contains 4 convolutional and 4 up sampling layers\n",
        "x = tf.keras.layers.Conv2D(8, (5, 5), activation='relu', padding='same')(encoded)\n",
        "x = tf.keras.layers.UpSampling2D((2, 2))(x)\n",
        "x = tf.keras.layers.Conv2D(8, (5, 5), activation='relu', padding='same')(x)\n",
        "x = tf.keras.layers.UpSampling2D((2, 2))(x)\n",
        "x = tf.keras.layers.Conv2D(8, (5, 5), activation='relu', padding='same')(x)\n",
        "x = tf.keras.layers.UpSampling2D((2, 2))(x)\n",
        "x = tf.keras.layers.Conv2D(16, (3, 3), activation='relu')(x)\n",
        "x = tf.keras.layers.UpSampling2D((2, 2))(x)\n",
        "decoded = tf.keras.layers.Conv2D(1, (5, 5), activation='sigmoid', padding='same')(x)\n",
        "\n",
        "autoencoder = tf.keras.models.Model(input_img, decoded)\n",
        "autoencoder.compile(optimizer='SGD', loss='binary_crossentropy')"
      ],
      "execution_count": 0,
      "outputs": []
    },
    {
      "cell_type": "code",
      "metadata": {
        "id": "T4IVfhYqBiYv",
        "colab_type": "code",
        "colab": {}
      },
      "source": [
        "from tensorflow.keras.datasets import mnist\n",
        "(x_train, _), (x_test, _) = mnist.load_data()\n",
        "\n",
        "x_train = x_train.astype('float32') / 255.\n",
        "x_test = x_test.astype('float32') / 255.\n",
        "x_train = np.reshape(x_train, (len(x_train), 28, 28, 1))\n",
        "x_test = np.reshape(x_test, (len(x_test), 28, 28, 1))"
      ],
      "execution_count": 0,
      "outputs": []
    },
    {
      "cell_type": "code",
      "metadata": {
        "id": "8NIWZ_9gBiE2",
        "colab_type": "code",
        "outputId": "a9e4560a-ecc9-407c-bcaf-8e1dcd8947ac",
        "colab": {
          "base_uri": "https://localhost:8080/",
          "height": 1000
        }
      },
      "source": [
        "autoencoder.fit(x_train, x_train, epochs=100, batch_size=128, \n",
        "                shuffle=True, validation_data=(x_test, x_test), \n",
        "                callbacks=[tf.keras.callbacks.TensorBoard(log_dir='./tmp/autoencoder')])"
      ],
      "execution_count": 0,
      "outputs": [
        {
          "output_type": "stream",
          "text": [
            "Epoch 1/100\n",
            "469/469 [==============================] - 3s 7ms/step - loss: 0.4063 - val_loss: 0.2939\n",
            "Epoch 2/100\n",
            "469/469 [==============================] - 3s 6ms/step - loss: 0.2750 - val_loss: 0.2664\n",
            "Epoch 3/100\n",
            "469/469 [==============================] - 3s 6ms/step - loss: 0.2634 - val_loss: 0.2604\n",
            "Epoch 4/100\n",
            "469/469 [==============================] - 3s 7ms/step - loss: 0.2584 - val_loss: 0.2558\n",
            "Epoch 5/100\n",
            "469/469 [==============================] - 3s 6ms/step - loss: 0.2539 - val_loss: 0.2514\n",
            "Epoch 6/100\n",
            "469/469 [==============================] - 3s 6ms/step - loss: 0.2495 - val_loss: 0.2468\n",
            "Epoch 7/100\n",
            "469/469 [==============================] - 3s 6ms/step - loss: 0.2440 - val_loss: 0.2400\n",
            "Epoch 8/100\n",
            "469/469 [==============================] - 3s 7ms/step - loss: 0.2358 - val_loss: 0.2317\n",
            "Epoch 9/100\n",
            "469/469 [==============================] - 3s 7ms/step - loss: 0.2295 - val_loss: 0.2269\n",
            "Epoch 10/100\n",
            "469/469 [==============================] - 3s 6ms/step - loss: 0.2262 - val_loss: 0.2252\n",
            "Epoch 11/100\n",
            "469/469 [==============================] - 3s 7ms/step - loss: 0.2226 - val_loss: 0.2191\n",
            "Epoch 12/100\n",
            "469/469 [==============================] - 3s 6ms/step - loss: 0.2181 - val_loss: 0.2177\n",
            "Epoch 13/100\n",
            "469/469 [==============================] - 3s 6ms/step - loss: 0.2131 - val_loss: 0.2131\n",
            "Epoch 14/100\n",
            "469/469 [==============================] - 3s 6ms/step - loss: 0.2084 - val_loss: 0.2060\n",
            "Epoch 15/100\n",
            "469/469 [==============================] - 3s 6ms/step - loss: 0.2043 - val_loss: 0.2020\n",
            "Epoch 16/100\n",
            "469/469 [==============================] - 3s 7ms/step - loss: 0.2009 - val_loss: 0.1992\n",
            "Epoch 17/100\n",
            "469/469 [==============================] - 3s 7ms/step - loss: 0.1980 - val_loss: 0.1962\n",
            "Epoch 18/100\n",
            "469/469 [==============================] - 3s 6ms/step - loss: 0.1953 - val_loss: 0.1926\n",
            "Epoch 19/100\n",
            "469/469 [==============================] - 3s 6ms/step - loss: 0.1929 - val_loss: 0.1901\n",
            "Epoch 20/100\n",
            "469/469 [==============================] - 3s 6ms/step - loss: 0.1903 - val_loss: 0.1876\n",
            "Epoch 21/100\n",
            "469/469 [==============================] - 3s 6ms/step - loss: 0.1881 - val_loss: 0.1839\n",
            "Epoch 22/100\n",
            "469/469 [==============================] - 3s 6ms/step - loss: 0.1857 - val_loss: 0.1857\n",
            "Epoch 23/100\n",
            "469/469 [==============================] - 3s 6ms/step - loss: 0.1835 - val_loss: 0.1825\n",
            "Epoch 24/100\n",
            "469/469 [==============================] - 3s 6ms/step - loss: 0.1818 - val_loss: 0.1777\n",
            "Epoch 25/100\n",
            "469/469 [==============================] - 3s 6ms/step - loss: 0.1796 - val_loss: 0.1767\n",
            "Epoch 26/100\n",
            "469/469 [==============================] - 3s 6ms/step - loss: 0.1778 - val_loss: 0.1756\n",
            "Epoch 27/100\n",
            "469/469 [==============================] - 3s 6ms/step - loss: 0.1759 - val_loss: 0.1742\n",
            "Epoch 28/100\n",
            "469/469 [==============================] - 3s 7ms/step - loss: 0.1741 - val_loss: 0.1762\n",
            "Epoch 29/100\n",
            "469/469 [==============================] - 3s 6ms/step - loss: 0.1725 - val_loss: 0.1718\n",
            "Epoch 30/100\n",
            "469/469 [==============================] - 3s 7ms/step - loss: 0.1709 - val_loss: 0.1696\n",
            "Epoch 31/100\n",
            "469/469 [==============================] - 3s 7ms/step - loss: 0.1695 - val_loss: 0.1684\n",
            "Epoch 32/100\n",
            "469/469 [==============================] - 3s 6ms/step - loss: 0.1681 - val_loss: 0.1654\n",
            "Epoch 33/100\n",
            "469/469 [==============================] - 3s 6ms/step - loss: 0.1662 - val_loss: 0.1632\n",
            "Epoch 34/100\n",
            "469/469 [==============================] - 3s 7ms/step - loss: 0.1652 - val_loss: 0.1622\n",
            "Epoch 35/100\n",
            "469/469 [==============================] - 3s 6ms/step - loss: 0.1636 - val_loss: 0.1627\n",
            "Epoch 36/100\n",
            "469/469 [==============================] - 3s 6ms/step - loss: 0.1623 - val_loss: 0.1639\n",
            "Epoch 37/100\n",
            "469/469 [==============================] - 3s 7ms/step - loss: 0.1615 - val_loss: 0.1586\n",
            "Epoch 38/100\n",
            "469/469 [==============================] - 3s 6ms/step - loss: 0.1603 - val_loss: 0.1682\n",
            "Epoch 39/100\n",
            "469/469 [==============================] - 3s 6ms/step - loss: 0.1593 - val_loss: 0.1562\n",
            "Epoch 40/100\n",
            "469/469 [==============================] - 3s 7ms/step - loss: 0.1585 - val_loss: 0.1544\n",
            "Epoch 41/100\n",
            "469/469 [==============================] - 3s 6ms/step - loss: 0.1573 - val_loss: 0.1531\n",
            "Epoch 42/100\n",
            "469/469 [==============================] - 3s 6ms/step - loss: 0.1567 - val_loss: 0.1533\n",
            "Epoch 43/100\n",
            "469/469 [==============================] - 3s 7ms/step - loss: 0.1557 - val_loss: 0.1527\n",
            "Epoch 44/100\n",
            "469/469 [==============================] - 3s 7ms/step - loss: 0.1550 - val_loss: 0.1519\n",
            "Epoch 45/100\n",
            "469/469 [==============================] - 3s 7ms/step - loss: 0.1541 - val_loss: 0.1526\n",
            "Epoch 46/100\n",
            "469/469 [==============================] - 3s 7ms/step - loss: 0.1535 - val_loss: 0.1498\n",
            "Epoch 47/100\n",
            "469/469 [==============================] - 3s 6ms/step - loss: 0.1526 - val_loss: 0.1498\n",
            "Epoch 48/100\n",
            "469/469 [==============================] - 3s 6ms/step - loss: 0.1521 - val_loss: 0.1539\n",
            "Epoch 49/100\n",
            "469/469 [==============================] - 3s 6ms/step - loss: 0.1512 - val_loss: 0.1488\n",
            "Epoch 50/100\n",
            "469/469 [==============================] - 3s 6ms/step - loss: 0.1508 - val_loss: 0.1477\n",
            "Epoch 51/100\n",
            "469/469 [==============================] - 3s 6ms/step - loss: 0.1500 - val_loss: 0.1469\n",
            "Epoch 52/100\n",
            "469/469 [==============================] - 3s 6ms/step - loss: 0.1497 - val_loss: 0.1457\n",
            "Epoch 53/100\n",
            "469/469 [==============================] - 3s 6ms/step - loss: 0.1488 - val_loss: 0.1498\n",
            "Epoch 54/100\n",
            "469/469 [==============================] - 3s 7ms/step - loss: 0.1480 - val_loss: 0.1478\n",
            "Epoch 55/100\n",
            "469/469 [==============================] - 3s 7ms/step - loss: 0.1477 - val_loss: 0.1452\n",
            "Epoch 56/100\n",
            "469/469 [==============================] - 3s 6ms/step - loss: 0.1471 - val_loss: 0.1454\n",
            "Epoch 57/100\n",
            "469/469 [==============================] - 3s 6ms/step - loss: 0.1466 - val_loss: 0.1439\n",
            "Epoch 58/100\n",
            "469/469 [==============================] - 3s 6ms/step - loss: 0.1462 - val_loss: 0.1464\n",
            "Epoch 59/100\n",
            "469/469 [==============================] - 3s 6ms/step - loss: 0.1452 - val_loss: 0.1451\n",
            "Epoch 60/100\n",
            "469/469 [==============================] - 3s 6ms/step - loss: 0.1449 - val_loss: 0.1417\n",
            "Epoch 61/100\n",
            "469/469 [==============================] - 3s 6ms/step - loss: 0.1445 - val_loss: 0.1442\n",
            "Epoch 62/100\n",
            "469/469 [==============================] - 3s 6ms/step - loss: 0.1439 - val_loss: 0.1449\n",
            "Epoch 63/100\n",
            "469/469 [==============================] - 3s 6ms/step - loss: 0.1433 - val_loss: 0.1409\n",
            "Epoch 64/100\n",
            "469/469 [==============================] - 3s 6ms/step - loss: 0.1427 - val_loss: 0.1403\n",
            "Epoch 65/100\n",
            "469/469 [==============================] - 3s 6ms/step - loss: 0.1424 - val_loss: 0.1400\n",
            "Epoch 66/100\n",
            "469/469 [==============================] - 3s 7ms/step - loss: 0.1420 - val_loss: 0.1381\n",
            "Epoch 67/100\n",
            "469/469 [==============================] - 3s 7ms/step - loss: 0.1413 - val_loss: 0.1453\n",
            "Epoch 68/100\n",
            "469/469 [==============================] - 3s 7ms/step - loss: 0.1410 - val_loss: 0.1429\n",
            "Epoch 69/100\n",
            "469/469 [==============================] - 3s 7ms/step - loss: 0.1405 - val_loss: 0.1367\n",
            "Epoch 70/100\n",
            "469/469 [==============================] - 3s 7ms/step - loss: 0.1399 - val_loss: 0.1425\n",
            "Epoch 71/100\n",
            "469/469 [==============================] - 3s 7ms/step - loss: 0.1396 - val_loss: 0.1378\n",
            "Epoch 72/100\n",
            "469/469 [==============================] - 3s 7ms/step - loss: 0.1389 - val_loss: 0.1367\n",
            "Epoch 73/100\n",
            "469/469 [==============================] - 3s 7ms/step - loss: 0.1388 - val_loss: 0.1358\n",
            "Epoch 74/100\n",
            "469/469 [==============================] - 3s 7ms/step - loss: 0.1382 - val_loss: 0.1356\n",
            "Epoch 75/100\n",
            "469/469 [==============================] - 3s 7ms/step - loss: 0.1377 - val_loss: 0.1342\n",
            "Epoch 76/100\n",
            "469/469 [==============================] - 3s 7ms/step - loss: 0.1374 - val_loss: 0.1355\n",
            "Epoch 77/100\n",
            "469/469 [==============================] - 3s 7ms/step - loss: 0.1369 - val_loss: 0.1332\n",
            "Epoch 78/100\n",
            "469/469 [==============================] - 3s 7ms/step - loss: 0.1365 - val_loss: 0.1358\n",
            "Epoch 79/100\n",
            "469/469 [==============================] - 3s 7ms/step - loss: 0.1363 - val_loss: 0.1369\n",
            "Epoch 80/100\n",
            "469/469 [==============================] - 3s 7ms/step - loss: 0.1358 - val_loss: 0.1332\n",
            "Epoch 81/100\n",
            "469/469 [==============================] - 3s 7ms/step - loss: 0.1353 - val_loss: 0.1328\n",
            "Epoch 82/100\n",
            "469/469 [==============================] - 3s 7ms/step - loss: 0.1349 - val_loss: 0.1332\n",
            "Epoch 83/100\n",
            "469/469 [==============================] - 3s 6ms/step - loss: 0.1346 - val_loss: 0.1346\n",
            "Epoch 84/100\n",
            "469/469 [==============================] - 3s 7ms/step - loss: 0.1343 - val_loss: 0.1343\n",
            "Epoch 85/100\n",
            "469/469 [==============================] - 3s 7ms/step - loss: 0.1341 - val_loss: 0.1374\n",
            "Epoch 86/100\n",
            "469/469 [==============================] - 3s 7ms/step - loss: 0.1334 - val_loss: 0.1350\n",
            "Epoch 87/100\n",
            "469/469 [==============================] - 3s 6ms/step - loss: 0.1334 - val_loss: 0.1301\n",
            "Epoch 88/100\n",
            "469/469 [==============================] - 3s 6ms/step - loss: 0.1329 - val_loss: 0.1308\n",
            "Epoch 89/100\n",
            "469/469 [==============================] - 3s 6ms/step - loss: 0.1326 - val_loss: 0.1292\n",
            "Epoch 90/100\n",
            "469/469 [==============================] - 3s 6ms/step - loss: 0.1321 - val_loss: 0.1316\n",
            "Epoch 91/100\n",
            "469/469 [==============================] - 3s 7ms/step - loss: 0.1322 - val_loss: 0.1308\n",
            "Epoch 92/100\n",
            "469/469 [==============================] - 3s 7ms/step - loss: 0.1317 - val_loss: 0.1303\n",
            "Epoch 93/100\n",
            "469/469 [==============================] - 3s 7ms/step - loss: 0.1315 - val_loss: 0.1305\n",
            "Epoch 94/100\n",
            "469/469 [==============================] - 3s 7ms/step - loss: 0.1312 - val_loss: 0.1282\n",
            "Epoch 95/100\n",
            "469/469 [==============================] - 3s 6ms/step - loss: 0.1307 - val_loss: 0.1283\n",
            "Epoch 96/100\n",
            "469/469 [==============================] - 3s 6ms/step - loss: 0.1308 - val_loss: 0.1280\n",
            "Epoch 97/100\n",
            "469/469 [==============================] - 3s 7ms/step - loss: 0.1306 - val_loss: 0.1294\n",
            "Epoch 98/100\n",
            "469/469 [==============================] - 3s 6ms/step - loss: 0.1301 - val_loss: 0.1289\n",
            "Epoch 99/100\n",
            "469/469 [==============================] - 3s 6ms/step - loss: 0.1299 - val_loss: 0.1267\n",
            "Epoch 100/100\n",
            "469/469 [==============================] - 3s 6ms/step - loss: 0.1296 - val_loss: 0.1293\n"
          ],
          "name": "stdout"
        },
        {
          "output_type": "execute_result",
          "data": {
            "text/plain": [
              "<tensorflow.python.keras.callbacks.History at 0x7f072c22ab00>"
            ]
          },
          "metadata": {
            "tags": []
          },
          "execution_count": 57
        }
      ]
    },
    {
      "cell_type": "code",
      "metadata": {
        "id": "oo_LvT1ID7TT",
        "colab_type": "code",
        "outputId": "3468eb70-81bf-40d4-b289-d2f690bbe4d9",
        "colab": {
          "base_uri": "https://localhost:8080/",
          "height": 248
        }
      },
      "source": [
        "decoded_imgs = autoencoder.predict(x_test)\n",
        "\n",
        "n = 10\n",
        "plt.figure(figsize=(20, 4))\n",
        "for i in range(n):\n",
        "    # display original\n",
        "    ax = plt.subplot(2, n, i+1)\n",
        "    plt.imshow(x_test[i].reshape(28, 28))\n",
        "    plt.gray()\n",
        "    ax.get_xaxis().set_visible(False)\n",
        "    ax.get_yaxis().set_visible(False)\n",
        "\n",
        "    # display reconstruction\n",
        "    ax = plt.subplot(2, n, i + 1 + n)\n",
        "    plt.imshow(decoded_imgs[i].reshape(28, 28))\n",
        "    plt.gray()\n",
        "    ax.get_xaxis().set_visible(False)\n",
        "    ax.get_yaxis().set_visible(False)\n",
        "plt.show()"
      ],
      "execution_count": 0,
      "outputs": [
        {
          "output_type": "display_data",
          "data": {
            "image/png": "[encoded data removed]",
            "text/plain": [
              "<Figure size 1440x288 with 20 Axes>"
            ]
          },
          "metadata": {
            "tags": [],
            "needs_background": "light"
          }
        }
      ]
    },
    {
      "cell_type": "markdown",
      "metadata": {
        "id": "ikSlkN52S76_",
        "colab_type": "text"
      },
      "source": [
        "## **CNN MODEL OPTIMIZED**"
      ]
    },
    {
      "cell_type": "code",
      "metadata": {
        "id": "olHGp8NdhUvy",
        "colab_type": "code",
        "colab": {}
      },
      "source": [
        "#################################################################################################\n",
        "#########                        CNN MODEL OPTIMIZED                                     ########\n",
        "#################################################################################################\n",
        "\n",
        "input_img = tf.keras.layers.Input(shape=(28, 28, 1))\n",
        "\n",
        "# The encoder contains 3 convolutional, 2 max pooling layers, dense layer and batch normalization after every convolutional layer \n",
        "x = tf.keras.layers.Conv2D(16, (5, 5), activation='relu', padding='same')(input_img)\n",
        "x = tf.keras.layers.BatchNormalization()(x)\n",
        "x = tf.keras.layers.MaxPooling2D((2, 2), padding='same')(x)\n",
        "x = tf.keras.layers.Conv2D(8, (5, 5), activation='relu', padding='same')(x)\n",
        "x = tf.keras.layers.BatchNormalization()(x)\n",
        "x = tf.keras.layers.Conv2D(8, (5, 5), activation='relu', padding='same')(x)\n",
        "x = tf.keras.layers.BatchNormalization()(x)\n",
        "x = tf.keras.layers.Dense(units = 16, activation='relu')(x)\n",
        "encoded = tf.keras.layers.MaxPooling2D((2, 2), padding='same')(x)\n",
        "\n",
        "# The decoder contains 3 convolutional, 2 up sampling layers, dense layer and batch normalization after every convolutional layer \n",
        "x = tf.keras.layers.Conv2D(8, (5, 5), activation='relu', padding='same')(encoded)\n",
        "x = tf.keras.layers.BatchNormalization()(x)\n",
        "x = tf.keras.layers.UpSampling2D((2, 2))(x)\n",
        "x = tf.keras.layers.Conv2D(8, (5, 5), activation='relu', padding='same')(x)\n",
        "x = tf.keras.layers.BatchNormalization()(x)\n",
        "x = tf.keras.layers.Conv2D(16, (3, 3), activation='relu',padding = 'same')(x)\n",
        "x = tf.keras.layers.BatchNormalization()(x)\n",
        "x = tf.keras.layers.UpSampling2D((2, 2))(x)\n",
        "x = tf.keras.layers.Dense(units = 16, activation='relu')(x)\n",
        "decoded = tf.keras.layers.Conv2D(1, (3, 3), activation='sigmoid', padding='same')(x)\n",
        "\n",
        "autoencoder = tf.keras.models.Model(input_img, decoded)\n",
        "optimizer = tf.keras.optimizers.Adam(lr=0.001)\n",
        "autoencoder.compile(optimizer=optimizer, loss='binary_crossentropy')"
      ],
      "execution_count": 0,
      "outputs": []
    },
    {
      "cell_type": "code",
      "metadata": {
        "id": "_QYzB0i4hUyw",
        "colab_type": "code",
        "colab": {}
      },
      "source": [
        "from tensorflow.keras.datasets import mnist\n",
        "(x_train, _), (x_test, _) = mnist.load_data()\n",
        "\n",
        "x_train = x_train.astype('float32') / 255.\n",
        "x_test = x_test.astype('float32') / 255.\n",
        "x_train = np.reshape(x_train, (len(x_train), 28, 28, 1))\n",
        "x_test = np.reshape(x_test, (len(x_test), 28, 28, 1))"
      ],
      "execution_count": 0,
      "outputs": []
    },
    {
      "cell_type": "code",
      "metadata": {
        "id": "jSdRyahfhU4V",
        "colab_type": "code",
        "outputId": "b6dd4bb9-4efb-4771-ecd6-0fd6b2030b4d",
        "colab": {
          "base_uri": "https://localhost:8080/",
          "height": 1000
        }
      },
      "source": [
        "autoencoder.fit(x_train, x_train, epochs=100, batch_size=128, \n",
        "                shuffle=True, validation_data=(x_test, x_test), \n",
        "                callbacks=[tf.keras.callbacks.TensorBoard(log_dir='./tmp/autoencoder')])"
      ],
      "execution_count": 0,
      "outputs": [
        {
          "output_type": "stream",
          "text": [
            "Epoch 1/100\n",
            "469/469 [==============================] - 5s 10ms/step - loss: 0.1175 - val_loss: 0.0855\n",
            "Epoch 2/100\n",
            "469/469 [==============================] - 4s 9ms/step - loss: 0.0779 - val_loss: 0.0802\n",
            "Epoch 3/100\n",
            "469/469 [==============================] - 4s 9ms/step - loss: 0.0740 - val_loss: 0.0750\n",
            "Epoch 4/100\n",
            "469/469 [==============================] - 4s 9ms/step - loss: 0.0721 - val_loss: 0.0733\n",
            "Epoch 5/100\n",
            "469/469 [==============================] - 4s 9ms/step - loss: 0.0710 - val_loss: 0.0699\n",
            "Epoch 6/100\n",
            "469/469 [==============================] - 4s 9ms/step - loss: 0.0702 - val_loss: 0.0691\n",
            "Epoch 7/100\n",
            "469/469 [==============================] - 4s 9ms/step - loss: 0.0696 - val_loss: 0.0685\n",
            "Epoch 8/100\n",
            "469/469 [==============================] - 4s 9ms/step - loss: 0.0692 - val_loss: 0.0691\n",
            "Epoch 9/100\n",
            "469/469 [==============================] - 4s 9ms/step - loss: 0.0687 - val_loss: 0.0679\n",
            "Epoch 10/100\n",
            "469/469 [==============================] - 4s 9ms/step - loss: 0.0685 - val_loss: 0.0682\n",
            "Epoch 11/100\n",
            "469/469 [==============================] - 4s 9ms/step - loss: 0.0682 - val_loss: 0.0677\n",
            "Epoch 12/100\n",
            "469/469 [==============================] - 4s 9ms/step - loss: 0.0680 - val_loss: 0.0677\n",
            "Epoch 13/100\n",
            "469/469 [==============================] - 4s 9ms/step - loss: 0.0677 - val_loss: 0.0669\n",
            "Epoch 14/100\n",
            "469/469 [==============================] - 4s 9ms/step - loss: 0.0675 - val_loss: 0.0667\n",
            "Epoch 15/100\n",
            "469/469 [==============================] - 4s 9ms/step - loss: 0.0673 - val_loss: 0.0667\n",
            "Epoch 16/100\n",
            "469/469 [==============================] - 4s 9ms/step - loss: 0.0672 - val_loss: 0.0665\n",
            "Epoch 17/100\n",
            "469/469 [==============================] - 4s 9ms/step - loss: 0.0670 - val_loss: 0.0679\n",
            "Epoch 18/100\n",
            "469/469 [==============================] - 4s 9ms/step - loss: 0.0669 - val_loss: 0.0668\n",
            "Epoch 19/100\n",
            "469/469 [==============================] - 4s 9ms/step - loss: 0.0668 - val_loss: 0.0664\n",
            "Epoch 20/100\n",
            "469/469 [==============================] - 4s 9ms/step - loss: 0.0666 - val_loss: 0.0660\n",
            "Epoch 21/100\n",
            "469/469 [==============================] - 4s 9ms/step - loss: 0.0666 - val_loss: 0.0685\n",
            "Epoch 22/100\n",
            "469/469 [==============================] - 4s 9ms/step - loss: 0.0665 - val_loss: 0.0658\n",
            "Epoch 23/100\n",
            "469/469 [==============================] - 4s 9ms/step - loss: 0.0664 - val_loss: 0.0658\n",
            "Epoch 24/100\n",
            "469/469 [==============================] - 4s 9ms/step - loss: 0.0663 - val_loss: 0.0661\n",
            "Epoch 25/100\n",
            "469/469 [==============================] - 4s 9ms/step - loss: 0.0662 - val_loss: 0.0655\n",
            "Epoch 26/100\n",
            "469/469 [==============================] - 4s 9ms/step - loss: 0.0661 - val_loss: 0.0654\n",
            "Epoch 27/100\n",
            "469/469 [==============================] - 4s 9ms/step - loss: 0.0661 - val_loss: 0.0659\n",
            "Epoch 28/100\n",
            "469/469 [==============================] - 4s 9ms/step - loss: 0.0660 - val_loss: 0.0654\n",
            "Epoch 29/100\n",
            "469/469 [==============================] - 4s 9ms/step - loss: 0.0659 - val_loss: 0.0654\n",
            "Epoch 30/100\n",
            "469/469 [==============================] - 4s 9ms/step - loss: 0.0659 - val_loss: 0.0674\n",
            "Epoch 31/100\n",
            "469/469 [==============================] - 4s 9ms/step - loss: 0.0658 - val_loss: 0.0666\n",
            "Epoch 32/100\n",
            "469/469 [==============================] - 4s 9ms/step - loss: 0.0657 - val_loss: 0.0659\n",
            "Epoch 33/100\n",
            "469/469 [==============================] - 4s 9ms/step - loss: 0.0657 - val_loss: 0.0651\n",
            "Epoch 34/100\n",
            "469/469 [==============================] - 4s 9ms/step - loss: 0.0657 - val_loss: 0.0677\n",
            "Epoch 35/100\n",
            "469/469 [==============================] - 4s 9ms/step - loss: 0.0656 - val_loss: 0.0649\n",
            "Epoch 36/100\n",
            "469/469 [==============================] - 4s 9ms/step - loss: 0.0656 - val_loss: 0.0650\n",
            "Epoch 37/100\n",
            "469/469 [==============================] - 4s 9ms/step - loss: 0.0655 - val_loss: 0.0652\n",
            "Epoch 38/100\n",
            "469/469 [==============================] - 4s 9ms/step - loss: 0.0655 - val_loss: 0.0649\n",
            "Epoch 39/100\n",
            "469/469 [==============================] - 4s 9ms/step - loss: 0.0654 - val_loss: 0.0650\n",
            "Epoch 40/100\n",
            "469/469 [==============================] - 4s 9ms/step - loss: 0.0654 - val_loss: 0.0649\n",
            "Epoch 41/100\n",
            "469/469 [==============================] - 4s 9ms/step - loss: 0.0653 - val_loss: 0.0654\n",
            "Epoch 42/100\n",
            "469/469 [==============================] - 4s 9ms/step - loss: 0.0653 - val_loss: 0.0649\n",
            "Epoch 43/100\n",
            "469/469 [==============================] - 4s 9ms/step - loss: 0.0653 - val_loss: 0.0654\n",
            "Epoch 44/100\n",
            "469/469 [==============================] - 4s 9ms/step - loss: 0.0653 - val_loss: 0.0647\n",
            "Epoch 45/100\n",
            "469/469 [==============================] - 4s 9ms/step - loss: 0.0652 - val_loss: 0.0649\n",
            "Epoch 46/100\n",
            "469/469 [==============================] - 4s 9ms/step - loss: 0.0652 - val_loss: 0.0648\n",
            "Epoch 47/100\n",
            "469/469 [==============================] - 4s 9ms/step - loss: 0.0652 - val_loss: 0.0646\n",
            "Epoch 48/100\n",
            "469/469 [==============================] - 4s 9ms/step - loss: 0.0651 - val_loss: 0.0647\n",
            "Epoch 49/100\n",
            "469/469 [==============================] - 4s 9ms/step - loss: 0.0651 - val_loss: 0.0646\n",
            "Epoch 50/100\n",
            "469/469 [==============================] - 4s 9ms/step - loss: 0.0651 - val_loss: 0.0646\n",
            "Epoch 51/100\n",
            "469/469 [==============================] - 4s 9ms/step - loss: 0.0651 - val_loss: 0.0647\n",
            "Epoch 52/100\n",
            "469/469 [==============================] - 4s 9ms/step - loss: 0.0650 - val_loss: 0.0670\n",
            "Epoch 53/100\n",
            "469/469 [==============================] - 4s 9ms/step - loss: 0.0650 - val_loss: 0.0645\n",
            "Epoch 54/100\n",
            "469/469 [==============================] - 4s 9ms/step - loss: 0.0650 - val_loss: 0.0649\n",
            "Epoch 55/100\n",
            "469/469 [==============================] - 4s 9ms/step - loss: 0.0650 - val_loss: 0.0647\n",
            "Epoch 56/100\n",
            "469/469 [==============================] - 4s 9ms/step - loss: 0.0649 - val_loss: 0.0649\n",
            "Epoch 57/100\n",
            "469/469 [==============================] - 4s 9ms/step - loss: 0.0649 - val_loss: 0.0646\n",
            "Epoch 58/100\n",
            "469/469 [==============================] - 4s 9ms/step - loss: 0.0649 - val_loss: 0.0646\n",
            "Epoch 59/100\n",
            "469/469 [==============================] - 4s 9ms/step - loss: 0.0649 - val_loss: 0.0649\n",
            "Epoch 60/100\n",
            "469/469 [==============================] - 4s 9ms/step - loss: 0.0649 - val_loss: 0.0643\n",
            "Epoch 61/100\n",
            "469/469 [==============================] - 4s 9ms/step - loss: 0.0648 - val_loss: 0.0645\n",
            "Epoch 62/100\n",
            "469/469 [==============================] - 4s 9ms/step - loss: 0.0649 - val_loss: 0.0644\n",
            "Epoch 63/100\n",
            "469/469 [==============================] - 4s 9ms/step - loss: 0.0648 - val_loss: 0.0645\n",
            "Epoch 64/100\n",
            "469/469 [==============================] - 4s 9ms/step - loss: 0.0648 - val_loss: 0.0645\n",
            "Epoch 65/100\n",
            "469/469 [==============================] - 4s 9ms/step - loss: 0.0648 - val_loss: 0.0643\n",
            "Epoch 66/100\n",
            "469/469 [==============================] - 4s 9ms/step - loss: 0.0648 - val_loss: 0.0644\n",
            "Epoch 67/100\n",
            "469/469 [==============================] - 4s 9ms/step - loss: 0.0648 - val_loss: 0.0646\n",
            "Epoch 68/100\n",
            "469/469 [==============================] - 4s 9ms/step - loss: 0.0647 - val_loss: 0.0646\n",
            "Epoch 69/100\n",
            "469/469 [==============================] - 4s 9ms/step - loss: 0.0647 - val_loss: 0.0642\n",
            "Epoch 70/100\n",
            "469/469 [==============================] - 4s 9ms/step - loss: 0.0647 - val_loss: 0.0643\n",
            "Epoch 71/100\n",
            "469/469 [==============================] - 4s 9ms/step - loss: 0.0647 - val_loss: 0.0641\n",
            "Epoch 72/100\n",
            "469/469 [==============================] - 4s 9ms/step - loss: 0.0647 - val_loss: 0.0643\n",
            "Epoch 73/100\n",
            "469/469 [==============================] - 4s 9ms/step - loss: 0.0646 - val_loss: 0.0647\n",
            "Epoch 74/100\n",
            "469/469 [==============================] - 4s 9ms/step - loss: 0.0647 - val_loss: 0.0641\n",
            "Epoch 75/100\n",
            "469/469 [==============================] - 4s 9ms/step - loss: 0.0646 - val_loss: 0.0642\n",
            "Epoch 76/100\n",
            "469/469 [==============================] - 4s 9ms/step - loss: 0.0646 - val_loss: 0.0645\n",
            "Epoch 77/100\n",
            "469/469 [==============================] - 4s 9ms/step - loss: 0.0646 - val_loss: 0.0642\n",
            "Epoch 78/100\n",
            "469/469 [==============================] - 4s 9ms/step - loss: 0.0646 - val_loss: 0.0641\n",
            "Epoch 79/100\n",
            "469/469 [==============================] - 4s 9ms/step - loss: 0.0646 - val_loss: 0.0648\n",
            "Epoch 80/100\n",
            "469/469 [==============================] - 4s 9ms/step - loss: 0.0646 - val_loss: 0.0643\n",
            "Epoch 81/100\n",
            "469/469 [==============================] - 4s 9ms/step - loss: 0.0645 - val_loss: 0.0640\n",
            "Epoch 82/100\n",
            "469/469 [==============================] - 4s 9ms/step - loss: 0.0645 - val_loss: 0.0641\n",
            "Epoch 83/100\n",
            "469/469 [==============================] - 4s 9ms/step - loss: 0.0645 - val_loss: 0.0640\n",
            "Epoch 84/100\n",
            "469/469 [==============================] - 4s 9ms/step - loss: 0.0645 - val_loss: 0.0641\n",
            "Epoch 85/100\n",
            "469/469 [==============================] - 4s 9ms/step - loss: 0.0645 - val_loss: 0.0642\n",
            "Epoch 86/100\n",
            "469/469 [==============================] - 4s 9ms/step - loss: 0.0645 - val_loss: 0.0644\n",
            "Epoch 87/100\n",
            "469/469 [==============================] - 4s 9ms/step - loss: 0.0645 - val_loss: 0.0641\n",
            "Epoch 88/100\n",
            "469/469 [==============================] - 4s 9ms/step - loss: 0.0645 - val_loss: 0.0643\n",
            "Epoch 89/100\n",
            "469/469 [==============================] - 4s 9ms/step - loss: 0.0644 - val_loss: 0.0642\n",
            "Epoch 90/100\n",
            "469/469 [==============================] - 4s 9ms/step - loss: 0.0644 - val_loss: 0.0642\n",
            "Epoch 91/100\n",
            "469/469 [==============================] - 4s 9ms/step - loss: 0.0644 - val_loss: 0.0650\n",
            "Epoch 92/100\n",
            "469/469 [==============================] - 4s 9ms/step - loss: 0.0644 - val_loss: 0.0640\n",
            "Epoch 93/100\n",
            "469/469 [==============================] - 4s 9ms/step - loss: 0.0644 - val_loss: 0.0639\n",
            "Epoch 94/100\n",
            "469/469 [==============================] - 4s 9ms/step - loss: 0.0644 - val_loss: 0.0642\n",
            "Epoch 95/100\n",
            "469/469 [==============================] - 4s 9ms/step - loss: 0.0644 - val_loss: 0.0639\n",
            "Epoch 96/100\n",
            "469/469 [==============================] - 4s 9ms/step - loss: 0.0644 - val_loss: 0.0640\n",
            "Epoch 97/100\n",
            "469/469 [==============================] - 4s 9ms/step - loss: 0.0643 - val_loss: 0.0645\n",
            "Epoch 98/100\n",
            "469/469 [==============================] - 4s 9ms/step - loss: 0.0644 - val_loss: 0.0650\n",
            "Epoch 99/100\n",
            "469/469 [==============================] - 4s 9ms/step - loss: 0.0643 - val_loss: 0.0639\n",
            "Epoch 100/100\n",
            "469/469 [==============================] - 4s 9ms/step - loss: 0.0643 - val_loss: 0.0642\n"
          ],
          "name": "stdout"
        },
        {
          "output_type": "execute_result",
          "data": {
            "text/plain": [
              "<tensorflow.python.keras.callbacks.History at 0x7f0706069128>"
            ]
          },
          "metadata": {
            "tags": []
          },
          "execution_count": 72
        }
      ]
    },
    {
      "cell_type": "code",
      "metadata": {
        "id": "NrBRcbuqhU7e",
        "colab_type": "code",
        "outputId": "b4a2500d-320f-4aba-80d6-5cb18b0db21b",
        "colab": {
          "base_uri": "https://localhost:8080/",
          "height": 248
        }
      },
      "source": [
        "decoded_imgs = autoencoder.predict(x_test)\n",
        "\n",
        "import matplotlib.pyplot as plt\n",
        "\n",
        "n = 10  # how many digits we will display\n",
        "plt.figure(figsize=(20, 4))\n",
        "for i in range(n):\n",
        "    # display original\n",
        "    ax = plt.subplot(2, n, i + 1)\n",
        "    plt.imshow(x_test[i].reshape(28, 28))\n",
        "    plt.gray()\n",
        "    ax.get_xaxis().set_visible(False)\n",
        "    ax.get_yaxis().set_visible(False)\n",
        "\n",
        "    # display reconstruction\n",
        "    ax = plt.subplot(2, n, i + 1 + n)\n",
        "    plt.imshow(decoded_imgs[i].reshape(28, 28))\n",
        "    plt.gray()\n",
        "    ax.get_xaxis().set_visible(False)\n",
        "    ax.get_yaxis().set_visible(False)\n",
        "plt.show()"
      ],
      "execution_count": 0,
      "outputs": [
        {
          "output_type": "display_data",
          "data": {
            "image/png": "[encoded data removed]",
            "text/plain": [
              "<Figure size 1440x288 with 20 Axes>"
            ]
          },
          "metadata": {
            "tags": [],
            "needs_background": "light"
          }
        }
      ]
    },
    {
      "cell_type": "code",
      "metadata": {
        "id": "UEnyapE45xu1",
        "colab_type": "code",
        "colab": {}
      },
      "source": [
        ""
      ],
      "execution_count": 0,
      "outputs": []
    }
  ]
}