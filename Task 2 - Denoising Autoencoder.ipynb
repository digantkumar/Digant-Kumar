{
  "nbformat": 4,
  "nbformat_minor": 0,
  "metadata": {
    "colab": {
      "name": "Task2.ipynb",
      "provenance": [],
      "collapsed_sections": [],
      "authorship_tag": "ABX9TyPgFIVJ6MWYefUyH81HnKPm",
      "include_colab_link": true
    },
    "kernelspec": {
      "name": "python3",
      "display_name": "Python 3"
    },
    "accelerator": "GPU"
  },
  "cells": [
    {
      "cell_type": "markdown",
      "metadata": {
        "id": "view-in-github",
        "colab_type": "text"
      },
      "source": [
        "<a href=\"https://colab.research.google.com/github/digantkumar/Digant-Kumar/blob/master/Task%202%20-%20Denoising%20Autoencoder.ipynb\" target=\"_parent\"><img src=\"https://colab.research.google.com/assets/colab-badge.svg\" alt=\"Open In Colab\"/></a>"
      ]
    },
    {
      "cell_type": "markdown",
      "metadata": {
        "id": "W1JIKSwrds7B",
        "colab_type": "text"
      },
      "source": [
        "# **TASK 2 - AUTOENCODER DENOISING**"
      ]
    },
    {
      "cell_type": "code",
      "metadata": {
        "id": "Ti1IN6n2_vBi",
        "colab_type": "code",
        "colab": {}
      },
      "source": [
        "# Importing the required libraries\n",
        "import numpy as np\n",
        "import matplotlib.pyplot as plt\n",
        "import tensorflow as tf"
      ],
      "execution_count": 0,
      "outputs": []
    },
    {
      "cell_type": "markdown",
      "metadata": {
        "id": "UoVgcQvGZYgs",
        "colab_type": "text"
      },
      "source": [
        "### **AUTOENCODER BASE MODEL (GIVEN)**"
      ]
    },
    {
      "cell_type": "code",
      "metadata": {
        "id": "gCMwqHroehUe",
        "colab_type": "code",
        "colab": {}
      },
      "source": [
        "#################################################################################################\n",
        "#########                        Autoencoder Base Model                                  ########\n",
        "#################################################################################################\n",
        "\n",
        "# Encoder function to learn a compressed data structure\n",
        "class Encoder(tf.keras.layers.Layer):\n",
        "    def __init__(self, intermediate_dim):\n",
        "        super(Encoder, self).__init__()\n",
        "        self.hidden_layer = tf.keras.layers.Dense(units=intermediate_dim, activation=tf.nn.relu)\n",
        "        self.output_layer = tf.keras.layers.Dense(units=intermediate_dim, activation=tf.nn.relu)\n",
        "    \n",
        "    def call(self, input_features):\n",
        "        activation = self.hidden_layer(input_features)\n",
        "        return self.output_layer(activation)"
      ],
      "execution_count": 0,
      "outputs": []
    },
    {
      "cell_type": "code",
      "metadata": {
        "id": "hkww1ee-ehQx",
        "colab_type": "code",
        "colab": {}
      },
      "source": [
        "# Decoder function to reconstruct the data from lower dimension to its higher dimension\n",
        "class Decoder(tf.keras.layers.Layer):\n",
        "    def __init__(self, intermediate_dim, original_dim):\n",
        "        super(Decoder, self).__init__()\n",
        "        self.hidden_layer = tf.keras.layers.Dense(units=intermediate_dim, activation=tf.nn.relu)\n",
        "        self.output_layer = tf.keras.layers.Dense(units=original_dim, activation=tf.nn.relu)\n",
        "  \n",
        "    def call(self, code):\n",
        "        activation = self.hidden_layer(code)\n",
        "        return self.output_layer(activation)"
      ],
      "execution_count": 0,
      "outputs": []
    },
    {
      "cell_type": "code",
      "metadata": {
        "id": "0mtBTiosehNx",
        "colab_type": "code",
        "colab": {}
      },
      "source": [
        "# Combines both the encoder and decoder and generates the output\n",
        "class Autoencoder(tf.keras.Model):\n",
        "  def __init__(self, intermediate_dim, original_dim):\n",
        "    super(Autoencoder, self).__init__()\n",
        "    self.loss = []\n",
        "    self.encoder = Encoder(intermediate_dim=intermediate_dim)\n",
        "    self.decoder = Decoder(intermediate_dim=intermediate_dim, original_dim=original_dim)\n",
        "\n",
        "  def call(self, input_features):\n",
        "    code = self.encoder(input_features)\n",
        "    reconstructed = self.decoder(code)\n",
        "    return reconstructed"
      ],
      "execution_count": 0,
      "outputs": []
    },
    {
      "cell_type": "code",
      "metadata": {
        "id": "MU1iM3GxehLc",
        "colab_type": "code",
        "colab": {}
      },
      "source": [
        "def loss(preds, real):\n",
        "  return tf.reduce_mean(tf.square(tf.subtract(preds, real)))"
      ],
      "execution_count": 0,
      "outputs": []
    },
    {
      "cell_type": "code",
      "metadata": {
        "id": "GmWpblCGehHV",
        "colab_type": "code",
        "colab": {}
      },
      "source": [
        "def train(loss, model, opt, original):\n",
        "  with tf.GradientTape() as tape:\n",
        "    preds = model(original)\n",
        "    reconstruction_error = loss(preds, original)\n",
        "  gradients = tape.gradient(reconstruction_error, model.trainable_variables)\n",
        "  gradient_variables = zip(gradients, model.trainable_variables)\n",
        "  opt.apply_gradients(gradient_variables)\n",
        "  \n",
        "  return reconstruction_error"
      ],
      "execution_count": 0,
      "outputs": []
    },
    {
      "cell_type": "code",
      "metadata": {
        "id": "NbcAqu81ehEy",
        "colab_type": "code",
        "colab": {}
      },
      "source": [
        "def train_loop(model, opt, loss, dataset, epochs):\n",
        "  for epoch in range(epochs):\n",
        "    epoch_loss = 0\n",
        "    for step, batch_features in enumerate(dataset):\n",
        "      loss_values = train(loss, model, opt, batch_features)\n",
        "      epoch_loss += loss_values\n",
        "    model.loss.append(epoch_loss)\n",
        "    print('Epoch {}/{}. Loss: {}'.format(epoch + 1, epochs, epoch_loss.numpy()))"
      ],
      "execution_count": 0,
      "outputs": []
    },
    {
      "cell_type": "code",
      "metadata": {
        "id": "TJECUNWHehBE",
        "colab_type": "code",
        "colab": {}
      },
      "source": [
        "# Importing the mnist dataset\n",
        "from keras.datasets import mnist\n",
        "(x_train, _), (x_test, _) = mnist.load_data()\n",
        "\n",
        "x_train = x_train.astype('float32') / 255.\n",
        "x_test = x_test.astype('float32') / 255.\n",
        "x_train = np.reshape(x_train, (x_train.shape[0], 784))\n",
        "x_test = np.reshape(x_test, (x_test.shape[0], 784))\n",
        "\n",
        "# Introducing noise with a probability factor of 0.5\n",
        "noise_factor = 0.5\n",
        "x_train_noisy = x_train + noise_factor + np.random.normal(loc=0.0, scale=1.0, size=x_train.shape)\n",
        "x_test_noisy = x_test + noise_factor + np.random.normal(loc=0.0, scale=1.0, size=x_test.shape)\n",
        "\n",
        "x_train_noisy = np.clip(x_train_noisy, 0., 1.)\n",
        "x_test_noisy = np.clip(x_test_noisy, 0., 1.)\n",
        "\n",
        "# Reshaping the noise into 784 pixels (28*28)\n",
        "x_train_noisy = np.reshape(x_train_noisy, (x_train_noisy.shape[0], 784))\n",
        "x_test_noisy = np.reshape(x_test_noisy, (x_test_noisy.shape[0], 784))\n",
        "x_train_noisy = x_train_noisy.astype('float32')\n",
        "x_test_noisy = x_test_noisy.astype('float32')\n",
        "training_dataset = tf.data.Dataset.from_tensor_slices(x_train_noisy).batch(256)"
      ],
      "execution_count": 0,
      "outputs": []
    },
    {
      "cell_type": "code",
      "metadata": {
        "id": "f1Og31steg92",
        "colab_type": "code",
        "outputId": "d0d574ba-4964-4663-f89d-db3056cdb313",
        "colab": {
          "base_uri": "https://localhost:8080/",
          "height": 1000
        }
      },
      "source": [
        "model = Autoencoder(intermediate_dim=128, original_dim=784)\n",
        "opt = tf.keras.optimizers.Adam(learning_rate=1e-2)\n",
        "\n",
        "train_loop(model, opt, loss, training_dataset, 100)"
      ],
      "execution_count": 0,
      "outputs": [
        {
          "output_type": "stream",
          "text": [
            "Epoch 1/100. Loss: 125.59982299804688\n",
            "Epoch 2/100. Loss: 46.8834228515625\n",
            "Epoch 3/100. Loss: 46.60837173461914\n",
            "Epoch 4/100. Loss: 46.37431716918945\n",
            "Epoch 5/100. Loss: 46.17355728149414\n",
            "Epoch 6/100. Loss: 45.85505294799805\n",
            "Epoch 7/100. Loss: 45.65891647338867\n",
            "Epoch 8/100. Loss: 45.54412841796875\n",
            "Epoch 9/100. Loss: 45.52465057373047\n",
            "Epoch 10/100. Loss: 45.51613235473633\n",
            "Epoch 11/100. Loss: 45.45962905883789\n",
            "Epoch 12/100. Loss: 45.37454605102539\n",
            "Epoch 13/100. Loss: 45.215824127197266\n",
            "Epoch 14/100. Loss: 45.2021369934082\n",
            "Epoch 15/100. Loss: 45.19440460205078\n",
            "Epoch 16/100. Loss: 45.191810607910156\n",
            "Epoch 17/100. Loss: 45.18891143798828\n",
            "Epoch 18/100. Loss: 45.18735885620117\n",
            "Epoch 19/100. Loss: 45.10048294067383\n",
            "Epoch 20/100. Loss: 45.025001525878906\n",
            "Epoch 21/100. Loss: 44.978309631347656\n",
            "Epoch 22/100. Loss: 44.890140533447266\n",
            "Epoch 23/100. Loss: 44.82794189453125\n",
            "Epoch 24/100. Loss: 44.82618713378906\n",
            "Epoch 25/100. Loss: 44.80246353149414\n",
            "Epoch 26/100. Loss: 44.671775817871094\n",
            "Epoch 27/100. Loss: 44.545013427734375\n",
            "Epoch 28/100. Loss: 44.49665451049805\n",
            "Epoch 29/100. Loss: 44.49658203125\n",
            "Epoch 30/100. Loss: 44.49461364746094\n",
            "Epoch 31/100. Loss: 44.493709564208984\n",
            "Epoch 32/100. Loss: 44.492923736572266\n",
            "Epoch 33/100. Loss: 44.44134521484375\n",
            "Epoch 34/100. Loss: 44.306541442871094\n",
            "Epoch 35/100. Loss: 44.224342346191406\n",
            "Epoch 36/100. Loss: 44.21187973022461\n",
            "Epoch 37/100. Loss: 44.20957565307617\n",
            "Epoch 38/100. Loss: 44.20789337158203\n",
            "Epoch 39/100. Loss: 44.207908630371094\n",
            "Epoch 40/100. Loss: 44.20851516723633\n",
            "Epoch 41/100. Loss: 44.20499038696289\n",
            "Epoch 42/100. Loss: 44.20393753051758\n",
            "Epoch 43/100. Loss: 44.202667236328125\n",
            "Epoch 44/100. Loss: 44.20208740234375\n",
            "Epoch 45/100. Loss: 44.20106506347656\n",
            "Epoch 46/100. Loss: 44.19963073730469\n",
            "Epoch 47/100. Loss: 44.199222564697266\n",
            "Epoch 48/100. Loss: 44.19682312011719\n",
            "Epoch 49/100. Loss: 44.19671630859375\n",
            "Epoch 50/100. Loss: 44.1966667175293\n",
            "Epoch 51/100. Loss: 44.195220947265625\n",
            "Epoch 52/100. Loss: 44.195011138916016\n",
            "Epoch 53/100. Loss: 44.19350051879883\n",
            "Epoch 54/100. Loss: 44.193241119384766\n",
            "Epoch 55/100. Loss: 44.19316864013672\n",
            "Epoch 56/100. Loss: 44.192726135253906\n",
            "Epoch 57/100. Loss: 44.1920051574707\n",
            "Epoch 58/100. Loss: 44.191715240478516\n",
            "Epoch 59/100. Loss: 44.19197082519531\n",
            "Epoch 60/100. Loss: 44.192874908447266\n",
            "Epoch 61/100. Loss: 44.191837310791016\n",
            "Epoch 62/100. Loss: 44.192413330078125\n",
            "Epoch 63/100. Loss: 44.19280242919922\n",
            "Epoch 64/100. Loss: 44.19294357299805\n",
            "Epoch 65/100. Loss: 44.19268035888672\n",
            "Epoch 66/100. Loss: 44.191219329833984\n",
            "Epoch 67/100. Loss: 44.191471099853516\n",
            "Epoch 68/100. Loss: 44.19172668457031\n",
            "Epoch 69/100. Loss: 44.194419860839844\n",
            "Epoch 70/100. Loss: 44.19084548950195\n",
            "Epoch 71/100. Loss: 44.19235610961914\n",
            "Epoch 72/100. Loss: 44.19233322143555\n",
            "Epoch 73/100. Loss: 44.19365310668945\n",
            "Epoch 74/100. Loss: 44.19258117675781\n",
            "Epoch 75/100. Loss: 44.189979553222656\n",
            "Epoch 76/100. Loss: 44.191917419433594\n",
            "Epoch 77/100. Loss: 44.1932487487793\n",
            "Epoch 78/100. Loss: 44.192562103271484\n",
            "Epoch 79/100. Loss: 44.1900749206543\n",
            "Epoch 80/100. Loss: 44.19060134887695\n",
            "Epoch 81/100. Loss: 44.19829559326172\n",
            "Epoch 82/100. Loss: 44.19296646118164\n",
            "Epoch 83/100. Loss: 44.192710876464844\n",
            "Epoch 84/100. Loss: 44.191322326660156\n",
            "Epoch 85/100. Loss: 44.19102096557617\n",
            "Epoch 86/100. Loss: 44.191802978515625\n",
            "Epoch 87/100. Loss: 44.19249725341797\n",
            "Epoch 88/100. Loss: 44.19123840332031\n",
            "Epoch 89/100. Loss: 44.192386627197266\n",
            "Epoch 90/100. Loss: 44.189998626708984\n",
            "Epoch 91/100. Loss: 44.190826416015625\n",
            "Epoch 92/100. Loss: 44.19142150878906\n",
            "Epoch 93/100. Loss: 44.192169189453125\n",
            "Epoch 94/100. Loss: 44.19017791748047\n",
            "Epoch 95/100. Loss: 44.18916702270508\n",
            "Epoch 96/100. Loss: 44.191184997558594\n",
            "Epoch 97/100. Loss: 44.19068145751953\n",
            "Epoch 98/100. Loss: 44.188480377197266\n",
            "Epoch 99/100. Loss: 44.187686920166016\n",
            "Epoch 100/100. Loss: 44.188812255859375\n"
          ],
          "name": "stdout"
        }
      ]
    },
    {
      "cell_type": "code",
      "metadata": {
        "id": "TYD9RLnEegw3",
        "colab_type": "code",
        "outputId": "5e6b0408-dfd0-4e17-a7fc-db9079b52228",
        "colab": {
          "base_uri": "https://localhost:8080/",
          "height": 248
        }
      },
      "source": [
        "number = 10 \n",
        "plt.figure(figsize=(20, 4))\n",
        "for index in range(number):\n",
        "    # display original\n",
        "    ax = plt.subplot(2, number, index + 1)\n",
        "    plt.imshow(x_test_noisy[index].reshape(28, 28))\n",
        "    plt.gray()\n",
        "    ax.get_xaxis().set_visible(False)\n",
        "    ax.get_yaxis().set_visible(False)\n",
        "\n",
        "    # display reconstruction\n",
        "    ax = plt.subplot(2, number, index + 1 + number)\n",
        "    plt.imshow(model(x_test_noisy)[index].numpy().reshape(28, 28))\n",
        "    plt.gray()\n",
        "    ax.get_xaxis().set_visible(False)\n",
        "    ax.get_yaxis().set_visible(False)\n",
        "plt.show()"
      ],
      "execution_count": 0,
      "outputs": [
        {
          "output_type": "display_data",
          "data": {
            "image/png": "[encoded data removed]",
            "text/plain": [
              "<Figure size 1440x288 with 20 Axes>"
            ]
          },
          "metadata": {
            "tags": [],
            "needs_background": "light"
          }
        }
      ]
    },
    {
      "cell_type": "markdown",
      "metadata": {
        "id": "DNV3eqElXlIV",
        "colab_type": "text"
      },
      "source": [
        "### **AUTOENCODER OPTIMIZED MODEL**"
      ]
    },
    {
      "cell_type": "code",
      "metadata": {
        "id": "XCjengpZllAd",
        "colab_type": "code",
        "colab": {}
      },
      "source": [
        "#################################################################################################\n",
        "#########                     Autoencoder Optimized Model                                ########\n",
        "#################################################################################################\n",
        "\n",
        "# Encoder function to learn a compressed data structure\n",
        "class Encoder(tf.keras.layers.Layer):\n",
        "    def __init__(self, intermediate_dim):\n",
        "        super(Encoder, self).__init__()\n",
        "        self.hidden_layer_1 = tf.keras.layers.Dense(units=intermediate_dim, activation=tf.nn.relu)\n",
        "        self.hidden_layer_2 = tf.keras.layers.Dense(units=intermediate_dim/2, activation=tf.nn.relu)\n",
        "        self.output_layer = tf.keras.layers.Dense(units=intermediate_dim/2, activation=tf.nn.sigmoid)\n",
        "    \n",
        "    def call(self, input_features):\n",
        "        hid_layer_1 = self.hidden_layer_1(input_features)\n",
        "        activation = self.hidden_layer_2(hid_layer_1)\n",
        "        return self.output_layer(activation)"
      ],
      "execution_count": 0,
      "outputs": []
    },
    {
      "cell_type": "code",
      "metadata": {
        "id": "d_X_kDCClk44",
        "colab_type": "code",
        "colab": {}
      },
      "source": [
        "# Decoder function to reconstruct the data from lower dimension to its higher dimension\n",
        "class Decoder(tf.keras.layers.Layer):\n",
        "    def __init__(self, intermediate_dim, original_dim):\n",
        "        super(Decoder, self).__init__()\n",
        "        self.hidden_layer_1 = tf.keras.layers.Dense(units=intermediate_dim, activation=tf.nn.relu)\n",
        "        self.output_layer = tf.keras.layers.Dense(units=original_dim, activation=tf.nn.sigmoid)\n",
        "  \n",
        "    def call(self, code):\n",
        "        activation = self.hidden_layer_1(code)\n",
        "        return self.output_layer(activation)"
      ],
      "execution_count": 0,
      "outputs": []
    },
    {
      "cell_type": "code",
      "metadata": {
        "id": "Ea3XQv5ElkxZ",
        "colab_type": "code",
        "colab": {}
      },
      "source": [
        "# Combines both the encoder and decoder and generates the output\n",
        "class Autoencoder(tf.keras.Model):\n",
        "  def __init__(self, intermediate_dim, original_dim):\n",
        "    super(Autoencoder, self).__init__()\n",
        "    self.loss = []\n",
        "    self.encoder = Encoder(intermediate_dim=intermediate_dim)\n",
        "    self.decoder = Decoder(intermediate_dim=intermediate_dim, original_dim=original_dim)\n",
        "\n",
        "  def call(self, input_features):\n",
        "    code = self.encoder(input_features)\n",
        "    reconstructed = self.decoder(code)\n",
        "    return reconstructed"
      ],
      "execution_count": 0,
      "outputs": []
    },
    {
      "cell_type": "code",
      "metadata": {
        "id": "K2NEu5BelknN",
        "colab_type": "code",
        "colab": {}
      },
      "source": [
        "def loss(preds, real):\n",
        "  return tf.reduce_mean(tf.square(tf.subtract(preds, real)))"
      ],
      "execution_count": 0,
      "outputs": []
    },
    {
      "cell_type": "code",
      "metadata": {
        "id": "qvOZDrsxmTEY",
        "colab_type": "code",
        "colab": {}
      },
      "source": [
        "def train(loss, model, opt, original):\n",
        "  with tf.GradientTape() as tape:\n",
        "    preds = model(original)\n",
        "    reconstruction_error = loss(preds, original)\n",
        "  gradients = tape.gradient(reconstruction_error, model.trainable_variables)\n",
        "  gradient_variables = zip(gradients, model.trainable_variables)\n",
        "  opt.apply_gradients(gradient_variables)\n",
        "  \n",
        "  return reconstruction_error"
      ],
      "execution_count": 0,
      "outputs": []
    },
    {
      "cell_type": "code",
      "metadata": {
        "id": "O7VRD2VOmS9D",
        "colab_type": "code",
        "colab": {}
      },
      "source": [
        "def train_loop(model, opt, loss, dataset, epochs):\n",
        "  for epoch in range(epochs):\n",
        "    epoch_loss = 0\n",
        "    for step, batch_features in enumerate(dataset):\n",
        "      loss_values = train(loss, model, opt, batch_features)\n",
        "      epoch_loss += loss_values\n",
        "    model.loss.append(epoch_loss)\n",
        "    print('Epoch {}/{}. Loss: {}'.format(epoch + 1, epochs, epoch_loss.numpy()))"
      ],
      "execution_count": 0,
      "outputs": []
    },
    {
      "cell_type": "code",
      "metadata": {
        "id": "7MpffLSamS2W",
        "colab_type": "code",
        "colab": {}
      },
      "source": [
        "from keras.datasets import mnist\n",
        "\n",
        "(x_train, _), (x_test, _) = mnist.load_data()\n",
        "\n",
        "x_train = x_train.astype('float32') / 255.\n",
        "x_test = x_test.astype('float32') / 255.\n",
        "x_train = np.reshape(x_train, (x_train.shape[0], 784))\n",
        "x_test = np.reshape(x_test, (x_test.shape[0], 784))\n",
        "\n",
        "# Introduce noise with a probability factor of 0.5\n",
        "noise_factor = 0.5\n",
        "x_train_noisy = x_train + noise_factor + np.random.normal(loc=0.0, scale=1.0, size=x_train.shape)\n",
        "x_test_noisy = x_test + noise_factor + np.random.normal(loc=0.0, scale=1.0, size=x_test.shape)\n",
        "\n",
        "x_train_noisy = np.clip(x_train_noisy, 0., 1.)\n",
        "x_test_noisy = np.clip(x_test_noisy, 0., 1.)\n",
        "\n",
        "x_train_noisy = np.reshape(x_train_noisy, (x_train_noisy.shape[0], 784))\n",
        "x_test_noisy = np.reshape(x_test_noisy, (x_test_noisy.shape[0], 784))\n",
        "x_train_noisy = x_train_noisy.astype('float32')\n",
        "x_test_noisy = x_test_noisy.astype('float32')\n",
        "training_dataset = tf.data.Dataset.from_tensor_slices(x_train_noisy).batch(256)"
      ],
      "execution_count": 0,
      "outputs": []
    },
    {
      "cell_type": "code",
      "metadata": {
        "id": "gp6UTxygmStu",
        "colab_type": "code",
        "outputId": "6eb05a09-f312-4831-a0fd-0b2ebdf47fdc",
        "colab": {
          "base_uri": "https://localhost:8080/",
          "height": 1000
        }
      },
      "source": [
        "model = Autoencoder(intermediate_dim=128, original_dim=784)\n",
        "opt = tf.keras.optimizers.Adam(learning_rate=1e-2)\n",
        "\n",
        "train_loop(model, opt, loss, training_dataset, 100)"
      ],
      "execution_count": 0,
      "outputs": [
        {
          "output_type": "stream",
          "text": [
            "Epoch 1/100. Loss: 42.85896682739258\n",
            "Epoch 2/100. Loss: 42.26884460449219\n",
            "Epoch 3/100. Loss: 42.016883850097656\n",
            "Epoch 4/100. Loss: 41.83949279785156\n",
            "Epoch 5/100. Loss: 41.71844482421875\n",
            "Epoch 6/100. Loss: 41.616886138916016\n",
            "Epoch 7/100. Loss: 41.546329498291016\n",
            "Epoch 8/100. Loss: 41.532432556152344\n",
            "Epoch 9/100. Loss: 41.51347732543945\n",
            "Epoch 10/100. Loss: 41.50895690917969\n",
            "Epoch 11/100. Loss: 41.50095748901367\n",
            "Epoch 12/100. Loss: 41.49746322631836\n",
            "Epoch 13/100. Loss: 41.493492126464844\n",
            "Epoch 14/100. Loss: 41.492401123046875\n",
            "Epoch 15/100. Loss: 41.4921760559082\n",
            "Epoch 16/100. Loss: 41.48527908325195\n",
            "Epoch 17/100. Loss: 41.49104690551758\n",
            "Epoch 18/100. Loss: 41.483863830566406\n",
            "Epoch 19/100. Loss: 41.48860168457031\n",
            "Epoch 20/100. Loss: 41.477386474609375\n",
            "Epoch 21/100. Loss: 41.49117660522461\n",
            "Epoch 22/100. Loss: 41.47622299194336\n",
            "Epoch 23/100. Loss: 41.48371505737305\n",
            "Epoch 24/100. Loss: 41.48815155029297\n",
            "Epoch 25/100. Loss: 41.47382736206055\n",
            "Epoch 26/100. Loss: 41.478538513183594\n",
            "Epoch 27/100. Loss: 41.48335266113281\n",
            "Epoch 28/100. Loss: 41.473976135253906\n",
            "Epoch 29/100. Loss: 41.47474670410156\n",
            "Epoch 30/100. Loss: 41.47318649291992\n",
            "Epoch 31/100. Loss: 41.47333526611328\n",
            "Epoch 32/100. Loss: 41.474342346191406\n",
            "Epoch 33/100. Loss: 41.474735260009766\n",
            "Epoch 34/100. Loss: 41.483036041259766\n",
            "Epoch 35/100. Loss: 41.4759521484375\n",
            "Epoch 36/100. Loss: 41.467594146728516\n",
            "Epoch 37/100. Loss: 41.46723937988281\n",
            "Epoch 38/100. Loss: 41.47955322265625\n",
            "Epoch 39/100. Loss: 41.46900177001953\n",
            "Epoch 40/100. Loss: 41.46660614013672\n",
            "Epoch 41/100. Loss: 41.4681510925293\n",
            "Epoch 42/100. Loss: 41.470916748046875\n",
            "Epoch 43/100. Loss: 41.46760940551758\n",
            "Epoch 44/100. Loss: 41.46589660644531\n",
            "Epoch 45/100. Loss: 41.471866607666016\n",
            "Epoch 46/100. Loss: 41.460357666015625\n",
            "Epoch 47/100. Loss: 41.47024154663086\n",
            "Epoch 48/100. Loss: 41.46000289916992\n",
            "Epoch 49/100. Loss: 41.49710464477539\n",
            "Epoch 50/100. Loss: 41.457183837890625\n",
            "Epoch 51/100. Loss: 41.4622917175293\n",
            "Epoch 52/100. Loss: 41.46632766723633\n",
            "Epoch 53/100. Loss: 41.46437072753906\n",
            "Epoch 54/100. Loss: 41.457984924316406\n",
            "Epoch 55/100. Loss: 41.46001434326172\n",
            "Epoch 56/100. Loss: 41.457820892333984\n",
            "Epoch 57/100. Loss: 41.4661979675293\n",
            "Epoch 58/100. Loss: 41.45851516723633\n",
            "Epoch 59/100. Loss: 41.462432861328125\n",
            "Epoch 60/100. Loss: 41.46670150756836\n",
            "Epoch 61/100. Loss: 41.457210540771484\n",
            "Epoch 62/100. Loss: 41.45520782470703\n",
            "Epoch 63/100. Loss: 41.459659576416016\n",
            "Epoch 64/100. Loss: 41.46678161621094\n",
            "Epoch 65/100. Loss: 41.45527267456055\n",
            "Epoch 66/100. Loss: 41.47113800048828\n",
            "Epoch 67/100. Loss: 41.452789306640625\n",
            "Epoch 68/100. Loss: 41.454097747802734\n",
            "Epoch 69/100. Loss: 41.45965576171875\n",
            "Epoch 70/100. Loss: 41.45317840576172\n",
            "Epoch 71/100. Loss: 41.45681381225586\n",
            "Epoch 72/100. Loss: 41.45595932006836\n",
            "Epoch 73/100. Loss: 41.466796875\n",
            "Epoch 74/100. Loss: 41.45127487182617\n",
            "Epoch 75/100. Loss: 41.45329284667969\n",
            "Epoch 76/100. Loss: 41.458980560302734\n",
            "Epoch 77/100. Loss: 41.454246520996094\n",
            "Epoch 78/100. Loss: 41.45463943481445\n",
            "Epoch 79/100. Loss: 41.45079040527344\n",
            "Epoch 80/100. Loss: 41.452205657958984\n",
            "Epoch 81/100. Loss: 41.45676803588867\n",
            "Epoch 82/100. Loss: 41.449771881103516\n",
            "Epoch 83/100. Loss: 41.45072937011719\n",
            "Epoch 84/100. Loss: 41.451805114746094\n",
            "Epoch 85/100. Loss: 41.45338439941406\n",
            "Epoch 86/100. Loss: 41.4505615234375\n",
            "Epoch 87/100. Loss: 41.44824981689453\n",
            "Epoch 88/100. Loss: 41.452701568603516\n",
            "Epoch 89/100. Loss: 41.45250701904297\n",
            "Epoch 90/100. Loss: 41.45375061035156\n",
            "Epoch 91/100. Loss: 41.446170806884766\n",
            "Epoch 92/100. Loss: 41.44780349731445\n",
            "Epoch 93/100. Loss: 41.45193099975586\n",
            "Epoch 94/100. Loss: 41.44812774658203\n",
            "Epoch 95/100. Loss: 41.45058822631836\n",
            "Epoch 96/100. Loss: 41.449153900146484\n",
            "Epoch 97/100. Loss: 41.44586944580078\n",
            "Epoch 98/100. Loss: 41.44970703125\n",
            "Epoch 99/100. Loss: 41.44808578491211\n",
            "Epoch 100/100. Loss: 41.44758987426758\n"
          ],
          "name": "stdout"
        }
      ]
    },
    {
      "cell_type": "code",
      "metadata": {
        "id": "RkcNLcsTmShC",
        "colab_type": "code",
        "outputId": "d87e8ab2-3750-46d2-d1d4-8b8399f41bad",
        "colab": {
          "base_uri": "https://localhost:8080/",
          "height": 248
        }
      },
      "source": [
        "number = 10  \n",
        "plt.figure(figsize=(20, 4))\n",
        "for index in range(number):\n",
        "    # display original\n",
        "    ax = plt.subplot(2, number, index + 1)\n",
        "    plt.imshow(x_test_noisy[index].reshape(28, 28))\n",
        "    plt.gray()\n",
        "    ax.get_xaxis().set_visible(False)\n",
        "    ax.get_yaxis().set_visible(False)\n",
        "\n",
        "    # display reconstruction\n",
        "    ax = plt.subplot(2, number, index + 1 + number)\n",
        "    plt.imshow(model(x_test_noisy)[index].numpy().reshape(28, 28))\n",
        "    plt.gray()\n",
        "    ax.get_xaxis().set_visible(False)\n",
        "    ax.get_yaxis().set_visible(False)\n",
        "plt.show()"
      ],
      "execution_count": 0,
      "outputs": [
        {
          "output_type": "display_data",
          "data": {
            "image/png": "[encoded data removed]",
            "text/plain": [
              "<Figure size 1440x288 with 20 Axes>"
            ]
          },
          "metadata": {
            "tags": [],
            "needs_background": "light"
          }
        }
      ]
    },
    {
      "cell_type": "markdown",
      "metadata": {
        "id": "hNCWwoQtItAL",
        "colab_type": "text"
      },
      "source": [
        "### **CNN BASIC MODEL**"
      ]
    },
    {
      "cell_type": "code",
      "metadata": {
        "id": "WA-4yTjzHEGq",
        "colab_type": "code",
        "colab": {
          "base_uri": "https://localhost:8080/",
          "height": 641
        },
        "outputId": "f0b8e6f6-c85c-4aa4-bfa2-4702b366899c"
      },
      "source": [
        "#################################################################################################\n",
        "#########                             CNN BASIC                                          ########\n",
        "#################################################################################################\n",
        "\n",
        "input_img = tf.keras.layers.Input(shape=(28, 28, 1)) \n",
        "\n",
        "# The encoder contains 3 covolutional layer and 3 max pooling layers\n",
        "x = tf.keras.layers.Conv2D(16, (3, 3), activation='relu', padding='same')(input_img)\n",
        "x = tf.keras.layers.MaxPooling2D((2, 2), padding='same')(x)\n",
        "x = tf.keras.layers.Conv2D(8, (3, 3), activation='relu', padding='same')(x)\n",
        "x = tf.keras.layers.MaxPooling2D((2, 2), padding='same')(x)\n",
        "x = tf.keras.layers.Conv2D(8, (3, 3), activation='relu', padding='same')(x)\n",
        "encoded = tf.keras.layers.MaxPooling2D((2, 2), padding='same')(x)\n",
        "\n",
        "# The decoder contains 3 convolutional layers and 3 up sampling layers\n",
        "x = tf.keras.layers.Conv2D(8, (3, 3), activation='relu', padding='same')(encoded)\n",
        "x = tf.keras.layers.UpSampling2D((2, 2))(x)\n",
        "x = tf.keras.layers.Conv2D(8, (3, 3), activation='relu', padding='same')(x)\n",
        "x = tf.keras.layers.UpSampling2D((2, 2))(x)\n",
        "x = tf.keras.layers.Conv2D(16, (3, 3), activation='relu')(x)\n",
        "x = tf.keras.layers.UpSampling2D((2, 2))(x)\n",
        "decoded = tf.keras.layers.Conv2D(1, (3, 3), activation='sigmoid', padding='same')(x)\n",
        "\n",
        "autoencoder = tf.keras.models.Model(input_img, decoded)\n",
        "autoencoder.compile(optimizer='adadelta', loss='binary_crossentropy')\n",
        "autoencoder.summary()\n"
      ],
      "execution_count": 2,
      "outputs": [
        {
          "output_type": "stream",
          "text": [
            "Model: \"model\"\n",
            "_________________________________________________________________\n",
            "Layer (type)                 Output Shape              Param #   \n",
            "=================================================================\n",
            "input_1 (InputLayer)         [(None, 28, 28, 1)]       0         \n",
            "_________________________________________________________________\n",
            "conv2d (Conv2D)              (None, 28, 28, 16)        160       \n",
            "_________________________________________________________________\n",
            "max_pooling2d (MaxPooling2D) (None, 14, 14, 16)        0         \n",
            "_________________________________________________________________\n",
            "conv2d_1 (Conv2D)            (None, 14, 14, 8)         1160      \n",
            "_________________________________________________________________\n",
            "max_pooling2d_1 (MaxPooling2 (None, 7, 7, 8)           0         \n",
            "_________________________________________________________________\n",
            "conv2d_2 (Conv2D)            (None, 7, 7, 8)           584       \n",
            "_________________________________________________________________\n",
            "max_pooling2d_2 (MaxPooling2 (None, 4, 4, 8)           0         \n",
            "_________________________________________________________________\n",
            "conv2d_3 (Conv2D)            (None, 4, 4, 8)           584       \n",
            "_________________________________________________________________\n",
            "up_sampling2d (UpSampling2D) (None, 8, 8, 8)           0         \n",
            "_________________________________________________________________\n",
            "conv2d_4 (Conv2D)            (None, 8, 8, 8)           584       \n",
            "_________________________________________________________________\n",
            "up_sampling2d_1 (UpSampling2 (None, 16, 16, 8)         0         \n",
            "_________________________________________________________________\n",
            "conv2d_5 (Conv2D)            (None, 14, 14, 16)        1168      \n",
            "_________________________________________________________________\n",
            "up_sampling2d_2 (UpSampling2 (None, 28, 28, 16)        0         \n",
            "_________________________________________________________________\n",
            "conv2d_6 (Conv2D)            (None, 28, 28, 1)         145       \n",
            "=================================================================\n",
            "Total params: 4,385\n",
            "Trainable params: 4,385\n",
            "Non-trainable params: 0\n",
            "_________________________________________________________________\n"
          ],
          "name": "stdout"
        }
      ]
    },
    {
      "cell_type": "code",
      "metadata": {
        "id": "-qEAG00qFwah",
        "colab_type": "code",
        "colab": {}
      },
      "source": [
        "# Loading the Mnist dataset\n",
        "(x_train, _), (x_test, _) = mnist.load_data()\n",
        "\n",
        "x_train = x_train.astype('float32') / 255.\n",
        "x_test = x_test.astype('float32') / 255.\n",
        "# Reshaping it to 28*28*1 for the CNN model\n",
        "x_train = np.reshape(x_train, (len(x_train), 28, 28, 1))\n",
        "x_test = np.reshape(x_test, (len(x_test), 28, 28, 1))\n",
        "\n",
        "# Introducing noise with a probability factor of 0.5\n",
        "noise_factor = 0.5\n",
        "x_train_noisy = x_train + noise_factor + np.random.normal(loc=0.0, scale=1.0, size=x_train.shape)\n",
        "x_test_noisy = x_test + noise_factor + np.random.normal(loc=0.0, scale=1.0, size=x_test.shape)\n",
        "\n",
        "x_train_noisy = np.clip(x_train_noisy, 0., 1.)\n",
        "x_test_noisy = np.clip(x_test_noisy, 0., 1.)\n"
      ],
      "execution_count": 0,
      "outputs": []
    },
    {
      "cell_type": "code",
      "metadata": {
        "id": "RO2VA4PgF4VR",
        "colab_type": "code",
        "outputId": "b1476998-27fb-4628-a010-7d79b7d94877",
        "colab": {
          "base_uri": "https://localhost:8080/",
          "height": 1000
        }
      },
      "source": [
        "autoencoder.fit(x_train_noisy, x_train, epochs=100, batch_size=128, \n",
        "                shuffle=True, validation_data=(x_test_noisy, x_test), \n",
        "                callbacks=[tf.keras.callbacks.TensorBoard(log_dir='./tmp/tb', histogram_freq=0, write_graph=False)])"
      ],
      "execution_count": 0,
      "outputs": [
        {
          "output_type": "stream",
          "text": [
            "Epoch 1/100\n",
            "469/469 [==============================] - 4s 8ms/step - loss: 0.6972 - val_loss: 0.6956\n",
            "Epoch 2/100\n",
            "469/469 [==============================] - 3s 7ms/step - loss: 0.6942 - val_loss: 0.6926\n",
            "Epoch 3/100\n",
            "469/469 [==============================] - 3s 7ms/step - loss: 0.6912 - val_loss: 0.6896\n",
            "Epoch 4/100\n",
            "469/469 [==============================] - 3s 7ms/step - loss: 0.6878 - val_loss: 0.6858\n",
            "Epoch 5/100\n",
            "469/469 [==============================] - 3s 7ms/step - loss: 0.6823 - val_loss: 0.6774\n",
            "Epoch 6/100\n",
            "469/469 [==============================] - 3s 7ms/step - loss: 0.6653 - val_loss: 0.6460\n",
            "Epoch 7/100\n",
            "469/469 [==============================] - 3s 7ms/step - loss: 0.5926 - val_loss: 0.5167\n",
            "Epoch 8/100\n",
            "469/469 [==============================] - 3s 7ms/step - loss: 0.4685 - val_loss: 0.4574\n",
            "Epoch 9/100\n",
            "469/469 [==============================] - 3s 7ms/step - loss: 0.4499 - val_loss: 0.4513\n",
            "Epoch 10/100\n",
            "469/469 [==============================] - 3s 7ms/step - loss: 0.4444 - val_loss: 0.4461\n",
            "Epoch 11/100\n",
            "469/469 [==============================] - 3s 7ms/step - loss: 0.4395 - val_loss: 0.4414\n",
            "Epoch 12/100\n",
            "469/469 [==============================] - 3s 7ms/step - loss: 0.4350 - val_loss: 0.4370\n",
            "Epoch 13/100\n",
            "469/469 [==============================] - 3s 7ms/step - loss: 0.4307 - val_loss: 0.4326\n",
            "Epoch 14/100\n",
            "469/469 [==============================] - 3s 7ms/step - loss: 0.4262 - val_loss: 0.4278\n",
            "Epoch 15/100\n",
            "469/469 [==============================] - 3s 7ms/step - loss: 0.4212 - val_loss: 0.4225\n",
            "Epoch 16/100\n",
            "469/469 [==============================] - 3s 7ms/step - loss: 0.4158 - val_loss: 0.4170\n",
            "Epoch 17/100\n",
            "469/469 [==============================] - 3s 7ms/step - loss: 0.4102 - val_loss: 0.4111\n",
            "Epoch 18/100\n",
            "469/469 [==============================] - 3s 7ms/step - loss: 0.4040 - val_loss: 0.4043\n",
            "Epoch 19/100\n",
            "469/469 [==============================] - 3s 7ms/step - loss: 0.3968 - val_loss: 0.3963\n",
            "Epoch 20/100\n",
            "469/469 [==============================] - 3s 7ms/step - loss: 0.3880 - val_loss: 0.3863\n",
            "Epoch 21/100\n",
            "469/469 [==============================] - 3s 7ms/step - loss: 0.3769 - val_loss: 0.3734\n",
            "Epoch 22/100\n",
            "469/469 [==============================] - 3s 7ms/step - loss: 0.3634 - val_loss: 0.3592\n",
            "Epoch 23/100\n",
            "469/469 [==============================] - 3s 7ms/step - loss: 0.3500 - val_loss: 0.3460\n",
            "Epoch 24/100\n",
            "469/469 [==============================] - 3s 7ms/step - loss: 0.3387 - val_loss: 0.3358\n",
            "Epoch 25/100\n",
            "469/469 [==============================] - 3s 7ms/step - loss: 0.3294 - val_loss: 0.3269\n",
            "Epoch 26/100\n",
            "469/469 [==============================] - 3s 7ms/step - loss: 0.3215 - val_loss: 0.3195\n",
            "Epoch 27/100\n",
            "469/469 [==============================] - 3s 7ms/step - loss: 0.3152 - val_loss: 0.3138\n",
            "Epoch 28/100\n",
            "469/469 [==============================] - 3s 7ms/step - loss: 0.3102 - val_loss: 0.3091\n",
            "Epoch 29/100\n",
            "469/469 [==============================] - 3s 7ms/step - loss: 0.3061 - val_loss: 0.3052\n",
            "Epoch 30/100\n",
            "469/469 [==============================] - 3s 7ms/step - loss: 0.3027 - val_loss: 0.3021\n",
            "Epoch 31/100\n",
            "469/469 [==============================] - 3s 7ms/step - loss: 0.3000 - val_loss: 0.2994\n",
            "Epoch 32/100\n",
            "469/469 [==============================] - 3s 7ms/step - loss: 0.2976 - val_loss: 0.2971\n",
            "Epoch 33/100\n",
            "469/469 [==============================] - 3s 7ms/step - loss: 0.2955 - val_loss: 0.2951\n",
            "Epoch 34/100\n",
            "469/469 [==============================] - 3s 7ms/step - loss: 0.2938 - val_loss: 0.2934\n",
            "Epoch 35/100\n",
            "469/469 [==============================] - 3s 7ms/step - loss: 0.2922 - val_loss: 0.2918\n",
            "Epoch 36/100\n",
            "469/469 [==============================] - 3s 7ms/step - loss: 0.2907 - val_loss: 0.2904\n",
            "Epoch 37/100\n",
            "469/469 [==============================] - 3s 7ms/step - loss: 0.2894 - val_loss: 0.2890\n",
            "Epoch 38/100\n",
            "469/469 [==============================] - 3s 7ms/step - loss: 0.2881 - val_loss: 0.2877\n",
            "Epoch 39/100\n",
            "469/469 [==============================] - 4s 8ms/step - loss: 0.2869 - val_loss: 0.2865\n",
            "Epoch 40/100\n",
            "469/469 [==============================] - 4s 8ms/step - loss: 0.2857 - val_loss: 0.2853\n",
            "Epoch 41/100\n",
            "469/469 [==============================] - 4s 8ms/step - loss: 0.2846 - val_loss: 0.2842\n",
            "Epoch 42/100\n",
            "469/469 [==============================] - 3s 7ms/step - loss: 0.2835 - val_loss: 0.2830\n",
            "Epoch 43/100\n",
            "469/469 [==============================] - 3s 7ms/step - loss: 0.2824 - val_loss: 0.2820\n",
            "Epoch 44/100\n",
            "469/469 [==============================] - 3s 7ms/step - loss: 0.2815 - val_loss: 0.2811\n",
            "Epoch 45/100\n",
            "469/469 [==============================] - 3s 7ms/step - loss: 0.2805 - val_loss: 0.2801\n",
            "Epoch 46/100\n",
            "469/469 [==============================] - 3s 7ms/step - loss: 0.2797 - val_loss: 0.2793\n",
            "Epoch 47/100\n",
            "469/469 [==============================] - 3s 7ms/step - loss: 0.2789 - val_loss: 0.2785\n",
            "Epoch 48/100\n",
            "469/469 [==============================] - 3s 7ms/step - loss: 0.2781 - val_loss: 0.2777\n",
            "Epoch 49/100\n",
            "469/469 [==============================] - 3s 7ms/step - loss: 0.2774 - val_loss: 0.2770\n",
            "Epoch 50/100\n",
            "469/469 [==============================] - 3s 7ms/step - loss: 0.2767 - val_loss: 0.2763\n",
            "Epoch 51/100\n",
            "469/469 [==============================] - 3s 7ms/step - loss: 0.2761 - val_loss: 0.2757\n",
            "Epoch 52/100\n",
            "469/469 [==============================] - 3s 7ms/step - loss: 0.2755 - val_loss: 0.2751\n",
            "Epoch 53/100\n",
            "469/469 [==============================] - 3s 7ms/step - loss: 0.2749 - val_loss: 0.2745\n",
            "Epoch 54/100\n",
            "469/469 [==============================] - 3s 7ms/step - loss: 0.2744 - val_loss: 0.2740\n",
            "Epoch 55/100\n",
            "469/469 [==============================] - 3s 7ms/step - loss: 0.2738 - val_loss: 0.2735\n",
            "Epoch 56/100\n",
            "469/469 [==============================] - 3s 7ms/step - loss: 0.2734 - val_loss: 0.2730\n",
            "Epoch 57/100\n",
            "469/469 [==============================] - 3s 7ms/step - loss: 0.2729 - val_loss: 0.2726\n",
            "Epoch 58/100\n",
            "469/469 [==============================] - 3s 7ms/step - loss: 0.2725 - val_loss: 0.2722\n",
            "Epoch 59/100\n",
            "469/469 [==============================] - 3s 7ms/step - loss: 0.2721 - val_loss: 0.2718\n",
            "Epoch 60/100\n",
            "469/469 [==============================] - 3s 7ms/step - loss: 0.2717 - val_loss: 0.2714\n",
            "Epoch 61/100\n",
            "469/469 [==============================] - 3s 7ms/step - loss: 0.2714 - val_loss: 0.2711\n",
            "Epoch 62/100\n",
            "469/469 [==============================] - 3s 7ms/step - loss: 0.2711 - val_loss: 0.2708\n",
            "Epoch 63/100\n",
            "469/469 [==============================] - 3s 7ms/step - loss: 0.2708 - val_loss: 0.2705\n",
            "Epoch 64/100\n",
            "469/469 [==============================] - 3s 7ms/step - loss: 0.2705 - val_loss: 0.2703\n",
            "Epoch 65/100\n",
            "469/469 [==============================] - 3s 7ms/step - loss: 0.2703 - val_loss: 0.2700\n",
            "Epoch 66/100\n",
            "469/469 [==============================] - 3s 7ms/step - loss: 0.2700 - val_loss: 0.2698\n",
            "Epoch 67/100\n",
            "469/469 [==============================] - 3s 7ms/step - loss: 0.2698 - val_loss: 0.2695\n",
            "Epoch 68/100\n",
            "469/469 [==============================] - 3s 7ms/step - loss: 0.2696 - val_loss: 0.2693\n",
            "Epoch 69/100\n",
            "469/469 [==============================] - 3s 7ms/step - loss: 0.2694 - val_loss: 0.2691\n",
            "Epoch 70/100\n",
            "469/469 [==============================] - 3s 7ms/step - loss: 0.2692 - val_loss: 0.2690\n",
            "Epoch 71/100\n",
            "469/469 [==============================] - 3s 7ms/step - loss: 0.2690 - val_loss: 0.2688\n",
            "Epoch 72/100\n",
            "469/469 [==============================] - 4s 7ms/step - loss: 0.2688 - val_loss: 0.2686\n",
            "Epoch 73/100\n",
            "469/469 [==============================] - 3s 7ms/step - loss: 0.2687 - val_loss: 0.2684\n",
            "Epoch 74/100\n",
            "469/469 [==============================] - 3s 7ms/step - loss: 0.2685 - val_loss: 0.2683\n",
            "Epoch 75/100\n",
            "469/469 [==============================] - 3s 7ms/step - loss: 0.2684 - val_loss: 0.2681\n",
            "Epoch 76/100\n",
            "469/469 [==============================] - 3s 7ms/step - loss: 0.2682 - val_loss: 0.2680\n",
            "Epoch 77/100\n",
            "469/469 [==============================] - 3s 7ms/step - loss: 0.2681 - val_loss: 0.2679\n",
            "Epoch 78/100\n",
            "469/469 [==============================] - 3s 7ms/step - loss: 0.2680 - val_loss: 0.2677\n",
            "Epoch 79/100\n",
            "469/469 [==============================] - 3s 7ms/step - loss: 0.2678 - val_loss: 0.2676\n",
            "Epoch 80/100\n",
            "469/469 [==============================] - 4s 8ms/step - loss: 0.2677 - val_loss: 0.2675\n",
            "Epoch 81/100\n",
            "469/469 [==============================] - 3s 7ms/step - loss: 0.2676 - val_loss: 0.2674\n",
            "Epoch 82/100\n",
            "469/469 [==============================] - 3s 7ms/step - loss: 0.2675 - val_loss: 0.2673\n",
            "Epoch 83/100\n",
            "469/469 [==============================] - 3s 7ms/step - loss: 0.2674 - val_loss: 0.2672\n",
            "Epoch 84/100\n",
            "469/469 [==============================] - 3s 7ms/step - loss: 0.2673 - val_loss: 0.2670\n",
            "Epoch 85/100\n",
            "469/469 [==============================] - 3s 7ms/step - loss: 0.2672 - val_loss: 0.2670\n",
            "Epoch 86/100\n",
            "469/469 [==============================] - 3s 7ms/step - loss: 0.2671 - val_loss: 0.2669\n",
            "Epoch 87/100\n",
            "469/469 [==============================] - 3s 7ms/step - loss: 0.2670 - val_loss: 0.2668\n",
            "Epoch 88/100\n",
            "469/469 [==============================] - 3s 7ms/step - loss: 0.2669 - val_loss: 0.2667\n",
            "Epoch 89/100\n",
            "469/469 [==============================] - 3s 7ms/step - loss: 0.2668 - val_loss: 0.2666\n",
            "Epoch 90/100\n",
            "469/469 [==============================] - 3s 7ms/step - loss: 0.2667 - val_loss: 0.2665\n",
            "Epoch 91/100\n",
            "469/469 [==============================] - 3s 7ms/step - loss: 0.2666 - val_loss: 0.2664\n",
            "Epoch 92/100\n",
            "469/469 [==============================] - 3s 7ms/step - loss: 0.2666 - val_loss: 0.2664\n",
            "Epoch 93/100\n",
            "469/469 [==============================] - 3s 7ms/step - loss: 0.2665 - val_loss: 0.2663\n",
            "Epoch 94/100\n",
            "469/469 [==============================] - 4s 7ms/step - loss: 0.2664 - val_loss: 0.2662\n",
            "Epoch 95/100\n",
            "469/469 [==============================] - 4s 7ms/step - loss: 0.2664 - val_loss: 0.2662\n",
            "Epoch 96/100\n",
            "469/469 [==============================] - 3s 7ms/step - loss: 0.2663 - val_loss: 0.2661\n",
            "Epoch 97/100\n",
            "469/469 [==============================] - 3s 7ms/step - loss: 0.2662 - val_loss: 0.2660\n",
            "Epoch 98/100\n",
            "469/469 [==============================] - 4s 8ms/step - loss: 0.2662 - val_loss: 0.2660\n",
            "Epoch 99/100\n",
            "469/469 [==============================] - 4s 8ms/step - loss: 0.2661 - val_loss: 0.2659\n",
            "Epoch 100/100\n",
            "469/469 [==============================] - 3s 7ms/step - loss: 0.2660 - val_loss: 0.2658\n"
          ],
          "name": "stdout"
        },
        {
          "output_type": "execute_result",
          "data": {
            "text/plain": [
              "<tensorflow.python.keras.callbacks.History at 0x7fa5ad1e4ba8>"
            ]
          },
          "metadata": {
            "tags": []
          },
          "execution_count": 39
        }
      ]
    },
    {
      "cell_type": "code",
      "metadata": {
        "id": "PkjNFDzbRWJ_",
        "colab_type": "code",
        "outputId": "cc8a0834-ce90-44f2-f754-d7c91ca7be8e",
        "colab": {
          "base_uri": "https://localhost:8080/",
          "height": 248
        }
      },
      "source": [
        "decoded_imgs = autoencoder.predict(x_test_noisy)\n",
        "\n",
        "n = 10\n",
        "plt.figure(figsize=(20, 4))\n",
        "for i in range(n):\n",
        "    # display original\n",
        "    ax = plt.subplot(2, n, i+1)\n",
        "    plt.imshow(x_test_noisy[i].reshape(28, 28))\n",
        "    plt.gray()\n",
        "    ax.get_xaxis().set_visible(False)\n",
        "    ax.get_yaxis().set_visible(False)\n",
        "\n",
        "    # display reconstruction\n",
        "    ax = plt.subplot(2, n, i + 1 + n)\n",
        "    plt.imshow(decoded_imgs[i].reshape(28, 28))\n",
        "    plt.gray()\n",
        "    ax.get_xaxis().set_visible(False)\n",
        "    ax.get_yaxis().set_visible(False)\n",
        "plt.show()"
      ],
      "execution_count": 0,
      "outputs": [
        {
          "output_type": "display_data",
          "data": {
            "image/png": "[encoded data removed]",
            "text/plain": [
              "<Figure size 1440x288 with 20 Axes>"
            ]
          },
          "metadata": {
            "tags": [],
            "needs_background": "light"
          }
        }
      ]
    },
    {
      "cell_type": "markdown",
      "metadata": {
        "id": "I42R6xsrMW5a",
        "colab_type": "text"
      },
      "source": [
        "### **CNN MODEL OPTIMIZED**"
      ]
    },
    {
      "cell_type": "code",
      "metadata": {
        "id": "K6NoPoswMawB",
        "colab_type": "code",
        "colab": {
          "base_uri": "https://localhost:8080/",
          "height": 849
        },
        "outputId": "d454fd4d-b027-4aa5-fb4f-7a0ba0f7243d"
      },
      "source": [
        "\n",
        "#################################################################################################\n",
        "#########                        CNN MODEL OPTIMIZED                                     ########\n",
        "#################################################################################################\n",
        "\n",
        "input_img = tf.keras.layers.Input(shape=(28, 28, 1))\n",
        "\n",
        "# The encoder contains 3 convolutional, 2 max pooling layers, dense layer and batch normalization after every convolutional layer \n",
        "x = tf.keras.layers.Conv2D(16, (5, 5), activation='relu', padding='same')(input_img)\n",
        "x = tf.keras.layers.BatchNormalization()(x)\n",
        "x = tf.keras.layers.MaxPooling2D((2, 2), padding='same')(x)\n",
        "x = tf.keras.layers.Conv2D(8, (5, 5), activation='relu', padding='same')(x)\n",
        "x = tf.keras.layers.BatchNormalization()(x)\n",
        "x = tf.keras.layers.MaxPooling2D((2, 2), padding='same')(x)\n",
        "x = tf.keras.layers.Conv2D(4, (5, 5), activation='relu', padding='same')(x)\n",
        "x = tf.keras.layers.BatchNormalization()(x)\n",
        "encoded = tf.keras.layers.MaxPooling2D((2, 2), padding='same')(x)\n",
        "\n",
        "# The decoder contains 3 convolutional, 2 up sampling layers, dense layer and batch normalization after every convolutional layer \n",
        "x = tf.keras.layers.Conv2D(8, (5, 5), activation='relu', padding='same')(encoded)\n",
        "x = tf.keras.layers.UpSampling2D((2, 2))(x)\n",
        "x = tf.keras.layers.BatchNormalization()(x)\n",
        "x = tf.keras.layers.Conv2D(16, (3, 3), activation='relu',padding = 'same')(x)\n",
        "x = tf.keras.layers.UpSampling2D((2, 2))(x)\n",
        "x = tf.keras.layers.BatchNormalization()(x)\n",
        "x = tf.keras.layers.Conv2D(16, (3, 3), activation='relu', padding='same')(x)\n",
        "x = tf.keras.layers.UpSampling2D((2, 2))(x)\n",
        "x = tf.keras.layers.BatchNormalization()(x)\n",
        "decoded = tf.keras.layers.Conv2D(1, (5, 5), activation='sigmoid')(x)\n",
        "\n",
        "autoencoder = tf.keras.models.Model(input_img, decoded)\n",
        "optimizer = tf.keras.optimizers.Adam(lr=0.001)\n",
        "autoencoder.compile(optimizer=optimizer, loss='binary_crossentropy')\n",
        "autoencoder.summary()"
      ],
      "execution_count": 33,
      "outputs": [
        {
          "output_type": "stream",
          "text": [
            "Model: \"model_20\"\n",
            "_________________________________________________________________\n",
            "Layer (type)                 Output Shape              Param #   \n",
            "=================================================================\n",
            "input_22 (InputLayer)        [(None, 28, 28, 1)]       0         \n",
            "_________________________________________________________________\n",
            "conv2d_143 (Conv2D)          (None, 28, 28, 16)        416       \n",
            "_________________________________________________________________\n",
            "batch_normalization_116 (Bat (None, 28, 28, 16)        64        \n",
            "_________________________________________________________________\n",
            "max_pooling2d_60 (MaxPooling (None, 14, 14, 16)        0         \n",
            "_________________________________________________________________\n",
            "conv2d_144 (Conv2D)          (None, 14, 14, 8)         3208      \n",
            "_________________________________________________________________\n",
            "batch_normalization_117 (Bat (None, 14, 14, 8)         32        \n",
            "_________________________________________________________________\n",
            "max_pooling2d_61 (MaxPooling (None, 7, 7, 8)           0         \n",
            "_________________________________________________________________\n",
            "conv2d_145 (Conv2D)          (None, 7, 7, 4)           804       \n",
            "_________________________________________________________________\n",
            "batch_normalization_118 (Bat (None, 7, 7, 4)           16        \n",
            "_________________________________________________________________\n",
            "max_pooling2d_62 (MaxPooling (None, 4, 4, 4)           0         \n",
            "_________________________________________________________________\n",
            "conv2d_146 (Conv2D)          (None, 4, 4, 8)           808       \n",
            "_________________________________________________________________\n",
            "up_sampling2d_57 (UpSampling (None, 8, 8, 8)           0         \n",
            "_________________________________________________________________\n",
            "batch_normalization_119 (Bat (None, 8, 8, 8)           32        \n",
            "_________________________________________________________________\n",
            "conv2d_147 (Conv2D)          (None, 8, 8, 16)          1168      \n",
            "_________________________________________________________________\n",
            "up_sampling2d_58 (UpSampling (None, 16, 16, 16)        0         \n",
            "_________________________________________________________________\n",
            "batch_normalization_120 (Bat (None, 16, 16, 16)        64        \n",
            "_________________________________________________________________\n",
            "conv2d_148 (Conv2D)          (None, 16, 16, 16)        2320      \n",
            "_________________________________________________________________\n",
            "up_sampling2d_59 (UpSampling (None, 32, 32, 16)        0         \n",
            "_________________________________________________________________\n",
            "batch_normalization_121 (Bat (None, 32, 32, 16)        64        \n",
            "_________________________________________________________________\n",
            "conv2d_149 (Conv2D)          (None, 28, 28, 1)         401       \n",
            "=================================================================\n",
            "Total params: 9,397\n",
            "Trainable params: 9,261\n",
            "Non-trainable params: 136\n",
            "_________________________________________________________________\n"
          ],
          "name": "stdout"
        }
      ]
    },
    {
      "cell_type": "code",
      "metadata": {
        "id": "CA3zvvuaMkvw",
        "colab_type": "code",
        "colab": {}
      },
      "source": [
        "from keras.datasets import mnist\n",
        "(x_train, _), (x_test, _) = mnist.load_data()\n",
        "\n",
        "x_train = x_train.astype('float32') / 255.\n",
        "x_test = x_test.astype('float32') / 255.\n",
        "x_train = np.reshape(x_train, (len(x_train), 28, 28, 1))\n",
        "x_test = np.reshape(x_test, (len(x_test), 28, 28, 1))\n",
        "\n",
        "# Introduce noise with a probability factor of 0.5\n",
        "noise_factor = 0.5\n",
        "x_train_noisy = x_train + noise_factor + np.random.normal(loc=0.0, scale=1.0, size=x_train.shape)\n",
        "x_test_noisy = x_test + noise_factor + np.random.normal(loc=0.0, scale=1.0, size=x_test.shape)\n",
        "\n",
        "x_train_noisy = np.clip(x_train_noisy, 0., 1.)\n",
        "x_test_noisy = np.clip(x_test_noisy, 0., 1.)\n"
      ],
      "execution_count": 0,
      "outputs": []
    },
    {
      "cell_type": "code",
      "metadata": {
        "id": "3Fqb-DY-MshW",
        "colab_type": "code",
        "outputId": "c159dd21-ca78-4c1c-f66b-9b50aecf32f1",
        "colab": {
          "base_uri": "https://localhost:8080/",
          "height": 1000
        }
      },
      "source": [
        "autoencoder.fit(x_train_noisy, x_train, epochs=100, batch_size=128, \n",
        "                shuffle=True, validation_data=(x_test_noisy, x_test), \n",
        "                callbacks=[tf.keras.callbacks.TensorBoard(log_dir='./tmp/tb', histogram_freq=0, write_graph=False)])"
      ],
      "execution_count": 35,
      "outputs": [
        {
          "output_type": "stream",
          "text": [
            "Epoch 1/100\n",
            "469/469 [==============================] - 4s 8ms/step - loss: 0.2453 - val_loss: 0.2037\n",
            "Epoch 2/100\n",
            "469/469 [==============================] - 3s 7ms/step - loss: 0.1938 - val_loss: 0.1914\n",
            "Epoch 3/100\n",
            "469/469 [==============================] - 3s 7ms/step - loss: 0.1854 - val_loss: 0.1818\n",
            "Epoch 4/100\n",
            "469/469 [==============================] - 3s 7ms/step - loss: 0.1809 - val_loss: 0.1791\n",
            "Epoch 5/100\n",
            "469/469 [==============================] - 3s 7ms/step - loss: 0.1782 - val_loss: 0.1766\n",
            "Epoch 6/100\n",
            "469/469 [==============================] - 3s 7ms/step - loss: 0.1763 - val_loss: 0.1782\n",
            "Epoch 7/100\n",
            "469/469 [==============================] - 3s 7ms/step - loss: 0.1750 - val_loss: 0.1748\n",
            "Epoch 8/100\n",
            "469/469 [==============================] - 3s 7ms/step - loss: 0.1739 - val_loss: 0.1733\n",
            "Epoch 9/100\n",
            "469/469 [==============================] - 3s 7ms/step - loss: 0.1729 - val_loss: 0.1725\n",
            "Epoch 10/100\n",
            "469/469 [==============================] - 3s 7ms/step - loss: 0.1721 - val_loss: 0.1718\n",
            "Epoch 11/100\n",
            "469/469 [==============================] - 3s 7ms/step - loss: 0.1714 - val_loss: 0.1769\n",
            "Epoch 12/100\n",
            "469/469 [==============================] - 3s 7ms/step - loss: 0.1708 - val_loss: 0.1710\n",
            "Epoch 13/100\n",
            "469/469 [==============================] - 3s 7ms/step - loss: 0.1704 - val_loss: 0.1777\n",
            "Epoch 14/100\n",
            "469/469 [==============================] - 3s 7ms/step - loss: 0.1700 - val_loss: 0.1686\n",
            "Epoch 15/100\n",
            "469/469 [==============================] - 3s 7ms/step - loss: 0.1696 - val_loss: 0.1717\n",
            "Epoch 16/100\n",
            "469/469 [==============================] - 3s 7ms/step - loss: 0.1692 - val_loss: 0.1708\n",
            "Epoch 17/100\n",
            "469/469 [==============================] - 3s 7ms/step - loss: 0.1689 - val_loss: 0.1687\n",
            "Epoch 18/100\n",
            "469/469 [==============================] - 3s 7ms/step - loss: 0.1686 - val_loss: 0.1683\n",
            "Epoch 19/100\n",
            "469/469 [==============================] - 3s 7ms/step - loss: 0.1683 - val_loss: 0.1676\n",
            "Epoch 20/100\n",
            "469/469 [==============================] - 3s 7ms/step - loss: 0.1681 - val_loss: 0.1676\n",
            "Epoch 21/100\n",
            "469/469 [==============================] - 3s 7ms/step - loss: 0.1677 - val_loss: 0.1678\n",
            "Epoch 22/100\n",
            "469/469 [==============================] - 3s 7ms/step - loss: 0.1676 - val_loss: 0.1678\n",
            "Epoch 23/100\n",
            "469/469 [==============================] - 3s 7ms/step - loss: 0.1673 - val_loss: 0.1658\n",
            "Epoch 24/100\n",
            "469/469 [==============================] - 3s 7ms/step - loss: 0.1671 - val_loss: 0.1680\n",
            "Epoch 25/100\n",
            "469/469 [==============================] - 3s 7ms/step - loss: 0.1670 - val_loss: 0.1689\n",
            "Epoch 26/100\n",
            "469/469 [==============================] - 3s 7ms/step - loss: 0.1669 - val_loss: 0.1663\n",
            "Epoch 27/100\n",
            "469/469 [==============================] - 3s 7ms/step - loss: 0.1667 - val_loss: 0.1672\n",
            "Epoch 28/100\n",
            "469/469 [==============================] - 3s 7ms/step - loss: 0.1665 - val_loss: 0.1669\n",
            "Epoch 29/100\n",
            "469/469 [==============================] - 3s 7ms/step - loss: 0.1664 - val_loss: 0.1661\n",
            "Epoch 30/100\n",
            "469/469 [==============================] - 3s 7ms/step - loss: 0.1661 - val_loss: 0.1661\n",
            "Epoch 31/100\n",
            "469/469 [==============================] - 3s 7ms/step - loss: 0.1660 - val_loss: 0.1665\n",
            "Epoch 32/100\n",
            "469/469 [==============================] - 3s 7ms/step - loss: 0.1659 - val_loss: 0.1661\n",
            "Epoch 33/100\n",
            "469/469 [==============================] - 3s 7ms/step - loss: 0.1659 - val_loss: 0.1648\n",
            "Epoch 34/100\n",
            "469/469 [==============================] - 3s 7ms/step - loss: 0.1656 - val_loss: 0.1670\n",
            "Epoch 35/100\n",
            "469/469 [==============================] - 3s 7ms/step - loss: 0.1656 - val_loss: 0.1650\n",
            "Epoch 36/100\n",
            "469/469 [==============================] - 3s 7ms/step - loss: 0.1655 - val_loss: 0.1645\n",
            "Epoch 37/100\n",
            "469/469 [==============================] - 3s 7ms/step - loss: 0.1654 - val_loss: 0.1649\n",
            "Epoch 38/100\n",
            "469/469 [==============================] - 3s 7ms/step - loss: 0.1652 - val_loss: 0.1642\n",
            "Epoch 39/100\n",
            "469/469 [==============================] - 3s 7ms/step - loss: 0.1652 - val_loss: 0.1650\n",
            "Epoch 40/100\n",
            "469/469 [==============================] - 3s 7ms/step - loss: 0.1650 - val_loss: 0.1669\n",
            "Epoch 41/100\n",
            "469/469 [==============================] - 3s 7ms/step - loss: 0.1648 - val_loss: 0.1705\n",
            "Epoch 42/100\n",
            "469/469 [==============================] - 3s 7ms/step - loss: 0.1648 - val_loss: 0.1664\n",
            "Epoch 43/100\n",
            "469/469 [==============================] - 3s 7ms/step - loss: 0.1647 - val_loss: 0.1699\n",
            "Epoch 44/100\n",
            "469/469 [==============================] - 3s 7ms/step - loss: 0.1648 - val_loss: 0.1637\n",
            "Epoch 45/100\n",
            "469/469 [==============================] - 3s 7ms/step - loss: 0.1645 - val_loss: 0.1639\n",
            "Epoch 46/100\n",
            "469/469 [==============================] - 3s 7ms/step - loss: 0.1645 - val_loss: 0.1648\n",
            "Epoch 47/100\n",
            "469/469 [==============================] - 3s 7ms/step - loss: 0.1645 - val_loss: 0.1646\n",
            "Epoch 48/100\n",
            "469/469 [==============================] - 3s 7ms/step - loss: 0.1643 - val_loss: 0.1638\n",
            "Epoch 49/100\n",
            "469/469 [==============================] - 3s 7ms/step - loss: 0.1643 - val_loss: 0.1717\n",
            "Epoch 50/100\n",
            "469/469 [==============================] - 3s 7ms/step - loss: 0.1642 - val_loss: 0.1632\n",
            "Epoch 51/100\n",
            "469/469 [==============================] - 4s 7ms/step - loss: 0.1641 - val_loss: 0.1632\n",
            "Epoch 52/100\n",
            "469/469 [==============================] - 3s 7ms/step - loss: 0.1640 - val_loss: 0.1636\n",
            "Epoch 53/100\n",
            "469/469 [==============================] - 3s 7ms/step - loss: 0.1640 - val_loss: 0.1655\n",
            "Epoch 54/100\n",
            "469/469 [==============================] - 3s 7ms/step - loss: 0.1639 - val_loss: 0.1651\n",
            "Epoch 55/100\n",
            "469/469 [==============================] - 3s 7ms/step - loss: 0.1639 - val_loss: 0.1634\n",
            "Epoch 56/100\n",
            "469/469 [==============================] - 3s 7ms/step - loss: 0.1638 - val_loss: 0.1632\n",
            "Epoch 57/100\n",
            "469/469 [==============================] - 3s 7ms/step - loss: 0.1638 - val_loss: 0.1640\n",
            "Epoch 58/100\n",
            "469/469 [==============================] - 3s 7ms/step - loss: 0.1637 - val_loss: 0.1662\n",
            "Epoch 59/100\n",
            "469/469 [==============================] - 3s 7ms/step - loss: 0.1637 - val_loss: 0.1628\n",
            "Epoch 60/100\n",
            "469/469 [==============================] - 3s 7ms/step - loss: 0.1636 - val_loss: 0.1633\n",
            "Epoch 61/100\n",
            "469/469 [==============================] - 3s 7ms/step - loss: 0.1636 - val_loss: 0.1640\n",
            "Epoch 62/100\n",
            "469/469 [==============================] - 3s 7ms/step - loss: 0.1636 - val_loss: 0.1642\n",
            "Epoch 63/100\n",
            "469/469 [==============================] - 3s 7ms/step - loss: 0.1635 - val_loss: 0.1667\n",
            "Epoch 64/100\n",
            "469/469 [==============================] - 3s 7ms/step - loss: 0.1635 - val_loss: 0.1631\n",
            "Epoch 65/100\n",
            "469/469 [==============================] - 3s 7ms/step - loss: 0.1634 - val_loss: 0.1642\n",
            "Epoch 66/100\n",
            "469/469 [==============================] - 3s 7ms/step - loss: 0.1634 - val_loss: 0.1644\n",
            "Epoch 67/100\n",
            "469/469 [==============================] - 3s 7ms/step - loss: 0.1633 - val_loss: 0.1641\n",
            "Epoch 68/100\n",
            "469/469 [==============================] - 3s 7ms/step - loss: 0.1634 - val_loss: 0.1622\n",
            "Epoch 69/100\n",
            "469/469 [==============================] - 3s 7ms/step - loss: 0.1633 - val_loss: 0.1625\n",
            "Epoch 70/100\n",
            "469/469 [==============================] - 3s 7ms/step - loss: 0.1633 - val_loss: 0.1627\n",
            "Epoch 71/100\n",
            "469/469 [==============================] - 3s 7ms/step - loss: 0.1633 - val_loss: 0.1635\n",
            "Epoch 72/100\n",
            "469/469 [==============================] - 3s 7ms/step - loss: 0.1631 - val_loss: 0.1640\n",
            "Epoch 73/100\n",
            "469/469 [==============================] - 3s 7ms/step - loss: 0.1631 - val_loss: 0.1625\n",
            "Epoch 74/100\n",
            "469/469 [==============================] - 3s 7ms/step - loss: 0.1631 - val_loss: 0.1626\n",
            "Epoch 75/100\n",
            "469/469 [==============================] - 3s 7ms/step - loss: 0.1631 - val_loss: 0.1636\n",
            "Epoch 76/100\n",
            "469/469 [==============================] - 3s 7ms/step - loss: 0.1630 - val_loss: 0.1631\n",
            "Epoch 77/100\n",
            "469/469 [==============================] - 3s 7ms/step - loss: 0.1630 - val_loss: 0.1634\n",
            "Epoch 78/100\n",
            "469/469 [==============================] - 3s 7ms/step - loss: 0.1630 - val_loss: 0.1632\n",
            "Epoch 79/100\n",
            "469/469 [==============================] - 3s 7ms/step - loss: 0.1630 - val_loss: 0.1625\n",
            "Epoch 80/100\n",
            "469/469 [==============================] - 3s 7ms/step - loss: 0.1630 - val_loss: 0.1650\n",
            "Epoch 81/100\n",
            "469/469 [==============================] - 3s 7ms/step - loss: 0.1629 - val_loss: 0.1650\n",
            "Epoch 82/100\n",
            "469/469 [==============================] - 3s 7ms/step - loss: 0.1628 - val_loss: 0.1630\n",
            "Epoch 83/100\n",
            "469/469 [==============================] - 3s 7ms/step - loss: 0.1628 - val_loss: 0.1652\n",
            "Epoch 84/100\n",
            "469/469 [==============================] - 3s 7ms/step - loss: 0.1627 - val_loss: 0.1635\n",
            "Epoch 85/100\n",
            "469/469 [==============================] - 3s 7ms/step - loss: 0.1629 - val_loss: 0.1625\n",
            "Epoch 86/100\n",
            "469/469 [==============================] - 3s 7ms/step - loss: 0.1627 - val_loss: 0.1625\n",
            "Epoch 87/100\n",
            "469/469 [==============================] - 3s 7ms/step - loss: 0.1627 - val_loss: 0.1645\n",
            "Epoch 88/100\n",
            "469/469 [==============================] - 3s 7ms/step - loss: 0.1628 - val_loss: 0.1627\n",
            "Epoch 89/100\n",
            "469/469 [==============================] - 3s 7ms/step - loss: 0.1626 - val_loss: 0.1665\n",
            "Epoch 90/100\n",
            "469/469 [==============================] - 3s 7ms/step - loss: 0.1627 - val_loss: 0.1626\n",
            "Epoch 91/100\n",
            "469/469 [==============================] - 3s 7ms/step - loss: 0.1626 - val_loss: 0.1632\n",
            "Epoch 92/100\n",
            "469/469 [==============================] - 3s 7ms/step - loss: 0.1626 - val_loss: 0.1627\n",
            "Epoch 93/100\n",
            "469/469 [==============================] - 3s 7ms/step - loss: 0.1625 - val_loss: 0.1621\n",
            "Epoch 94/100\n",
            "469/469 [==============================] - 3s 7ms/step - loss: 0.1626 - val_loss: 0.1622\n",
            "Epoch 95/100\n",
            "469/469 [==============================] - 3s 7ms/step - loss: 0.1626 - val_loss: 0.1622\n",
            "Epoch 96/100\n",
            "469/469 [==============================] - 3s 7ms/step - loss: 0.1625 - val_loss: 0.1623\n",
            "Epoch 97/100\n",
            "469/469 [==============================] - 3s 7ms/step - loss: 0.1625 - val_loss: 0.1625\n",
            "Epoch 98/100\n",
            "469/469 [==============================] - 3s 7ms/step - loss: 0.1625 - val_loss: 0.1627\n",
            "Epoch 99/100\n",
            "469/469 [==============================] - 3s 7ms/step - loss: 0.1625 - val_loss: 0.1647\n",
            "Epoch 100/100\n",
            "469/469 [==============================] - 3s 7ms/step - loss: 0.1624 - val_loss: 0.1625\n"
          ],
          "name": "stdout"
        },
        {
          "output_type": "execute_result",
          "data": {
            "text/plain": [
              "<tensorflow.python.keras.callbacks.History at 0x7fae43865668>"
            ]
          },
          "metadata": {
            "tags": []
          },
          "execution_count": 35
        }
      ]
    },
    {
      "cell_type": "code",
      "metadata": {
        "id": "tPeH8-g3MvzX",
        "colab_type": "code",
        "outputId": "9c46d9e0-df5b-44ca-f0e9-d04c1221766a",
        "colab": {
          "base_uri": "https://localhost:8080/",
          "height": 248
        }
      },
      "source": [
        "decoded_imgs = autoencoder.predict(x_test_noisy)\n",
        "\n",
        "n = 10\n",
        "plt.figure(figsize=(20, 4))\n",
        "for i in range(n):\n",
        "    # display original\n",
        "    ax = plt.subplot(2, n, i+1)\n",
        "    plt.imshow(x_test_noisy[i].reshape(28, 28))\n",
        "    plt.gray()\n",
        "    ax.get_xaxis().set_visible(False)\n",
        "    ax.get_yaxis().set_visible(False)\n",
        "\n",
        "    # display reconstruction\n",
        "    ax = plt.subplot(2, n, i + 1 + n)\n",
        "    plt.imshow(decoded_imgs[i].reshape(28, 28))\n",
        "    plt.gray()\n",
        "    ax.get_xaxis().set_visible(False)\n",
        "    ax.get_yaxis().set_visible(False)\n",
        "plt.show()"
      ],
      "execution_count": 29,
      "outputs": [
        {
          "output_type": "display_data",
          "data": {
            "image/png": "[encoded data removed]",
            "text/plain": [
              "<Figure size 1440x288 with 20 Axes>"
            ]
          },
          "metadata": {
            "tags": [],
            "needs_background": "light"
          }
        }
      ]
    },
    {
      "cell_type": "code",
      "metadata": {
        "id": "i4J-9mPJCfZE",
        "colab_type": "code",
        "colab": {}
      },
      "source": [
        ""
      ],
      "execution_count": 0,
      "outputs": []
    }
  ]
}